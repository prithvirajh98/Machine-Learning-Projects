{
 "cells": [
  {
   "cell_type": "markdown",
   "id": "e34a7738",
   "metadata": {},
   "source": [
    "# <span style = 'color:Gold'> <i> <center> FLIGHT FARE PREDICTION </center> </i> </span>\n",
    "---\n",
    "\n",
    "   <span style = 'color : blue'> * **For this particular project the Dataset is in 2 seperate files (Data_train, Train_set).**\n",
    "    \n",
    "    \n",
    "   <span style = 'color : blue'>* **The Data Preprocessing is performed seperately for Training and Testing Dataset. This is done to avoid Data Leakage.**\n",
    "       \n",
    "   <span style = 'color : blue'>* **If the training and testing set were combined, during the model creating there is a chance that the model will be knowing some of the information about the test data, which might further lead to overfitting.**"
   ]
  },
  {
   "cell_type": "markdown",
   "id": "028a5796",
   "metadata": {},
   "source": [
    "## <span style = 'color:Green'> <i> TRAINING DATASET </i> </span>\n",
    "---"
   ]
  },
  {
   "cell_type": "markdown",
   "id": "8592459e",
   "metadata": {},
   "source": [
    "### <span style = 'color:Purple'> <i> IMPORTING NECESSARY LIBRARIES </i> </span>\n",
    "---"
   ]
  },
  {
   "cell_type": "code",
   "execution_count": 112,
   "id": "38741ce9",
   "metadata": {},
   "outputs": [],
   "source": [
    "import warnings\n",
    "import numpy as np\n",
    "import pandas as pd\n",
    "import seaborn as sns\n",
    "import matplotlib.pyplot as plt\n",
    "\n",
    "warnings.filterwarnings('ignore')\n",
    "pd.set_option('display.max_rows', None)\n",
    "pd.set_option('display.max_columns', None)\n",
    "\n",
    "sns.set()"
   ]
  },
  {
   "cell_type": "markdown",
   "id": "1f9b9501",
   "metadata": {},
   "source": [
    "### <span style = 'color:Purple'> <i> IMPORTING THE TRAINING DATASET </i> </span>\n",
    "---\n",
    "\n",
    "1. The dateset is in the excel format.\n",
    "   \n",
    "    \n",
    "   2. The pandas library has the function called \"read_excel\" that is used to load the data.\n",
    "   \n",
    "    \n",
    "   3. The <span style=\"color: red;\"> 'display.max_column' </span> is used to display all the columns in the dataset. "
   ]
  },
  {
   "cell_type": "code",
   "execution_count": 113,
   "id": "174477d1",
   "metadata": {},
   "outputs": [],
   "source": [
    "trainData = pd.read_excel(r'Datasets/Data_Train.xlsx')"
   ]
  },
  {
   "cell_type": "markdown",
   "id": "4e880cc2",
   "metadata": {},
   "source": [
    "---"
   ]
  },
  {
   "cell_type": "markdown",
   "id": "999bc3d6",
   "metadata": {},
   "source": [
    "### <span style = 'color:Purple'> <i> EXPLORATORY DATA ANALYSIS (EDA) OF TRAINING DATASET </i> </span>\n",
    "---"
   ]
  },
  {
   "cell_type": "markdown",
   "id": "ebdf7bc2",
   "metadata": {},
   "source": [
    "#### <span style = 'color:Orange'> * Head of the training dataset (Top 5 records of the dataset) </span>\n",
    "---\n",
    "\n",
    "   * The top 5 records of the training dataset"
   ]
  },
  {
   "cell_type": "code",
   "execution_count": 114,
   "id": "a7f9c51b",
   "metadata": {},
   "outputs": [
    {
     "name": "stdout",
     "output_type": "stream",
     "text": [
      "The top 5 records of the dataset: \n",
      "\n"
     ]
    },
    {
     "data": {
      "text/html": [
       "<div><div id=683e3108-9a81-4d88-8a32-af82518bef44 style=\"display:none; background-color:#9D6CFF; color:white; width:200px; height:30px; padding-left:5px; border-radius:4px; flex-direction:row; justify-content:space-around; align-items:center;\" onmouseover=\"this.style.backgroundColor='#BA9BF8'\" onmouseout=\"this.style.backgroundColor='#9D6CFF'\" onclick=\"window.commands?.execute('create-mitosheet-from-dataframe-output');\">See Full Dataframe in Mito</div> <script> if (window.commands?.hasCommand('create-mitosheet-from-dataframe-output')) document.getElementById('683e3108-9a81-4d88-8a32-af82518bef44').style.display = 'flex' </script> <table border=\"1\" class=\"dataframe\">\n",
       "  <thead>\n",
       "    <tr style=\"text-align: right;\">\n",
       "      <th></th>\n",
       "      <th>Airline</th>\n",
       "      <th>Date_of_Journey</th>\n",
       "      <th>Source</th>\n",
       "      <th>Destination</th>\n",
       "      <th>Route</th>\n",
       "      <th>Dep_Time</th>\n",
       "      <th>Arrival_Time</th>\n",
       "      <th>Duration</th>\n",
       "      <th>Total_Stops</th>\n",
       "      <th>Additional_Info</th>\n",
       "      <th>Price</th>\n",
       "    </tr>\n",
       "  </thead>\n",
       "  <tbody>\n",
       "    <tr>\n",
       "      <th>0</th>\n",
       "      <td>IndiGo</td>\n",
       "      <td>24/03/2019</td>\n",
       "      <td>Banglore</td>\n",
       "      <td>New Delhi</td>\n",
       "      <td>BLR → DEL</td>\n",
       "      <td>22:20</td>\n",
       "      <td>01:10 22 Mar</td>\n",
       "      <td>2h 50m</td>\n",
       "      <td>non-stop</td>\n",
       "      <td>No info</td>\n",
       "      <td>3897</td>\n",
       "    </tr>\n",
       "    <tr>\n",
       "      <th>1</th>\n",
       "      <td>Air India</td>\n",
       "      <td>1/05/2019</td>\n",
       "      <td>Kolkata</td>\n",
       "      <td>Banglore</td>\n",
       "      <td>CCU → IXR → BBI → BLR</td>\n",
       "      <td>05:50</td>\n",
       "      <td>13:15</td>\n",
       "      <td>7h 25m</td>\n",
       "      <td>2 stops</td>\n",
       "      <td>No info</td>\n",
       "      <td>7662</td>\n",
       "    </tr>\n",
       "    <tr>\n",
       "      <th>2</th>\n",
       "      <td>Jet Airways</td>\n",
       "      <td>9/06/2019</td>\n",
       "      <td>Delhi</td>\n",
       "      <td>Cochin</td>\n",
       "      <td>DEL → LKO → BOM → COK</td>\n",
       "      <td>09:25</td>\n",
       "      <td>04:25 10 Jun</td>\n",
       "      <td>19h</td>\n",
       "      <td>2 stops</td>\n",
       "      <td>No info</td>\n",
       "      <td>13882</td>\n",
       "    </tr>\n",
       "    <tr>\n",
       "      <th>3</th>\n",
       "      <td>IndiGo</td>\n",
       "      <td>12/05/2019</td>\n",
       "      <td>Kolkata</td>\n",
       "      <td>Banglore</td>\n",
       "      <td>CCU → NAG → BLR</td>\n",
       "      <td>18:05</td>\n",
       "      <td>23:30</td>\n",
       "      <td>5h 25m</td>\n",
       "      <td>1 stop</td>\n",
       "      <td>No info</td>\n",
       "      <td>6218</td>\n",
       "    </tr>\n",
       "    <tr>\n",
       "      <th>4</th>\n",
       "      <td>IndiGo</td>\n",
       "      <td>01/03/2019</td>\n",
       "      <td>Banglore</td>\n",
       "      <td>New Delhi</td>\n",
       "      <td>BLR → NAG → DEL</td>\n",
       "      <td>16:50</td>\n",
       "      <td>21:35</td>\n",
       "      <td>4h 45m</td>\n",
       "      <td>1 stop</td>\n",
       "      <td>No info</td>\n",
       "      <td>13302</td>\n",
       "    </tr>\n",
       "  </tbody>\n",
       "</table></div>"
      ],
      "text/plain": [
       "       Airline Date_of_Journey    Source Destination                  Route  \\\n",
       "0       IndiGo      24/03/2019  Banglore   New Delhi              BLR → DEL   \n",
       "1    Air India       1/05/2019   Kolkata    Banglore  CCU → IXR → BBI → BLR   \n",
       "2  Jet Airways       9/06/2019     Delhi      Cochin  DEL → LKO → BOM → COK   \n",
       "3       IndiGo      12/05/2019   Kolkata    Banglore        CCU → NAG → BLR   \n",
       "4       IndiGo      01/03/2019  Banglore   New Delhi        BLR → NAG → DEL   \n",
       "\n",
       "  Dep_Time  Arrival_Time Duration Total_Stops Additional_Info  Price  \n",
       "0    22:20  01:10 22 Mar   2h 50m    non-stop         No info   3897  \n",
       "1    05:50         13:15   7h 25m     2 stops         No info   7662  \n",
       "2    09:25  04:25 10 Jun      19h     2 stops         No info  13882  \n",
       "3    18:05         23:30   5h 25m      1 stop         No info   6218  \n",
       "4    16:50         21:35   4h 45m      1 stop         No info  13302  "
      ]
     },
     "execution_count": 114,
     "metadata": {},
     "output_type": "execute_result"
    }
   ],
   "source": [
    "print(f\"The top 5 records of the dataset: \")\n",
    "print()\n",
    "\n",
    "trainData.head()"
   ]
  },
  {
   "cell_type": "markdown",
   "id": "982143bc",
   "metadata": {},
   "source": [
    "#### <span style = 'color:Orange'> * Information about the dataset </span>\n",
    "---\n",
    "\n",
    "   * The info() function provides the basic information about the dataset like what type of data is present and so on."
   ]
  },
  {
   "cell_type": "code",
   "execution_count": 115,
   "id": "0335ef63",
   "metadata": {},
   "outputs": [
    {
     "name": "stdout",
     "output_type": "stream",
     "text": [
      "The basic information about the dataset :\n",
      "\n",
      "<class 'pandas.core.frame.DataFrame'>\n",
      "RangeIndex: 10683 entries, 0 to 10682\n",
      "Data columns (total 11 columns):\n",
      " #   Column           Non-Null Count  Dtype \n",
      "---  ------           --------------  ----- \n",
      " 0   Airline          10683 non-null  object\n",
      " 1   Date_of_Journey  10683 non-null  object\n",
      " 2   Source           10683 non-null  object\n",
      " 3   Destination      10683 non-null  object\n",
      " 4   Route            10682 non-null  object\n",
      " 5   Dep_Time         10683 non-null  object\n",
      " 6   Arrival_Time     10683 non-null  object\n",
      " 7   Duration         10683 non-null  object\n",
      " 8   Total_Stops      10682 non-null  object\n",
      " 9   Additional_Info  10683 non-null  object\n",
      " 10  Price            10683 non-null  int64 \n",
      "dtypes: int64(1), object(10)\n",
      "memory usage: 918.2+ KB\n"
     ]
    }
   ],
   "source": [
    "print(f\"The basic information about the dataset :\")\n",
    "print()\n",
    "\n",
    "trainData.info()"
   ]
  },
  {
   "cell_type": "markdown",
   "id": "32d65452",
   "metadata": {},
   "source": [
    "#### <span style = 'color:Orange'> Shape of the Training dataset </span>\n",
    "---"
   ]
  },
  {
   "cell_type": "code",
   "execution_count": 116,
   "id": "787d8fb6",
   "metadata": {},
   "outputs": [
    {
     "name": "stdout",
     "output_type": "stream",
     "text": [
      "Number of records and features of the dataset :\n",
      "\n"
     ]
    },
    {
     "data": {
      "text/plain": [
       "(10683, 11)"
      ]
     },
     "execution_count": 116,
     "metadata": {},
     "output_type": "execute_result"
    }
   ],
   "source": [
    "print(f\"Number of records and features of the dataset :\")\n",
    "print()\n",
    "\n",
    "trainData.shape"
   ]
  },
  {
   "cell_type": "markdown",
   "id": "bee9a75e",
   "metadata": {},
   "source": [
    "   <span style = 'color:Green'> * **The dataset contains 10683 observations(records) and 11 features.** </span>"
   ]
  },
  {
   "cell_type": "markdown",
   "id": "7b8fb1b7",
   "metadata": {},
   "source": [
    "#### <span style = 'color:Orange'> Checking for Missing / Null values in the dataset </span>\n",
    "---"
   ]
  },
  {
   "cell_type": "code",
   "execution_count": 117,
   "id": "64444fbf",
   "metadata": {},
   "outputs": [
    {
     "name": "stdout",
     "output_type": "stream",
     "text": [
      "Checking for missing / null values in the dataset:\n",
      "\n"
     ]
    },
    {
     "data": {
      "text/plain": [
       "Airline            0.00\n",
       "Date_of_Journey    0.00\n",
       "Source             0.00\n",
       "Destination        0.00\n",
       "Route              0.01\n",
       "Dep_Time           0.00\n",
       "Arrival_Time       0.00\n",
       "Duration           0.00\n",
       "Total_Stops        0.01\n",
       "Additional_Info    0.00\n",
       "Price              0.00\n",
       "dtype: float64"
      ]
     },
     "execution_count": 117,
     "metadata": {},
     "output_type": "execute_result"
    }
   ],
   "source": [
    "print(f\"Checking for missing / null values in the dataset:\")\n",
    "print()\n",
    "\n",
    "round((trainData.isnull().sum() / len(trainData) * 100), 2)"
   ]
  },
  {
   "cell_type": "markdown",
   "id": "2db5b460",
   "metadata": {},
   "source": [
    "#### <span style = 'color:Orange'> Removing(Dropping) the missing / null values </span>\n",
    "---"
   ]
  },
  {
   "cell_type": "code",
   "execution_count": 118,
   "id": "17d5f395",
   "metadata": {},
   "outputs": [],
   "source": [
    "trainData.dropna(inplace=True)"
   ]
  },
  {
   "cell_type": "markdown",
   "id": "14d34081",
   "metadata": {},
   "source": [
    "##### <span style = 'color:Indigo'> Re-Check for Missing / Null values after dropping </span>\n",
    "---"
   ]
  },
  {
   "cell_type": "code",
   "execution_count": 119,
   "id": "23bc8821",
   "metadata": {},
   "outputs": [
    {
     "name": "stdout",
     "output_type": "stream",
     "text": [
      "Re checking for missing variables after dropping the missing values :\n",
      "\n"
     ]
    },
    {
     "data": {
      "text/plain": [
       "Airline            0.0\n",
       "Date_of_Journey    0.0\n",
       "Source             0.0\n",
       "Destination        0.0\n",
       "Route              0.0\n",
       "Dep_Time           0.0\n",
       "Arrival_Time       0.0\n",
       "Duration           0.0\n",
       "Total_Stops        0.0\n",
       "Additional_Info    0.0\n",
       "Price              0.0\n",
       "dtype: float64"
      ]
     },
     "execution_count": 119,
     "metadata": {},
     "output_type": "execute_result"
    }
   ],
   "source": [
    "print(f\"Re checking for missing variables after dropping the missing values :\")\n",
    "print()\n",
    "\n",
    "round((trainData.isnull().sum() / len(trainData) * 100), 2)"
   ]
  },
  {
   "cell_type": "markdown",
   "id": "02b0b9b1",
   "metadata": {},
   "source": [
    "##### <span style = 'color:Indigo'> Shape of the dataset after removal of the missing / null values </span>\n",
    "---"
   ]
  },
  {
   "cell_type": "code",
   "execution_count": 120,
   "id": "92f2f2b2",
   "metadata": {},
   "outputs": [
    {
     "name": "stdout",
     "output_type": "stream",
     "text": [
      "Shape of the dataset after the removal of the missing values :\n",
      "\n"
     ]
    },
    {
     "data": {
      "text/plain": [
       "(10682, 11)"
      ]
     },
     "execution_count": 120,
     "metadata": {},
     "output_type": "execute_result"
    }
   ],
   "source": [
    "print(f\"Shape of the dataset after the removal of the missing values :\")\n",
    "print()\n",
    "\n",
    "trainData.shape"
   ]
  },
  {
   "cell_type": "markdown",
   "id": "618b3e91",
   "metadata": {},
   "source": [
    "---"
   ]
  },
  {
   "cell_type": "markdown",
   "id": "89d13fb2",
   "metadata": {},
   "source": [
    "### <span style = 'color:Purple'> <i> DATA PRE-PROCESSING OF THE TRAINING DATASET </i> </span>\n",
    "---"
   ]
  },
  {
   "cell_type": "markdown",
   "id": "98e4f223",
   "metadata": {},
   "source": [
    "#### <span style=\"color:Orange\"> 1. Date_of_Journey </span>\n",
    "\n",
    "   * The <span style=\"color:Red\">'Date_of_Journey'</span> column is a object data type (String). \n",
    "   \n",
    "   \n",
    "   * It should be converted into timestamp so that the column can be used for proper prediction. \n",
    "   \n",
    "   \n",
    "   * The pandas's **to_datetime()** function converts the oject dtype to datetime  dtype\n",
    "   \n",
    "      * The **<span style=\"color: green;\">'dt.day'** </span> is used to extract only the day from the date\n",
    "      \n",
    "      * The **<span style=\"color: green;\">'dt.month'** </span> is used to extract only the month from the date"
   ]
  },
  {
   "cell_type": "code",
   "execution_count": 121,
   "id": "1b78335e",
   "metadata": {},
   "outputs": [],
   "source": [
    "trainData['Day_of_Journey'] = pd.to_datetime(trainData.Date_of_Journey, format = \"%d/%m/%Y\").dt.day\n",
    "trainData['Month_of_Journey'] = pd.to_datetime(trainData['Date_of_Journey'], format = \"%d/%m/%Y\").dt.month"
   ]
  },
  {
   "cell_type": "markdown",
   "id": "5032a6b3",
   "metadata": {},
   "source": [
    "   * Now the **Day** and **Month** has been extracted from **Date_of_Journey** column, it can be dropped.\n",
    "   \n",
    "   \n",
    "   * The **Date_of_Journey** will be of no use for the further analysis process."
   ]
  },
  {
   "cell_type": "code",
   "execution_count": 122,
   "id": "8261c60a",
   "metadata": {},
   "outputs": [],
   "source": [
    "trainData.drop(['Date_of_Journey'], axis = 1, inplace = True)"
   ]
  },
  {
   "cell_type": "code",
   "execution_count": 123,
   "id": "141d9845",
   "metadata": {},
   "outputs": [
    {
     "data": {
      "text/html": [
       "<div><div id=84f63457-e5cb-4296-a092-7f52214a8383 style=\"display:none; background-color:#9D6CFF; color:white; width:200px; height:30px; padding-left:5px; border-radius:4px; flex-direction:row; justify-content:space-around; align-items:center;\" onmouseover=\"this.style.backgroundColor='#BA9BF8'\" onmouseout=\"this.style.backgroundColor='#9D6CFF'\" onclick=\"window.commands?.execute('create-mitosheet-from-dataframe-output');\">See Full Dataframe in Mito</div> <script> if (window.commands?.hasCommand('create-mitosheet-from-dataframe-output')) document.getElementById('84f63457-e5cb-4296-a092-7f52214a8383').style.display = 'flex' </script> <table border=\"1\" class=\"dataframe\">\n",
       "  <thead>\n",
       "    <tr style=\"text-align: right;\">\n",
       "      <th></th>\n",
       "      <th>Airline</th>\n",
       "      <th>Source</th>\n",
       "      <th>Destination</th>\n",
       "      <th>Route</th>\n",
       "      <th>Dep_Time</th>\n",
       "      <th>Arrival_Time</th>\n",
       "      <th>Duration</th>\n",
       "      <th>Total_Stops</th>\n",
       "      <th>Additional_Info</th>\n",
       "      <th>Price</th>\n",
       "      <th>Day_of_Journey</th>\n",
       "      <th>Month_of_Journey</th>\n",
       "    </tr>\n",
       "  </thead>\n",
       "  <tbody>\n",
       "    <tr>\n",
       "      <th>0</th>\n",
       "      <td>IndiGo</td>\n",
       "      <td>Banglore</td>\n",
       "      <td>New Delhi</td>\n",
       "      <td>BLR → DEL</td>\n",
       "      <td>22:20</td>\n",
       "      <td>01:10 22 Mar</td>\n",
       "      <td>2h 50m</td>\n",
       "      <td>non-stop</td>\n",
       "      <td>No info</td>\n",
       "      <td>3897</td>\n",
       "      <td>24</td>\n",
       "      <td>3</td>\n",
       "    </tr>\n",
       "    <tr>\n",
       "      <th>1</th>\n",
       "      <td>Air India</td>\n",
       "      <td>Kolkata</td>\n",
       "      <td>Banglore</td>\n",
       "      <td>CCU → IXR → BBI → BLR</td>\n",
       "      <td>05:50</td>\n",
       "      <td>13:15</td>\n",
       "      <td>7h 25m</td>\n",
       "      <td>2 stops</td>\n",
       "      <td>No info</td>\n",
       "      <td>7662</td>\n",
       "      <td>1</td>\n",
       "      <td>5</td>\n",
       "    </tr>\n",
       "    <tr>\n",
       "      <th>2</th>\n",
       "      <td>Jet Airways</td>\n",
       "      <td>Delhi</td>\n",
       "      <td>Cochin</td>\n",
       "      <td>DEL → LKO → BOM → COK</td>\n",
       "      <td>09:25</td>\n",
       "      <td>04:25 10 Jun</td>\n",
       "      <td>19h</td>\n",
       "      <td>2 stops</td>\n",
       "      <td>No info</td>\n",
       "      <td>13882</td>\n",
       "      <td>9</td>\n",
       "      <td>6</td>\n",
       "    </tr>\n",
       "    <tr>\n",
       "      <th>3</th>\n",
       "      <td>IndiGo</td>\n",
       "      <td>Kolkata</td>\n",
       "      <td>Banglore</td>\n",
       "      <td>CCU → NAG → BLR</td>\n",
       "      <td>18:05</td>\n",
       "      <td>23:30</td>\n",
       "      <td>5h 25m</td>\n",
       "      <td>1 stop</td>\n",
       "      <td>No info</td>\n",
       "      <td>6218</td>\n",
       "      <td>12</td>\n",
       "      <td>5</td>\n",
       "    </tr>\n",
       "    <tr>\n",
       "      <th>4</th>\n",
       "      <td>IndiGo</td>\n",
       "      <td>Banglore</td>\n",
       "      <td>New Delhi</td>\n",
       "      <td>BLR → NAG → DEL</td>\n",
       "      <td>16:50</td>\n",
       "      <td>21:35</td>\n",
       "      <td>4h 45m</td>\n",
       "      <td>1 stop</td>\n",
       "      <td>No info</td>\n",
       "      <td>13302</td>\n",
       "      <td>1</td>\n",
       "      <td>3</td>\n",
       "    </tr>\n",
       "  </tbody>\n",
       "</table></div>"
      ],
      "text/plain": [
       "       Airline    Source Destination                  Route Dep_Time  \\\n",
       "0       IndiGo  Banglore   New Delhi              BLR → DEL    22:20   \n",
       "1    Air India   Kolkata    Banglore  CCU → IXR → BBI → BLR    05:50   \n",
       "2  Jet Airways     Delhi      Cochin  DEL → LKO → BOM → COK    09:25   \n",
       "3       IndiGo   Kolkata    Banglore        CCU → NAG → BLR    18:05   \n",
       "4       IndiGo  Banglore   New Delhi        BLR → NAG → DEL    16:50   \n",
       "\n",
       "   Arrival_Time Duration Total_Stops Additional_Info  Price  Day_of_Journey  \\\n",
       "0  01:10 22 Mar   2h 50m    non-stop         No info   3897              24   \n",
       "1         13:15   7h 25m     2 stops         No info   7662               1   \n",
       "2  04:25 10 Jun      19h     2 stops         No info  13882               9   \n",
       "3         23:30   5h 25m      1 stop         No info   6218              12   \n",
       "4         21:35   4h 45m      1 stop         No info  13302               1   \n",
       "\n",
       "   Month_of_Journey  \n",
       "0                 3  \n",
       "1                 5  \n",
       "2                 6  \n",
       "3                 5  \n",
       "4                 3  "
      ]
     },
     "execution_count": 123,
     "metadata": {},
     "output_type": "execute_result"
    }
   ],
   "source": [
    "trainData.head()"
   ]
  },
  {
   "cell_type": "markdown",
   "id": "394952be",
   "metadata": {},
   "source": [
    "---"
   ]
  },
  {
   "cell_type": "markdown",
   "id": "3a86bc04",
   "metadata": {},
   "source": [
    "#### <span style=\"color: Orange\"> 2. Dep_Time </span>\n",
    "\n",
    "   * **<span style=\"color: Gold;\">Departure Time </span>** : It is the time when the plane leaves the gate\n",
    "   \n",
    "   \n",
    "   * Similar to the 'Date_of_Journey' column, hours and mins can be extracted from the 'Dep_Time' column\n",
    "   \n",
    "      * The **<span style=\"color: Blue;\">'dt.hour'** </span> is used to extract only the hours from the time\n",
    "      \n",
    "      * The **<span style=\"color: Blue;\">'dt.min'** </span> is used to extract only the mins from the time     "
   ]
  },
  {
   "cell_type": "code",
   "execution_count": 124,
   "id": "e5fbd069",
   "metadata": {},
   "outputs": [],
   "source": [
    "trainData['Departue_Hour'] = pd.to_datetime(trainData.Dep_Time).dt.hour\n",
    "trainData['Departure_Minute'] = pd.to_datetime(trainData['Dep_Time']).dt.minute"
   ]
  },
  {
   "cell_type": "markdown",
   "id": "269813e3",
   "metadata": {},
   "source": [
    "   * Now the **Hours** and **Minutes** has been extracted from **Dep_Time** column, it can be dropped.\n",
    "   \n",
    "   \n",
    "   * The **Dep_Time** will be of no use for the further analysis process."
   ]
  },
  {
   "cell_type": "code",
   "execution_count": 125,
   "id": "4dfcec9b",
   "metadata": {},
   "outputs": [],
   "source": [
    "trainData.drop(['Dep_Time'], axis = 1, inplace = True)"
   ]
  },
  {
   "cell_type": "code",
   "execution_count": 126,
   "id": "b071ebc2",
   "metadata": {},
   "outputs": [
    {
     "data": {
      "text/html": [
       "<div><div id=94466e27-8040-4c12-ad78-fae0f9ae588c style=\"display:none; background-color:#9D6CFF; color:white; width:200px; height:30px; padding-left:5px; border-radius:4px; flex-direction:row; justify-content:space-around; align-items:center;\" onmouseover=\"this.style.backgroundColor='#BA9BF8'\" onmouseout=\"this.style.backgroundColor='#9D6CFF'\" onclick=\"window.commands?.execute('create-mitosheet-from-dataframe-output');\">See Full Dataframe in Mito</div> <script> if (window.commands?.hasCommand('create-mitosheet-from-dataframe-output')) document.getElementById('94466e27-8040-4c12-ad78-fae0f9ae588c').style.display = 'flex' </script> <table border=\"1\" class=\"dataframe\">\n",
       "  <thead>\n",
       "    <tr style=\"text-align: right;\">\n",
       "      <th></th>\n",
       "      <th>Airline</th>\n",
       "      <th>Source</th>\n",
       "      <th>Destination</th>\n",
       "      <th>Route</th>\n",
       "      <th>Arrival_Time</th>\n",
       "      <th>Duration</th>\n",
       "      <th>Total_Stops</th>\n",
       "      <th>Additional_Info</th>\n",
       "      <th>Price</th>\n",
       "      <th>Day_of_Journey</th>\n",
       "      <th>Month_of_Journey</th>\n",
       "      <th>Departue_Hour</th>\n",
       "      <th>Departure_Minute</th>\n",
       "    </tr>\n",
       "  </thead>\n",
       "  <tbody>\n",
       "    <tr>\n",
       "      <th>0</th>\n",
       "      <td>IndiGo</td>\n",
       "      <td>Banglore</td>\n",
       "      <td>New Delhi</td>\n",
       "      <td>BLR → DEL</td>\n",
       "      <td>01:10 22 Mar</td>\n",
       "      <td>2h 50m</td>\n",
       "      <td>non-stop</td>\n",
       "      <td>No info</td>\n",
       "      <td>3897</td>\n",
       "      <td>24</td>\n",
       "      <td>3</td>\n",
       "      <td>22</td>\n",
       "      <td>20</td>\n",
       "    </tr>\n",
       "    <tr>\n",
       "      <th>1</th>\n",
       "      <td>Air India</td>\n",
       "      <td>Kolkata</td>\n",
       "      <td>Banglore</td>\n",
       "      <td>CCU → IXR → BBI → BLR</td>\n",
       "      <td>13:15</td>\n",
       "      <td>7h 25m</td>\n",
       "      <td>2 stops</td>\n",
       "      <td>No info</td>\n",
       "      <td>7662</td>\n",
       "      <td>1</td>\n",
       "      <td>5</td>\n",
       "      <td>5</td>\n",
       "      <td>50</td>\n",
       "    </tr>\n",
       "    <tr>\n",
       "      <th>2</th>\n",
       "      <td>Jet Airways</td>\n",
       "      <td>Delhi</td>\n",
       "      <td>Cochin</td>\n",
       "      <td>DEL → LKO → BOM → COK</td>\n",
       "      <td>04:25 10 Jun</td>\n",
       "      <td>19h</td>\n",
       "      <td>2 stops</td>\n",
       "      <td>No info</td>\n",
       "      <td>13882</td>\n",
       "      <td>9</td>\n",
       "      <td>6</td>\n",
       "      <td>9</td>\n",
       "      <td>25</td>\n",
       "    </tr>\n",
       "    <tr>\n",
       "      <th>3</th>\n",
       "      <td>IndiGo</td>\n",
       "      <td>Kolkata</td>\n",
       "      <td>Banglore</td>\n",
       "      <td>CCU → NAG → BLR</td>\n",
       "      <td>23:30</td>\n",
       "      <td>5h 25m</td>\n",
       "      <td>1 stop</td>\n",
       "      <td>No info</td>\n",
       "      <td>6218</td>\n",
       "      <td>12</td>\n",
       "      <td>5</td>\n",
       "      <td>18</td>\n",
       "      <td>5</td>\n",
       "    </tr>\n",
       "    <tr>\n",
       "      <th>4</th>\n",
       "      <td>IndiGo</td>\n",
       "      <td>Banglore</td>\n",
       "      <td>New Delhi</td>\n",
       "      <td>BLR → NAG → DEL</td>\n",
       "      <td>21:35</td>\n",
       "      <td>4h 45m</td>\n",
       "      <td>1 stop</td>\n",
       "      <td>No info</td>\n",
       "      <td>13302</td>\n",
       "      <td>1</td>\n",
       "      <td>3</td>\n",
       "      <td>16</td>\n",
       "      <td>50</td>\n",
       "    </tr>\n",
       "  </tbody>\n",
       "</table></div>"
      ],
      "text/plain": [
       "       Airline    Source Destination                  Route  Arrival_Time  \\\n",
       "0       IndiGo  Banglore   New Delhi              BLR → DEL  01:10 22 Mar   \n",
       "1    Air India   Kolkata    Banglore  CCU → IXR → BBI → BLR         13:15   \n",
       "2  Jet Airways     Delhi      Cochin  DEL → LKO → BOM → COK  04:25 10 Jun   \n",
       "3       IndiGo   Kolkata    Banglore        CCU → NAG → BLR         23:30   \n",
       "4       IndiGo  Banglore   New Delhi        BLR → NAG → DEL         21:35   \n",
       "\n",
       "  Duration Total_Stops Additional_Info  Price  Day_of_Journey  \\\n",
       "0   2h 50m    non-stop         No info   3897              24   \n",
       "1   7h 25m     2 stops         No info   7662               1   \n",
       "2      19h     2 stops         No info  13882               9   \n",
       "3   5h 25m      1 stop         No info   6218              12   \n",
       "4   4h 45m      1 stop         No info  13302               1   \n",
       "\n",
       "   Month_of_Journey  Departue_Hour  Departure_Minute  \n",
       "0                 3             22                20  \n",
       "1                 5              5                50  \n",
       "2                 6              9                25  \n",
       "3                 5             18                 5  \n",
       "4                 3             16                50  "
      ]
     },
     "execution_count": 126,
     "metadata": {},
     "output_type": "execute_result"
    }
   ],
   "source": [
    "trainData.head()"
   ]
  },
  {
   "cell_type": "markdown",
   "id": "71d18225",
   "metadata": {},
   "source": [
    "---"
   ]
  },
  {
   "cell_type": "markdown",
   "id": "6af2d5b6",
   "metadata": {},
   "source": [
    "#### <span style=\"color: Orange\"> 3. Arrival_Time </span>\n",
    "\n",
    "   * **<span style=\"color: Gold\">Arrival Time </span>** : It is the time when the plane pulls up to the gate\n",
    "   \n",
    "   \n",
    "   * Similar to the 'Date_of_Journey' column, hours and mins can be extracted from the 'Arrival_Time' column\n",
    "   \n",
    "      * The **<span style=\"color: Blue;\">'dt.hour'** </span> is used to extract only the hours from the time\n",
    "      \n",
    "      * The **<span style=\"color: Blue;\">'dt.min'** </span> is used to extract only the mins from the time     "
   ]
  },
  {
   "cell_type": "code",
   "execution_count": 127,
   "id": "9aa4275f",
   "metadata": {},
   "outputs": [],
   "source": [
    "trainData['Arrival_Hour'] = pd.to_datetime(trainData.Arrival_Time).dt.hour\n",
    "trainData['Arrival_Minute'] = pd.to_datetime(trainData.Arrival_Time).dt.minute"
   ]
  },
  {
   "cell_type": "markdown",
   "id": "32b65bb1",
   "metadata": {},
   "source": [
    "   * Now the **Hours** and **Minutes** has been extracted from **Arrival_Time** column, it can be dropped.\n",
    "   \n",
    "   \n",
    "   * The **Arrival_Time** will be of no use for the further analysis process."
   ]
  },
  {
   "cell_type": "code",
   "execution_count": 128,
   "id": "34053761",
   "metadata": {},
   "outputs": [],
   "source": [
    "trainData.drop(['Arrival_Time'], axis = 1, inplace = True)"
   ]
  },
  {
   "cell_type": "code",
   "execution_count": 129,
   "id": "d6d0f6a9",
   "metadata": {},
   "outputs": [
    {
     "data": {
      "text/html": [
       "<div><div id=bb9b27c5-be41-4e14-a6c1-0e58cdcf3aaf style=\"display:none; background-color:#9D6CFF; color:white; width:200px; height:30px; padding-left:5px; border-radius:4px; flex-direction:row; justify-content:space-around; align-items:center;\" onmouseover=\"this.style.backgroundColor='#BA9BF8'\" onmouseout=\"this.style.backgroundColor='#9D6CFF'\" onclick=\"window.commands?.execute('create-mitosheet-from-dataframe-output');\">See Full Dataframe in Mito</div> <script> if (window.commands?.hasCommand('create-mitosheet-from-dataframe-output')) document.getElementById('bb9b27c5-be41-4e14-a6c1-0e58cdcf3aaf').style.display = 'flex' </script> <table border=\"1\" class=\"dataframe\">\n",
       "  <thead>\n",
       "    <tr style=\"text-align: right;\">\n",
       "      <th></th>\n",
       "      <th>Airline</th>\n",
       "      <th>Source</th>\n",
       "      <th>Destination</th>\n",
       "      <th>Route</th>\n",
       "      <th>Duration</th>\n",
       "      <th>Total_Stops</th>\n",
       "      <th>Additional_Info</th>\n",
       "      <th>Price</th>\n",
       "      <th>Day_of_Journey</th>\n",
       "      <th>Month_of_Journey</th>\n",
       "      <th>Departue_Hour</th>\n",
       "      <th>Departure_Minute</th>\n",
       "      <th>Arrival_Hour</th>\n",
       "      <th>Arrival_Minute</th>\n",
       "    </tr>\n",
       "  </thead>\n",
       "  <tbody>\n",
       "    <tr>\n",
       "      <th>0</th>\n",
       "      <td>IndiGo</td>\n",
       "      <td>Banglore</td>\n",
       "      <td>New Delhi</td>\n",
       "      <td>BLR → DEL</td>\n",
       "      <td>2h 50m</td>\n",
       "      <td>non-stop</td>\n",
       "      <td>No info</td>\n",
       "      <td>3897</td>\n",
       "      <td>24</td>\n",
       "      <td>3</td>\n",
       "      <td>22</td>\n",
       "      <td>20</td>\n",
       "      <td>1</td>\n",
       "      <td>10</td>\n",
       "    </tr>\n",
       "    <tr>\n",
       "      <th>1</th>\n",
       "      <td>Air India</td>\n",
       "      <td>Kolkata</td>\n",
       "      <td>Banglore</td>\n",
       "      <td>CCU → IXR → BBI → BLR</td>\n",
       "      <td>7h 25m</td>\n",
       "      <td>2 stops</td>\n",
       "      <td>No info</td>\n",
       "      <td>7662</td>\n",
       "      <td>1</td>\n",
       "      <td>5</td>\n",
       "      <td>5</td>\n",
       "      <td>50</td>\n",
       "      <td>13</td>\n",
       "      <td>15</td>\n",
       "    </tr>\n",
       "    <tr>\n",
       "      <th>2</th>\n",
       "      <td>Jet Airways</td>\n",
       "      <td>Delhi</td>\n",
       "      <td>Cochin</td>\n",
       "      <td>DEL → LKO → BOM → COK</td>\n",
       "      <td>19h</td>\n",
       "      <td>2 stops</td>\n",
       "      <td>No info</td>\n",
       "      <td>13882</td>\n",
       "      <td>9</td>\n",
       "      <td>6</td>\n",
       "      <td>9</td>\n",
       "      <td>25</td>\n",
       "      <td>4</td>\n",
       "      <td>25</td>\n",
       "    </tr>\n",
       "    <tr>\n",
       "      <th>3</th>\n",
       "      <td>IndiGo</td>\n",
       "      <td>Kolkata</td>\n",
       "      <td>Banglore</td>\n",
       "      <td>CCU → NAG → BLR</td>\n",
       "      <td>5h 25m</td>\n",
       "      <td>1 stop</td>\n",
       "      <td>No info</td>\n",
       "      <td>6218</td>\n",
       "      <td>12</td>\n",
       "      <td>5</td>\n",
       "      <td>18</td>\n",
       "      <td>5</td>\n",
       "      <td>23</td>\n",
       "      <td>30</td>\n",
       "    </tr>\n",
       "    <tr>\n",
       "      <th>4</th>\n",
       "      <td>IndiGo</td>\n",
       "      <td>Banglore</td>\n",
       "      <td>New Delhi</td>\n",
       "      <td>BLR → NAG → DEL</td>\n",
       "      <td>4h 45m</td>\n",
       "      <td>1 stop</td>\n",
       "      <td>No info</td>\n",
       "      <td>13302</td>\n",
       "      <td>1</td>\n",
       "      <td>3</td>\n",
       "      <td>16</td>\n",
       "      <td>50</td>\n",
       "      <td>21</td>\n",
       "      <td>35</td>\n",
       "    </tr>\n",
       "  </tbody>\n",
       "</table></div>"
      ],
      "text/plain": [
       "       Airline    Source Destination                  Route Duration  \\\n",
       "0       IndiGo  Banglore   New Delhi              BLR → DEL   2h 50m   \n",
       "1    Air India   Kolkata    Banglore  CCU → IXR → BBI → BLR   7h 25m   \n",
       "2  Jet Airways     Delhi      Cochin  DEL → LKO → BOM → COK      19h   \n",
       "3       IndiGo   Kolkata    Banglore        CCU → NAG → BLR   5h 25m   \n",
       "4       IndiGo  Banglore   New Delhi        BLR → NAG → DEL   4h 45m   \n",
       "\n",
       "  Total_Stops Additional_Info  Price  Day_of_Journey  Month_of_Journey  \\\n",
       "0    non-stop         No info   3897              24                 3   \n",
       "1     2 stops         No info   7662               1                 5   \n",
       "2     2 stops         No info  13882               9                 6   \n",
       "3      1 stop         No info   6218              12                 5   \n",
       "4      1 stop         No info  13302               1                 3   \n",
       "\n",
       "   Departue_Hour  Departure_Minute  Arrival_Hour  Arrival_Minute  \n",
       "0             22                20             1              10  \n",
       "1              5                50            13              15  \n",
       "2              9                25             4              25  \n",
       "3             18                 5            23              30  \n",
       "4             16                50            21              35  "
      ]
     },
     "execution_count": 129,
     "metadata": {},
     "output_type": "execute_result"
    }
   ],
   "source": [
    "trainData.head()"
   ]
  },
  {
   "cell_type": "markdown",
   "id": "8c43144a",
   "metadata": {},
   "source": [
    "---"
   ]
  },
  {
   "cell_type": "markdown",
   "id": "4eb49830",
   "metadata": {},
   "source": [
    "#### <span style=\"color: Orange\"> 4. Duration </span>\n",
    "\n",
    "   * **<span style=\"color: Gold\"> Duration </span>** : It is the time taken by an aircraft to travel from it **Source** and **Destination**.\n",
    "   \n",
    "   \n",
    "   * It is the difference between **Departure Time** and **Arrival Time**\n",
    "   \n",
    "   \n",
    "   \n",
    "   * Converting the Duration column into List"
   ]
  },
  {
   "cell_type": "code",
   "execution_count": 130,
   "id": "61a85405",
   "metadata": {},
   "outputs": [],
   "source": [
    "durationTrain = list(trainData['Duration'])\n",
    "\n",
    "for i in range(len(durationTrain)):\n",
    "    \n",
    "    if len(durationTrain[i].split()) != 2:                         # Check if the duration contains only hours or minutes\n",
    "        \n",
    "        if 'h' in durationTrain[i]:\n",
    "            durationTrain[i] = durationTrain[i].strip() + \" 0m\"    # Appends 0 Minutes\n",
    "        \n",
    "        else:\n",
    "            durationTrain[i] = \"0h \" + durationTrain[i]            # Appends 0 Hours\n",
    "            \n",
    "\n",
    "Duration_Hours = []\n",
    "Duration_Minutes = []\n",
    "\n",
    "for i in range(len(durationTrain)):\n",
    "    \n",
    "    Duration_Hours.append(int(durationTrain[i].split(sep = 'h')[0]))\n",
    "    Duration_Minutes.append(int(durationTrain[i].split(sep = 'm')[0].split()[-1]))"
   ]
  },
  {
   "cell_type": "markdown",
   "id": "b89a5e49",
   "metadata": {},
   "source": [
    "   <span style = 'color:Green'> * **Add the duration_Hours and duration_Min List into train_data DataFrame.** </span>"
   ]
  },
  {
   "cell_type": "code",
   "execution_count": 131,
   "id": "5ec6360f",
   "metadata": {},
   "outputs": [],
   "source": [
    "trainData['Duration_Hours'] = Duration_Hours\n",
    "trainData['Duration_Minutes'] = Duration_Minutes"
   ]
  },
  {
   "cell_type": "markdown",
   "id": "d06f3b07",
   "metadata": {},
   "source": [
    "   * Now the **Hours** and **Minutes** has been extracted from **Duration** column, it can be dropped.\n",
    "   \n",
    "   \n",
    "   * The **Duration** will be of no use for the further analysis process."
   ]
  },
  {
   "cell_type": "code",
   "execution_count": 132,
   "id": "2263a878",
   "metadata": {},
   "outputs": [],
   "source": [
    "trainData.drop(['Duration'], axis = 1, inplace = True)"
   ]
  },
  {
   "cell_type": "code",
   "execution_count": 133,
   "id": "f7bfe682",
   "metadata": {},
   "outputs": [
    {
     "data": {
      "text/html": [
       "<div><div id=38cc9529-c744-45e7-8759-95bbd4459f37 style=\"display:none; background-color:#9D6CFF; color:white; width:200px; height:30px; padding-left:5px; border-radius:4px; flex-direction:row; justify-content:space-around; align-items:center;\" onmouseover=\"this.style.backgroundColor='#BA9BF8'\" onmouseout=\"this.style.backgroundColor='#9D6CFF'\" onclick=\"window.commands?.execute('create-mitosheet-from-dataframe-output');\">See Full Dataframe in Mito</div> <script> if (window.commands?.hasCommand('create-mitosheet-from-dataframe-output')) document.getElementById('38cc9529-c744-45e7-8759-95bbd4459f37').style.display = 'flex' </script> <table border=\"1\" class=\"dataframe\">\n",
       "  <thead>\n",
       "    <tr style=\"text-align: right;\">\n",
       "      <th></th>\n",
       "      <th>Airline</th>\n",
       "      <th>Source</th>\n",
       "      <th>Destination</th>\n",
       "      <th>Route</th>\n",
       "      <th>Total_Stops</th>\n",
       "      <th>Additional_Info</th>\n",
       "      <th>Price</th>\n",
       "      <th>Day_of_Journey</th>\n",
       "      <th>Month_of_Journey</th>\n",
       "      <th>Departue_Hour</th>\n",
       "      <th>Departure_Minute</th>\n",
       "      <th>Arrival_Hour</th>\n",
       "      <th>Arrival_Minute</th>\n",
       "      <th>Duration_Hours</th>\n",
       "      <th>Duration_Minutes</th>\n",
       "    </tr>\n",
       "  </thead>\n",
       "  <tbody>\n",
       "    <tr>\n",
       "      <th>0</th>\n",
       "      <td>IndiGo</td>\n",
       "      <td>Banglore</td>\n",
       "      <td>New Delhi</td>\n",
       "      <td>BLR → DEL</td>\n",
       "      <td>non-stop</td>\n",
       "      <td>No info</td>\n",
       "      <td>3897</td>\n",
       "      <td>24</td>\n",
       "      <td>3</td>\n",
       "      <td>22</td>\n",
       "      <td>20</td>\n",
       "      <td>1</td>\n",
       "      <td>10</td>\n",
       "      <td>2</td>\n",
       "      <td>50</td>\n",
       "    </tr>\n",
       "    <tr>\n",
       "      <th>1</th>\n",
       "      <td>Air India</td>\n",
       "      <td>Kolkata</td>\n",
       "      <td>Banglore</td>\n",
       "      <td>CCU → IXR → BBI → BLR</td>\n",
       "      <td>2 stops</td>\n",
       "      <td>No info</td>\n",
       "      <td>7662</td>\n",
       "      <td>1</td>\n",
       "      <td>5</td>\n",
       "      <td>5</td>\n",
       "      <td>50</td>\n",
       "      <td>13</td>\n",
       "      <td>15</td>\n",
       "      <td>7</td>\n",
       "      <td>25</td>\n",
       "    </tr>\n",
       "    <tr>\n",
       "      <th>2</th>\n",
       "      <td>Jet Airways</td>\n",
       "      <td>Delhi</td>\n",
       "      <td>Cochin</td>\n",
       "      <td>DEL → LKO → BOM → COK</td>\n",
       "      <td>2 stops</td>\n",
       "      <td>No info</td>\n",
       "      <td>13882</td>\n",
       "      <td>9</td>\n",
       "      <td>6</td>\n",
       "      <td>9</td>\n",
       "      <td>25</td>\n",
       "      <td>4</td>\n",
       "      <td>25</td>\n",
       "      <td>19</td>\n",
       "      <td>0</td>\n",
       "    </tr>\n",
       "    <tr>\n",
       "      <th>3</th>\n",
       "      <td>IndiGo</td>\n",
       "      <td>Kolkata</td>\n",
       "      <td>Banglore</td>\n",
       "      <td>CCU → NAG → BLR</td>\n",
       "      <td>1 stop</td>\n",
       "      <td>No info</td>\n",
       "      <td>6218</td>\n",
       "      <td>12</td>\n",
       "      <td>5</td>\n",
       "      <td>18</td>\n",
       "      <td>5</td>\n",
       "      <td>23</td>\n",
       "      <td>30</td>\n",
       "      <td>5</td>\n",
       "      <td>25</td>\n",
       "    </tr>\n",
       "    <tr>\n",
       "      <th>4</th>\n",
       "      <td>IndiGo</td>\n",
       "      <td>Banglore</td>\n",
       "      <td>New Delhi</td>\n",
       "      <td>BLR → NAG → DEL</td>\n",
       "      <td>1 stop</td>\n",
       "      <td>No info</td>\n",
       "      <td>13302</td>\n",
       "      <td>1</td>\n",
       "      <td>3</td>\n",
       "      <td>16</td>\n",
       "      <td>50</td>\n",
       "      <td>21</td>\n",
       "      <td>35</td>\n",
       "      <td>4</td>\n",
       "      <td>45</td>\n",
       "    </tr>\n",
       "  </tbody>\n",
       "</table></div>"
      ],
      "text/plain": [
       "       Airline    Source Destination                  Route Total_Stops  \\\n",
       "0       IndiGo  Banglore   New Delhi              BLR → DEL    non-stop   \n",
       "1    Air India   Kolkata    Banglore  CCU → IXR → BBI → BLR     2 stops   \n",
       "2  Jet Airways     Delhi      Cochin  DEL → LKO → BOM → COK     2 stops   \n",
       "3       IndiGo   Kolkata    Banglore        CCU → NAG → BLR      1 stop   \n",
       "4       IndiGo  Banglore   New Delhi        BLR → NAG → DEL      1 stop   \n",
       "\n",
       "  Additional_Info  Price  Day_of_Journey  Month_of_Journey  Departue_Hour  \\\n",
       "0         No info   3897              24                 3             22   \n",
       "1         No info   7662               1                 5              5   \n",
       "2         No info  13882               9                 6              9   \n",
       "3         No info   6218              12                 5             18   \n",
       "4         No info  13302               1                 3             16   \n",
       "\n",
       "   Departure_Minute  Arrival_Hour  Arrival_Minute  Duration_Hours  \\\n",
       "0                20             1              10               2   \n",
       "1                50            13              15               7   \n",
       "2                25             4              25              19   \n",
       "3                 5            23              30               5   \n",
       "4                50            21              35               4   \n",
       "\n",
       "   Duration_Minutes  \n",
       "0                50  \n",
       "1                25  \n",
       "2                 0  \n",
       "3                25  \n",
       "4                45  "
      ]
     },
     "execution_count": 133,
     "metadata": {},
     "output_type": "execute_result"
    }
   ],
   "source": [
    "trainData.head()"
   ]
  },
  {
   "cell_type": "markdown",
   "id": "c6e51c03",
   "metadata": {},
   "source": [
    "---"
   ]
  },
  {
   "cell_type": "markdown",
   "id": "63f88263",
   "metadata": {},
   "source": [
    "### <span style=\"color: Purple\"> * HANDLING CATEGORICAL VALUE </span>\n",
    "---\n",
    "\n",
    "* Categorical Data is a type data that is used to group information based on characterstics.\n",
    "   \n",
    "   \n",
    "   * Categorical Variables can be divided into two categories:\n",
    "       \n",
    "       1. <span style = 'color: green'> **Nominal Data** </span> : \n",
    "    * It is also know as **Named Data**, where the data has no order to it.\n",
    "           \n",
    "   * <span style = 'color: Blue'> **OneHotEncoding** </span> can be used inorder to handle the Nominal Data.\n",
    "       \n",
    "       2. <span style = 'color: green'> **Ordinal Data** </span> : It is the type of data where the data has order to it.\n",
    "   \n",
    "   * <span style = 'color: Blue'> **LabelEncoder** </span> can be used inorder to handle the Ordinal Data.\n",
    "   \n",
    "\n",
    "<span style = 'color: Red'> **Airline, Source, Destination, Route and Total_Stops** </span> are the Categorical Data"
   ]
  },
  {
   "cell_type": "markdown",
   "id": "a064363e",
   "metadata": {},
   "source": [
    "#### <span style=\"color: Orange\"> 1. Airline Feature </span>\n",
    "---\n",
    "\n",
    "* <span style = 'color:Green'> **The value_counts() function returns the count of all unique values of the given index in the descending order, without any null values.** </span>"
   ]
  },
  {
   "cell_type": "code",
   "execution_count": 134,
   "id": "a24b46bd",
   "metadata": {},
   "outputs": [
    {
     "data": {
      "text/plain": [
       "Jet Airways                          3849\n",
       "IndiGo                               2053\n",
       "Air India                            1751\n",
       "Multiple carriers                    1196\n",
       "SpiceJet                              818\n",
       "Vistara                               479\n",
       "Air Asia                              319\n",
       "GoAir                                 194\n",
       "Multiple carriers Premium economy      13\n",
       "Jet Airways Business                    6\n",
       "Vistara Premium economy                 3\n",
       "Trujet                                  1\n",
       "Name: Airline, dtype: int64"
      ]
     },
     "execution_count": 134,
     "metadata": {},
     "output_type": "execute_result"
    }
   ],
   "source": [
    "trainData['Airline'].value_counts()"
   ]
  },
  {
   "cell_type": "markdown",
   "id": "cf76187f",
   "metadata": {},
   "source": [
    "##### <span style = 'color:Indigo'> **VISUALISATION OF AIRLINE VERSUS IT'S PRICES** </span>\n",
    "\n",
    "   * The graph shows that the Jet Airways Business class have the highest price.\n",
    "   \n",
    "   * Apart from the first Airline almost all are having similar median"
   ]
  },
  {
   "cell_type": "code",
   "execution_count": 135,
   "id": "e1b3c0a2",
   "metadata": {},
   "outputs": [
    {
     "data": {
      "image/png": "[encoded data removed]",
      "text/plain": [
       "<Figure size 1296x432 with 1 Axes>"
      ]
     },
     "metadata": {},
     "output_type": "display_data"
    }
   ],
   "source": [
    "sns_1 = sns.catplot(y = 'Price', x = 'Airline', data = trainData.sort_values('Price', ascending = False), kind = 'boxen', height = 6, aspect = 3)\n",
    "sns_1.fig.suptitle('COMPARISON OF AIRLINES AND ITS PRICES', fontsize = 16)\n",
    "sns_1.fig.subplots_adjust(top = 0.9)\n",
    "\n",
    "plt.show()"
   ]
  },
  {
   "cell_type": "markdown",
   "id": "127b0f46",
   "metadata": {},
   "source": [
    "<span style = 'color:Green'>* **As Airline column is a Nominal type of Categorical Data, OneHotEncoding can be performed.** </span>"
   ]
  },
  {
   "cell_type": "code",
   "execution_count": 136,
   "id": "4fb92574",
   "metadata": {},
   "outputs": [
    {
     "data": {
      "text/html": [
       "<div><div id=3ee4b922-7055-488f-a5b1-d0c2c35433e8 style=\"display:none; background-color:#9D6CFF; color:white; width:200px; height:30px; padding-left:5px; border-radius:4px; flex-direction:row; justify-content:space-around; align-items:center;\" onmouseover=\"this.style.backgroundColor='#BA9BF8'\" onmouseout=\"this.style.backgroundColor='#9D6CFF'\" onclick=\"window.commands?.execute('create-mitosheet-from-dataframe-output');\">See Full Dataframe in Mito</div> <script> if (window.commands?.hasCommand('create-mitosheet-from-dataframe-output')) document.getElementById('3ee4b922-7055-488f-a5b1-d0c2c35433e8').style.display = 'flex' </script> <table border=\"1\" class=\"dataframe\">\n",
       "  <thead>\n",
       "    <tr style=\"text-align: right;\">\n",
       "      <th></th>\n",
       "      <th>Airline_Air India</th>\n",
       "      <th>Airline_GoAir</th>\n",
       "      <th>Airline_IndiGo</th>\n",
       "      <th>Airline_Jet Airways</th>\n",
       "      <th>Airline_Jet Airways Business</th>\n",
       "      <th>Airline_Multiple carriers</th>\n",
       "      <th>Airline_Multiple carriers Premium economy</th>\n",
       "      <th>Airline_SpiceJet</th>\n",
       "      <th>Airline_Trujet</th>\n",
       "      <th>Airline_Vistara</th>\n",
       "      <th>Airline_Vistara Premium economy</th>\n",
       "    </tr>\n",
       "  </thead>\n",
       "  <tbody>\n",
       "    <tr>\n",
       "      <th>0</th>\n",
       "      <td>0</td>\n",
       "      <td>0</td>\n",
       "      <td>1</td>\n",
       "      <td>0</td>\n",
       "      <td>0</td>\n",
       "      <td>0</td>\n",
       "      <td>0</td>\n",
       "      <td>0</td>\n",
       "      <td>0</td>\n",
       "      <td>0</td>\n",
       "      <td>0</td>\n",
       "    </tr>\n",
       "    <tr>\n",
       "      <th>1</th>\n",
       "      <td>1</td>\n",
       "      <td>0</td>\n",
       "      <td>0</td>\n",
       "      <td>0</td>\n",
       "      <td>0</td>\n",
       "      <td>0</td>\n",
       "      <td>0</td>\n",
       "      <td>0</td>\n",
       "      <td>0</td>\n",
       "      <td>0</td>\n",
       "      <td>0</td>\n",
       "    </tr>\n",
       "    <tr>\n",
       "      <th>2</th>\n",
       "      <td>0</td>\n",
       "      <td>0</td>\n",
       "      <td>0</td>\n",
       "      <td>1</td>\n",
       "      <td>0</td>\n",
       "      <td>0</td>\n",
       "      <td>0</td>\n",
       "      <td>0</td>\n",
       "      <td>0</td>\n",
       "      <td>0</td>\n",
       "      <td>0</td>\n",
       "    </tr>\n",
       "    <tr>\n",
       "      <th>3</th>\n",
       "      <td>0</td>\n",
       "      <td>0</td>\n",
       "      <td>1</td>\n",
       "      <td>0</td>\n",
       "      <td>0</td>\n",
       "      <td>0</td>\n",
       "      <td>0</td>\n",
       "      <td>0</td>\n",
       "      <td>0</td>\n",
       "      <td>0</td>\n",
       "      <td>0</td>\n",
       "    </tr>\n",
       "    <tr>\n",
       "      <th>4</th>\n",
       "      <td>0</td>\n",
       "      <td>0</td>\n",
       "      <td>1</td>\n",
       "      <td>0</td>\n",
       "      <td>0</td>\n",
       "      <td>0</td>\n",
       "      <td>0</td>\n",
       "      <td>0</td>\n",
       "      <td>0</td>\n",
       "      <td>0</td>\n",
       "      <td>0</td>\n",
       "    </tr>\n",
       "  </tbody>\n",
       "</table></div>"
      ],
      "text/plain": [
       "   Airline_Air India  Airline_GoAir  Airline_IndiGo  Airline_Jet Airways  \\\n",
       "0                  0              0               1                    0   \n",
       "1                  1              0               0                    0   \n",
       "2                  0              0               0                    1   \n",
       "3                  0              0               1                    0   \n",
       "4                  0              0               1                    0   \n",
       "\n",
       "   Airline_Jet Airways Business  Airline_Multiple carriers  \\\n",
       "0                             0                          0   \n",
       "1                             0                          0   \n",
       "2                             0                          0   \n",
       "3                             0                          0   \n",
       "4                             0                          0   \n",
       "\n",
       "   Airline_Multiple carriers Premium economy  Airline_SpiceJet  \\\n",
       "0                                          0                 0   \n",
       "1                                          0                 0   \n",
       "2                                          0                 0   \n",
       "3                                          0                 0   \n",
       "4                                          0                 0   \n",
       "\n",
       "   Airline_Trujet  Airline_Vistara  Airline_Vistara Premium economy  \n",
       "0               0                0                                0  \n",
       "1               0                0                                0  \n",
       "2               0                0                                0  \n",
       "3               0                0                                0  \n",
       "4               0                0                                0  "
      ]
     },
     "execution_count": 136,
     "metadata": {},
     "output_type": "execute_result"
    }
   ],
   "source": [
    "AirlineTrain = trainData[['Airline']]\n",
    "\n",
    "AirlineTrain = pd.get_dummies(AirlineTrain, drop_first = True)\n",
    "\n",
    "AirlineTrain.head()"
   ]
  },
  {
   "cell_type": "markdown",
   "id": "e2b7423a",
   "metadata": {},
   "source": [
    "#### <span style=\"color: Orange\"> 2. Source Feature </span>\n",
    "---"
   ]
  },
  {
   "cell_type": "code",
   "execution_count": 137,
   "id": "f4327634",
   "metadata": {},
   "outputs": [
    {
     "data": {
      "text/plain": [
       "Delhi       4536\n",
       "Kolkata     2871\n",
       "Banglore    2197\n",
       "Mumbai       697\n",
       "Chennai      381\n",
       "Name: Source, dtype: int64"
      ]
     },
     "execution_count": 137,
     "metadata": {},
     "output_type": "execute_result"
    }
   ],
   "source": [
    "trainData['Source'].value_counts()"
   ]
  },
  {
   "cell_type": "markdown",
   "id": "252023ac",
   "metadata": {},
   "source": [
    "##### <span style = 'color:Indigo'> **VISUALISATION OF SOURCE VERSUS IT'S PRICES** </span>"
   ]
  },
  {
   "cell_type": "code",
   "execution_count": 138,
   "id": "1b703868",
   "metadata": {},
   "outputs": [
    {
     "data": {
      "image/png": "[encoded data removed]",
      "text/plain": [
       "<Figure size 1296x432 with 1 Axes>"
      ]
     },
     "metadata": {},
     "output_type": "display_data"
    }
   ],
   "source": [
    "sns_2 = sns.catplot(y = 'Price', x = 'Source', data = trainData.sort_values('Price', ascending = False), kind = 'boxen', height = 6, aspect = 3)\n",
    "sns_2.fig.suptitle('COMPARISON OF SOURCE AND ITS PRICES', fontsize = 16)\n",
    "sns_2.fig.subplots_adjust(top = 0.9)\n",
    "\n",
    "plt.show()"
   ]
  },
  {
   "cell_type": "markdown",
   "id": "9277eee7",
   "metadata": {},
   "source": [
    "<span style = 'color:Green'>* **As Source column is a Nominal type of Categorical Data, OneHotEncoding can be performed.** </span>"
   ]
  },
  {
   "cell_type": "code",
   "execution_count": 139,
   "id": "2b4d6958",
   "metadata": {},
   "outputs": [
    {
     "data": {
      "text/html": [
       "<div><div id=bac377f7-c050-492d-9f3c-3662a7e78cba style=\"display:none; background-color:#9D6CFF; color:white; width:200px; height:30px; padding-left:5px; border-radius:4px; flex-direction:row; justify-content:space-around; align-items:center;\" onmouseover=\"this.style.backgroundColor='#BA9BF8'\" onmouseout=\"this.style.backgroundColor='#9D6CFF'\" onclick=\"window.commands?.execute('create-mitosheet-from-dataframe-output');\">See Full Dataframe in Mito</div> <script> if (window.commands?.hasCommand('create-mitosheet-from-dataframe-output')) document.getElementById('bac377f7-c050-492d-9f3c-3662a7e78cba').style.display = 'flex' </script> <table border=\"1\" class=\"dataframe\">\n",
       "  <thead>\n",
       "    <tr style=\"text-align: right;\">\n",
       "      <th></th>\n",
       "      <th>Source_Chennai</th>\n",
       "      <th>Source_Delhi</th>\n",
       "      <th>Source_Kolkata</th>\n",
       "      <th>Source_Mumbai</th>\n",
       "    </tr>\n",
       "  </thead>\n",
       "  <tbody>\n",
       "    <tr>\n",
       "      <th>0</th>\n",
       "      <td>0</td>\n",
       "      <td>0</td>\n",
       "      <td>0</td>\n",
       "      <td>0</td>\n",
       "    </tr>\n",
       "    <tr>\n",
       "      <th>1</th>\n",
       "      <td>0</td>\n",
       "      <td>0</td>\n",
       "      <td>1</td>\n",
       "      <td>0</td>\n",
       "    </tr>\n",
       "    <tr>\n",
       "      <th>2</th>\n",
       "      <td>0</td>\n",
       "      <td>1</td>\n",
       "      <td>0</td>\n",
       "      <td>0</td>\n",
       "    </tr>\n",
       "    <tr>\n",
       "      <th>3</th>\n",
       "      <td>0</td>\n",
       "      <td>0</td>\n",
       "      <td>1</td>\n",
       "      <td>0</td>\n",
       "    </tr>\n",
       "    <tr>\n",
       "      <th>4</th>\n",
       "      <td>0</td>\n",
       "      <td>0</td>\n",
       "      <td>0</td>\n",
       "      <td>0</td>\n",
       "    </tr>\n",
       "  </tbody>\n",
       "</table></div>"
      ],
      "text/plain": [
       "   Source_Chennai  Source_Delhi  Source_Kolkata  Source_Mumbai\n",
       "0               0             0               0              0\n",
       "1               0             0               1              0\n",
       "2               0             1               0              0\n",
       "3               0             0               1              0\n",
       "4               0             0               0              0"
      ]
     },
     "execution_count": 139,
     "metadata": {},
     "output_type": "execute_result"
    }
   ],
   "source": [
    "SourceTrain = trainData[['Source']]\n",
    "\n",
    "SourceTrain = pd.get_dummies(SourceTrain, drop_first = True)\n",
    "\n",
    "SourceTrain.head()"
   ]
  },
  {
   "cell_type": "markdown",
   "id": "2858ccae",
   "metadata": {},
   "source": [
    "#### <span style=\"color: Orange\"> 3. Destination Feature </span>\n",
    "---"
   ]
  },
  {
   "cell_type": "code",
   "execution_count": 140,
   "id": "cf17429d",
   "metadata": {},
   "outputs": [
    {
     "data": {
      "text/plain": [
       "Cochin       4536\n",
       "Banglore     2871\n",
       "Delhi        1265\n",
       "New Delhi     932\n",
       "Hyderabad     697\n",
       "Kolkata       381\n",
       "Name: Destination, dtype: int64"
      ]
     },
     "execution_count": 140,
     "metadata": {},
     "output_type": "execute_result"
    }
   ],
   "source": [
    "trainData['Destination'].value_counts()"
   ]
  },
  {
   "cell_type": "markdown",
   "id": "7b8b911e",
   "metadata": {},
   "source": [
    "<span style = 'color:Green'>* **As Destination column is a Nominal type of Categorical Data, OneHotEncoding can be performed.** </span>"
   ]
  },
  {
   "cell_type": "code",
   "execution_count": 141,
   "id": "b972ea32",
   "metadata": {},
   "outputs": [
    {
     "data": {
      "text/html": [
       "<div><div id=73fb3a5b-28a7-4885-8a09-680b6142e6bd style=\"display:none; background-color:#9D6CFF; color:white; width:200px; height:30px; padding-left:5px; border-radius:4px; flex-direction:row; justify-content:space-around; align-items:center;\" onmouseover=\"this.style.backgroundColor='#BA9BF8'\" onmouseout=\"this.style.backgroundColor='#9D6CFF'\" onclick=\"window.commands?.execute('create-mitosheet-from-dataframe-output');\">See Full Dataframe in Mito</div> <script> if (window.commands?.hasCommand('create-mitosheet-from-dataframe-output')) document.getElementById('73fb3a5b-28a7-4885-8a09-680b6142e6bd').style.display = 'flex' </script> <table border=\"1\" class=\"dataframe\">\n",
       "  <thead>\n",
       "    <tr style=\"text-align: right;\">\n",
       "      <th></th>\n",
       "      <th>Destination_Cochin</th>\n",
       "      <th>Destination_Delhi</th>\n",
       "      <th>Destination_Hyderabad</th>\n",
       "      <th>Destination_Kolkata</th>\n",
       "      <th>Destination_New Delhi</th>\n",
       "    </tr>\n",
       "  </thead>\n",
       "  <tbody>\n",
       "    <tr>\n",
       "      <th>0</th>\n",
       "      <td>0</td>\n",
       "      <td>0</td>\n",
       "      <td>0</td>\n",
       "      <td>0</td>\n",
       "      <td>1</td>\n",
       "    </tr>\n",
       "    <tr>\n",
       "      <th>1</th>\n",
       "      <td>0</td>\n",
       "      <td>0</td>\n",
       "      <td>0</td>\n",
       "      <td>0</td>\n",
       "      <td>0</td>\n",
       "    </tr>\n",
       "    <tr>\n",
       "      <th>2</th>\n",
       "      <td>1</td>\n",
       "      <td>0</td>\n",
       "      <td>0</td>\n",
       "      <td>0</td>\n",
       "      <td>0</td>\n",
       "    </tr>\n",
       "    <tr>\n",
       "      <th>3</th>\n",
       "      <td>0</td>\n",
       "      <td>0</td>\n",
       "      <td>0</td>\n",
       "      <td>0</td>\n",
       "      <td>0</td>\n",
       "    </tr>\n",
       "    <tr>\n",
       "      <th>4</th>\n",
       "      <td>0</td>\n",
       "      <td>0</td>\n",
       "      <td>0</td>\n",
       "      <td>0</td>\n",
       "      <td>1</td>\n",
       "    </tr>\n",
       "  </tbody>\n",
       "</table></div>"
      ],
      "text/plain": [
       "   Destination_Cochin  Destination_Delhi  Destination_Hyderabad  \\\n",
       "0                   0                  0                      0   \n",
       "1                   0                  0                      0   \n",
       "2                   1                  0                      0   \n",
       "3                   0                  0                      0   \n",
       "4                   0                  0                      0   \n",
       "\n",
       "   Destination_Kolkata  Destination_New Delhi  \n",
       "0                    0                      1  \n",
       "1                    0                      0  \n",
       "2                    0                      0  \n",
       "3                    0                      0  \n",
       "4                    0                      1  "
      ]
     },
     "execution_count": 141,
     "metadata": {},
     "output_type": "execute_result"
    }
   ],
   "source": [
    "DestinationTrain = trainData[['Destination']]\n",
    "\n",
    "DestinationTrain = pd.get_dummies(DestinationTrain, drop_first = True)\n",
    "\n",
    "DestinationTrain.head()"
   ]
  },
  {
   "cell_type": "markdown",
   "id": "b1f8fec7",
   "metadata": {},
   "source": [
    "#### <span style = 'color: Orange'> 4. Route and Additional_Info Feature </span>\n",
    "---\n",
    "\n",
    "   * The <span style = 'color: red'> **Additional_Info** </span> contains almost 80% as \"no info\". So this coloumn can be dropped.\n",
    "   \n",
    "   \n",
    "   * The <span style = 'color: red'> **Route** </span> and <span style = 'color: red'> **Total_Stops** </span> are related. So either one of the columns can be dropped.\n",
    "       In this the <span style = 'color: red'> **Route** </span> column can be dropped"
   ]
  },
  {
   "cell_type": "code",
   "execution_count": 142,
   "id": "0e5eb186",
   "metadata": {},
   "outputs": [],
   "source": [
    "trainData.drop(['Route', 'Additional_Info'], axis = 1, inplace = True)"
   ]
  },
  {
   "cell_type": "markdown",
   "id": "72431125",
   "metadata": {},
   "source": [
    "#### <span style = 'color: Orange'> 5. Total Stops Feature </span>\n",
    "---\n"
   ]
  },
  {
   "cell_type": "code",
   "execution_count": 143,
   "id": "f8c6c451",
   "metadata": {
    "scrolled": true
   },
   "outputs": [
    {
     "data": {
      "text/plain": [
       "1 stop      5625\n",
       "non-stop    3491\n",
       "2 stops     1520\n",
       "3 stops       45\n",
       "4 stops        1\n",
       "Name: Total_Stops, dtype: int64"
      ]
     },
     "execution_count": 143,
     "metadata": {},
     "output_type": "execute_result"
    }
   ],
   "source": [
    "trainData['Total_Stops'].value_counts()"
   ]
  },
  {
   "cell_type": "markdown",
   "id": "2dce3c2c",
   "metadata": {},
   "source": [
    "   * The **Total_Stops** column is a Ordinal Categorical Data. In this case LabelEncoding can be used. \n",
    "   \n",
    "   \n",
    "   * The values will be assigned to the corresponding keys"
   ]
  },
  {
   "cell_type": "code",
   "execution_count": 144,
   "id": "62cf27c0",
   "metadata": {},
   "outputs": [],
   "source": [
    "trainData.replace({\"non-stop\": 0, \"1 stop\": 1, \"2 stops\": 2, \"3 stops\": 3, \"4 stops\": 4}, inplace = True)"
   ]
  },
  {
   "cell_type": "code",
   "execution_count": 145,
   "id": "5cd541d2",
   "metadata": {},
   "outputs": [
    {
     "data": {
      "text/html": [
       "<div><div id=9b89cb57-8cde-4652-82a2-aeb494922de0 style=\"display:none; background-color:#9D6CFF; color:white; width:200px; height:30px; padding-left:5px; border-radius:4px; flex-direction:row; justify-content:space-around; align-items:center;\" onmouseover=\"this.style.backgroundColor='#BA9BF8'\" onmouseout=\"this.style.backgroundColor='#9D6CFF'\" onclick=\"window.commands?.execute('create-mitosheet-from-dataframe-output');\">See Full Dataframe in Mito</div> <script> if (window.commands?.hasCommand('create-mitosheet-from-dataframe-output')) document.getElementById('9b89cb57-8cde-4652-82a2-aeb494922de0').style.display = 'flex' </script> <table border=\"1\" class=\"dataframe\">\n",
       "  <thead>\n",
       "    <tr style=\"text-align: right;\">\n",
       "      <th></th>\n",
       "      <th>Airline</th>\n",
       "      <th>Source</th>\n",
       "      <th>Destination</th>\n",
       "      <th>Total_Stops</th>\n",
       "      <th>Price</th>\n",
       "      <th>Day_of_Journey</th>\n",
       "      <th>Month_of_Journey</th>\n",
       "      <th>Departue_Hour</th>\n",
       "      <th>Departure_Minute</th>\n",
       "      <th>Arrival_Hour</th>\n",
       "      <th>Arrival_Minute</th>\n",
       "      <th>Duration_Hours</th>\n",
       "      <th>Duration_Minutes</th>\n",
       "    </tr>\n",
       "  </thead>\n",
       "  <tbody>\n",
       "    <tr>\n",
       "      <th>0</th>\n",
       "      <td>IndiGo</td>\n",
       "      <td>Banglore</td>\n",
       "      <td>New Delhi</td>\n",
       "      <td>0</td>\n",
       "      <td>3897</td>\n",
       "      <td>24</td>\n",
       "      <td>3</td>\n",
       "      <td>22</td>\n",
       "      <td>20</td>\n",
       "      <td>1</td>\n",
       "      <td>10</td>\n",
       "      <td>2</td>\n",
       "      <td>50</td>\n",
       "    </tr>\n",
       "    <tr>\n",
       "      <th>1</th>\n",
       "      <td>Air India</td>\n",
       "      <td>Kolkata</td>\n",
       "      <td>Banglore</td>\n",
       "      <td>2</td>\n",
       "      <td>7662</td>\n",
       "      <td>1</td>\n",
       "      <td>5</td>\n",
       "      <td>5</td>\n",
       "      <td>50</td>\n",
       "      <td>13</td>\n",
       "      <td>15</td>\n",
       "      <td>7</td>\n",
       "      <td>25</td>\n",
       "    </tr>\n",
       "    <tr>\n",
       "      <th>2</th>\n",
       "      <td>Jet Airways</td>\n",
       "      <td>Delhi</td>\n",
       "      <td>Cochin</td>\n",
       "      <td>2</td>\n",
       "      <td>13882</td>\n",
       "      <td>9</td>\n",
       "      <td>6</td>\n",
       "      <td>9</td>\n",
       "      <td>25</td>\n",
       "      <td>4</td>\n",
       "      <td>25</td>\n",
       "      <td>19</td>\n",
       "      <td>0</td>\n",
       "    </tr>\n",
       "    <tr>\n",
       "      <th>3</th>\n",
       "      <td>IndiGo</td>\n",
       "      <td>Kolkata</td>\n",
       "      <td>Banglore</td>\n",
       "      <td>1</td>\n",
       "      <td>6218</td>\n",
       "      <td>12</td>\n",
       "      <td>5</td>\n",
       "      <td>18</td>\n",
       "      <td>5</td>\n",
       "      <td>23</td>\n",
       "      <td>30</td>\n",
       "      <td>5</td>\n",
       "      <td>25</td>\n",
       "    </tr>\n",
       "    <tr>\n",
       "      <th>4</th>\n",
       "      <td>IndiGo</td>\n",
       "      <td>Banglore</td>\n",
       "      <td>New Delhi</td>\n",
       "      <td>1</td>\n",
       "      <td>13302</td>\n",
       "      <td>1</td>\n",
       "      <td>3</td>\n",
       "      <td>16</td>\n",
       "      <td>50</td>\n",
       "      <td>21</td>\n",
       "      <td>35</td>\n",
       "      <td>4</td>\n",
       "      <td>45</td>\n",
       "    </tr>\n",
       "  </tbody>\n",
       "</table></div>"
      ],
      "text/plain": [
       "       Airline    Source Destination  Total_Stops  Price  Day_of_Journey  \\\n",
       "0       IndiGo  Banglore   New Delhi            0   3897              24   \n",
       "1    Air India   Kolkata    Banglore            2   7662               1   \n",
       "2  Jet Airways     Delhi      Cochin            2  13882               9   \n",
       "3       IndiGo   Kolkata    Banglore            1   6218              12   \n",
       "4       IndiGo  Banglore   New Delhi            1  13302               1   \n",
       "\n",
       "   Month_of_Journey  Departue_Hour  Departure_Minute  Arrival_Hour  \\\n",
       "0                 3             22                20             1   \n",
       "1                 5              5                50            13   \n",
       "2                 6              9                25             4   \n",
       "3                 5             18                 5            23   \n",
       "4                 3             16                50            21   \n",
       "\n",
       "   Arrival_Minute  Duration_Hours  Duration_Minutes  \n",
       "0              10               2                50  \n",
       "1              15               7                25  \n",
       "2              25              19                 0  \n",
       "3              30               5                25  \n",
       "4              35               4                45  "
      ]
     },
     "execution_count": 145,
     "metadata": {},
     "output_type": "execute_result"
    }
   ],
   "source": [
    "trainData.head()"
   ]
  },
  {
   "cell_type": "markdown",
   "id": "b581a02a",
   "metadata": {},
   "source": [
    "### <span style = 'color: Purple'> <i> * THE FINAL DATASET (DATA CONCATINATION) </i> </span>\n",
    "---\n",
    "\n",
    "   * Once the **Data Preprocessing** process in completed and the necessary information is extracted the newly extracted data can be concatinated with the <span style = 'color: green'> **train_data** </span> and a final training dataset can be created to train the machine learning model.\n",
    "   \n",
    "   \n",
    "   * The columns <span style = 'color: red'> **(Airline, Source, Destination)** </span> can be dropped.\n",
    "   \n",
    "   \n",
    "   \n",
    "   * <span style = 'color: gold'> **Dataframes to be Concatinated : train_data + Airline + Source + Destination** </span>"
   ]
  },
  {
   "cell_type": "code",
   "execution_count": 146,
   "id": "f94cf280",
   "metadata": {},
   "outputs": [],
   "source": [
    "dataTrain = pd.concat([trainData, AirlineTrain, SourceTrain, DestinationTrain], axis = 1)"
   ]
  },
  {
   "cell_type": "code",
   "execution_count": 147,
   "id": "b95c8e0c",
   "metadata": {},
   "outputs": [
    {
     "data": {
      "text/html": [
       "<div><div id=17c2778c-9008-4f9c-af72-5133fe9de9cf style=\"display:none; background-color:#9D6CFF; color:white; width:200px; height:30px; padding-left:5px; border-radius:4px; flex-direction:row; justify-content:space-around; align-items:center;\" onmouseover=\"this.style.backgroundColor='#BA9BF8'\" onmouseout=\"this.style.backgroundColor='#9D6CFF'\" onclick=\"window.commands?.execute('create-mitosheet-from-dataframe-output');\">See Full Dataframe in Mito</div> <script> if (window.commands?.hasCommand('create-mitosheet-from-dataframe-output')) document.getElementById('17c2778c-9008-4f9c-af72-5133fe9de9cf').style.display = 'flex' </script> <table border=\"1\" class=\"dataframe\">\n",
       "  <thead>\n",
       "    <tr style=\"text-align: right;\">\n",
       "      <th></th>\n",
       "      <th>Airline</th>\n",
       "      <th>Source</th>\n",
       "      <th>Destination</th>\n",
       "      <th>Total_Stops</th>\n",
       "      <th>Price</th>\n",
       "      <th>Day_of_Journey</th>\n",
       "      <th>Month_of_Journey</th>\n",
       "      <th>Departue_Hour</th>\n",
       "      <th>Departure_Minute</th>\n",
       "      <th>Arrival_Hour</th>\n",
       "      <th>Arrival_Minute</th>\n",
       "      <th>Duration_Hours</th>\n",
       "      <th>Duration_Minutes</th>\n",
       "      <th>Airline_Air India</th>\n",
       "      <th>Airline_GoAir</th>\n",
       "      <th>Airline_IndiGo</th>\n",
       "      <th>Airline_Jet Airways</th>\n",
       "      <th>Airline_Jet Airways Business</th>\n",
       "      <th>Airline_Multiple carriers</th>\n",
       "      <th>Airline_Multiple carriers Premium economy</th>\n",
       "      <th>Airline_SpiceJet</th>\n",
       "      <th>Airline_Trujet</th>\n",
       "      <th>Airline_Vistara</th>\n",
       "      <th>Airline_Vistara Premium economy</th>\n",
       "      <th>Source_Chennai</th>\n",
       "      <th>Source_Delhi</th>\n",
       "      <th>Source_Kolkata</th>\n",
       "      <th>Source_Mumbai</th>\n",
       "      <th>Destination_Cochin</th>\n",
       "      <th>Destination_Delhi</th>\n",
       "      <th>Destination_Hyderabad</th>\n",
       "      <th>Destination_Kolkata</th>\n",
       "      <th>Destination_New Delhi</th>\n",
       "    </tr>\n",
       "  </thead>\n",
       "  <tbody>\n",
       "    <tr>\n",
       "      <th>0</th>\n",
       "      <td>IndiGo</td>\n",
       "      <td>Banglore</td>\n",
       "      <td>New Delhi</td>\n",
       "      <td>0</td>\n",
       "      <td>3897</td>\n",
       "      <td>24</td>\n",
       "      <td>3</td>\n",
       "      <td>22</td>\n",
       "      <td>20</td>\n",
       "      <td>1</td>\n",
       "      <td>10</td>\n",
       "      <td>2</td>\n",
       "      <td>50</td>\n",
       "      <td>0</td>\n",
       "      <td>0</td>\n",
       "      <td>1</td>\n",
       "      <td>0</td>\n",
       "      <td>0</td>\n",
       "      <td>0</td>\n",
       "      <td>0</td>\n",
       "      <td>0</td>\n",
       "      <td>0</td>\n",
       "      <td>0</td>\n",
       "      <td>0</td>\n",
       "      <td>0</td>\n",
       "      <td>0</td>\n",
       "      <td>0</td>\n",
       "      <td>0</td>\n",
       "      <td>0</td>\n",
       "      <td>0</td>\n",
       "      <td>0</td>\n",
       "      <td>0</td>\n",
       "      <td>1</td>\n",
       "    </tr>\n",
       "    <tr>\n",
       "      <th>1</th>\n",
       "      <td>Air India</td>\n",
       "      <td>Kolkata</td>\n",
       "      <td>Banglore</td>\n",
       "      <td>2</td>\n",
       "      <td>7662</td>\n",
       "      <td>1</td>\n",
       "      <td>5</td>\n",
       "      <td>5</td>\n",
       "      <td>50</td>\n",
       "      <td>13</td>\n",
       "      <td>15</td>\n",
       "      <td>7</td>\n",
       "      <td>25</td>\n",
       "      <td>1</td>\n",
       "      <td>0</td>\n",
       "      <td>0</td>\n",
       "      <td>0</td>\n",
       "      <td>0</td>\n",
       "      <td>0</td>\n",
       "      <td>0</td>\n",
       "      <td>0</td>\n",
       "      <td>0</td>\n",
       "      <td>0</td>\n",
       "      <td>0</td>\n",
       "      <td>0</td>\n",
       "      <td>0</td>\n",
       "      <td>1</td>\n",
       "      <td>0</td>\n",
       "      <td>0</td>\n",
       "      <td>0</td>\n",
       "      <td>0</td>\n",
       "      <td>0</td>\n",
       "      <td>0</td>\n",
       "    </tr>\n",
       "    <tr>\n",
       "      <th>2</th>\n",
       "      <td>Jet Airways</td>\n",
       "      <td>Delhi</td>\n",
       "      <td>Cochin</td>\n",
       "      <td>2</td>\n",
       "      <td>13882</td>\n",
       "      <td>9</td>\n",
       "      <td>6</td>\n",
       "      <td>9</td>\n",
       "      <td>25</td>\n",
       "      <td>4</td>\n",
       "      <td>25</td>\n",
       "      <td>19</td>\n",
       "      <td>0</td>\n",
       "      <td>0</td>\n",
       "      <td>0</td>\n",
       "      <td>0</td>\n",
       "      <td>1</td>\n",
       "      <td>0</td>\n",
       "      <td>0</td>\n",
       "      <td>0</td>\n",
       "      <td>0</td>\n",
       "      <td>0</td>\n",
       "      <td>0</td>\n",
       "      <td>0</td>\n",
       "      <td>0</td>\n",
       "      <td>1</td>\n",
       "      <td>0</td>\n",
       "      <td>0</td>\n",
       "      <td>1</td>\n",
       "      <td>0</td>\n",
       "      <td>0</td>\n",
       "      <td>0</td>\n",
       "      <td>0</td>\n",
       "    </tr>\n",
       "    <tr>\n",
       "      <th>3</th>\n",
       "      <td>IndiGo</td>\n",
       "      <td>Kolkata</td>\n",
       "      <td>Banglore</td>\n",
       "      <td>1</td>\n",
       "      <td>6218</td>\n",
       "      <td>12</td>\n",
       "      <td>5</td>\n",
       "      <td>18</td>\n",
       "      <td>5</td>\n",
       "      <td>23</td>\n",
       "      <td>30</td>\n",
       "      <td>5</td>\n",
       "      <td>25</td>\n",
       "      <td>0</td>\n",
       "      <td>0</td>\n",
       "      <td>1</td>\n",
       "      <td>0</td>\n",
       "      <td>0</td>\n",
       "      <td>0</td>\n",
       "      <td>0</td>\n",
       "      <td>0</td>\n",
       "      <td>0</td>\n",
       "      <td>0</td>\n",
       "      <td>0</td>\n",
       "      <td>0</td>\n",
       "      <td>0</td>\n",
       "      <td>1</td>\n",
       "      <td>0</td>\n",
       "      <td>0</td>\n",
       "      <td>0</td>\n",
       "      <td>0</td>\n",
       "      <td>0</td>\n",
       "      <td>0</td>\n",
       "    </tr>\n",
       "    <tr>\n",
       "      <th>4</th>\n",
       "      <td>IndiGo</td>\n",
       "      <td>Banglore</td>\n",
       "      <td>New Delhi</td>\n",
       "      <td>1</td>\n",
       "      <td>13302</td>\n",
       "      <td>1</td>\n",
       "      <td>3</td>\n",
       "      <td>16</td>\n",
       "      <td>50</td>\n",
       "      <td>21</td>\n",
       "      <td>35</td>\n",
       "      <td>4</td>\n",
       "      <td>45</td>\n",
       "      <td>0</td>\n",
       "      <td>0</td>\n",
       "      <td>1</td>\n",
       "      <td>0</td>\n",
       "      <td>0</td>\n",
       "      <td>0</td>\n",
       "      <td>0</td>\n",
       "      <td>0</td>\n",
       "      <td>0</td>\n",
       "      <td>0</td>\n",
       "      <td>0</td>\n",
       "      <td>0</td>\n",
       "      <td>0</td>\n",
       "      <td>0</td>\n",
       "      <td>0</td>\n",
       "      <td>0</td>\n",
       "      <td>0</td>\n",
       "      <td>0</td>\n",
       "      <td>0</td>\n",
       "      <td>1</td>\n",
       "    </tr>\n",
       "  </tbody>\n",
       "</table></div>"
      ],
      "text/plain": [
       "       Airline    Source Destination  Total_Stops  Price  Day_of_Journey  \\\n",
       "0       IndiGo  Banglore   New Delhi            0   3897              24   \n",
       "1    Air India   Kolkata    Banglore            2   7662               1   \n",
       "2  Jet Airways     Delhi      Cochin            2  13882               9   \n",
       "3       IndiGo   Kolkata    Banglore            1   6218              12   \n",
       "4       IndiGo  Banglore   New Delhi            1  13302               1   \n",
       "\n",
       "   Month_of_Journey  Departue_Hour  Departure_Minute  Arrival_Hour  \\\n",
       "0                 3             22                20             1   \n",
       "1                 5              5                50            13   \n",
       "2                 6              9                25             4   \n",
       "3                 5             18                 5            23   \n",
       "4                 3             16                50            21   \n",
       "\n",
       "   Arrival_Minute  Duration_Hours  Duration_Minutes  Airline_Air India  \\\n",
       "0              10               2                50                  0   \n",
       "1              15               7                25                  1   \n",
       "2              25              19                 0                  0   \n",
       "3              30               5                25                  0   \n",
       "4              35               4                45                  0   \n",
       "\n",
       "   Airline_GoAir  Airline_IndiGo  Airline_Jet Airways  \\\n",
       "0              0               1                    0   \n",
       "1              0               0                    0   \n",
       "2              0               0                    1   \n",
       "3              0               1                    0   \n",
       "4              0               1                    0   \n",
       "\n",
       "   Airline_Jet Airways Business  Airline_Multiple carriers  \\\n",
       "0                             0                          0   \n",
       "1                             0                          0   \n",
       "2                             0                          0   \n",
       "3                             0                          0   \n",
       "4                             0                          0   \n",
       "\n",
       "   Airline_Multiple carriers Premium economy  Airline_SpiceJet  \\\n",
       "0                                          0                 0   \n",
       "1                                          0                 0   \n",
       "2                                          0                 0   \n",
       "3                                          0                 0   \n",
       "4                                          0                 0   \n",
       "\n",
       "   Airline_Trujet  Airline_Vistara  Airline_Vistara Premium economy  \\\n",
       "0               0                0                                0   \n",
       "1               0                0                                0   \n",
       "2               0                0                                0   \n",
       "3               0                0                                0   \n",
       "4               0                0                                0   \n",
       "\n",
       "   Source_Chennai  Source_Delhi  Source_Kolkata  Source_Mumbai  \\\n",
       "0               0             0               0              0   \n",
       "1               0             0               1              0   \n",
       "2               0             1               0              0   \n",
       "3               0             0               1              0   \n",
       "4               0             0               0              0   \n",
       "\n",
       "   Destination_Cochin  Destination_Delhi  Destination_Hyderabad  \\\n",
       "0                   0                  0                      0   \n",
       "1                   0                  0                      0   \n",
       "2                   1                  0                      0   \n",
       "3                   0                  0                      0   \n",
       "4                   0                  0                      0   \n",
       "\n",
       "   Destination_Kolkata  Destination_New Delhi  \n",
       "0                    0                      1  \n",
       "1                    0                      0  \n",
       "2                    0                      0  \n",
       "3                    0                      0  \n",
       "4                    0                      1  "
      ]
     },
     "execution_count": 147,
     "metadata": {},
     "output_type": "execute_result"
    }
   ],
   "source": [
    "dataTrain.head()"
   ]
  },
  {
   "cell_type": "markdown",
   "id": "a7b98ec4",
   "metadata": {},
   "source": [
    "<span style = 'color:Green'> **Dropping the Airline, Source, Desitnation Features.** </span>"
   ]
  },
  {
   "cell_type": "code",
   "execution_count": 148,
   "id": "5ea31e2e",
   "metadata": {},
   "outputs": [],
   "source": [
    "dataTrain.drop(['Airline', 'Source', 'Destination'], axis = 1, inplace = True)"
   ]
  },
  {
   "cell_type": "code",
   "execution_count": 149,
   "id": "3fbe5aaf",
   "metadata": {},
   "outputs": [
    {
     "data": {
      "text/html": [
       "<div><div id=641c79cf-ac6a-4f82-9844-5e70ffca268e style=\"display:none; background-color:#9D6CFF; color:white; width:200px; height:30px; padding-left:5px; border-radius:4px; flex-direction:row; justify-content:space-around; align-items:center;\" onmouseover=\"this.style.backgroundColor='#BA9BF8'\" onmouseout=\"this.style.backgroundColor='#9D6CFF'\" onclick=\"window.commands?.execute('create-mitosheet-from-dataframe-output');\">See Full Dataframe in Mito</div> <script> if (window.commands?.hasCommand('create-mitosheet-from-dataframe-output')) document.getElementById('641c79cf-ac6a-4f82-9844-5e70ffca268e').style.display = 'flex' </script> <table border=\"1\" class=\"dataframe\">\n",
       "  <thead>\n",
       "    <tr style=\"text-align: right;\">\n",
       "      <th></th>\n",
       "      <th>Total_Stops</th>\n",
       "      <th>Price</th>\n",
       "      <th>Day_of_Journey</th>\n",
       "      <th>Month_of_Journey</th>\n",
       "      <th>Departue_Hour</th>\n",
       "      <th>Departure_Minute</th>\n",
       "      <th>Arrival_Hour</th>\n",
       "      <th>Arrival_Minute</th>\n",
       "      <th>Duration_Hours</th>\n",
       "      <th>Duration_Minutes</th>\n",
       "      <th>Airline_Air India</th>\n",
       "      <th>Airline_GoAir</th>\n",
       "      <th>Airline_IndiGo</th>\n",
       "      <th>Airline_Jet Airways</th>\n",
       "      <th>Airline_Jet Airways Business</th>\n",
       "      <th>Airline_Multiple carriers</th>\n",
       "      <th>Airline_Multiple carriers Premium economy</th>\n",
       "      <th>Airline_SpiceJet</th>\n",
       "      <th>Airline_Trujet</th>\n",
       "      <th>Airline_Vistara</th>\n",
       "      <th>Airline_Vistara Premium economy</th>\n",
       "      <th>Source_Chennai</th>\n",
       "      <th>Source_Delhi</th>\n",
       "      <th>Source_Kolkata</th>\n",
       "      <th>Source_Mumbai</th>\n",
       "      <th>Destination_Cochin</th>\n",
       "      <th>Destination_Delhi</th>\n",
       "      <th>Destination_Hyderabad</th>\n",
       "      <th>Destination_Kolkata</th>\n",
       "      <th>Destination_New Delhi</th>\n",
       "    </tr>\n",
       "  </thead>\n",
       "  <tbody>\n",
       "    <tr>\n",
       "      <th>0</th>\n",
       "      <td>0</td>\n",
       "      <td>3897</td>\n",
       "      <td>24</td>\n",
       "      <td>3</td>\n",
       "      <td>22</td>\n",
       "      <td>20</td>\n",
       "      <td>1</td>\n",
       "      <td>10</td>\n",
       "      <td>2</td>\n",
       "      <td>50</td>\n",
       "      <td>0</td>\n",
       "      <td>0</td>\n",
       "      <td>1</td>\n",
       "      <td>0</td>\n",
       "      <td>0</td>\n",
       "      <td>0</td>\n",
       "      <td>0</td>\n",
       "      <td>0</td>\n",
       "      <td>0</td>\n",
       "      <td>0</td>\n",
       "      <td>0</td>\n",
       "      <td>0</td>\n",
       "      <td>0</td>\n",
       "      <td>0</td>\n",
       "      <td>0</td>\n",
       "      <td>0</td>\n",
       "      <td>0</td>\n",
       "      <td>0</td>\n",
       "      <td>0</td>\n",
       "      <td>1</td>\n",
       "    </tr>\n",
       "    <tr>\n",
       "      <th>1</th>\n",
       "      <td>2</td>\n",
       "      <td>7662</td>\n",
       "      <td>1</td>\n",
       "      <td>5</td>\n",
       "      <td>5</td>\n",
       "      <td>50</td>\n",
       "      <td>13</td>\n",
       "      <td>15</td>\n",
       "      <td>7</td>\n",
       "      <td>25</td>\n",
       "      <td>1</td>\n",
       "      <td>0</td>\n",
       "      <td>0</td>\n",
       "      <td>0</td>\n",
       "      <td>0</td>\n",
       "      <td>0</td>\n",
       "      <td>0</td>\n",
       "      <td>0</td>\n",
       "      <td>0</td>\n",
       "      <td>0</td>\n",
       "      <td>0</td>\n",
       "      <td>0</td>\n",
       "      <td>0</td>\n",
       "      <td>1</td>\n",
       "      <td>0</td>\n",
       "      <td>0</td>\n",
       "      <td>0</td>\n",
       "      <td>0</td>\n",
       "      <td>0</td>\n",
       "      <td>0</td>\n",
       "    </tr>\n",
       "    <tr>\n",
       "      <th>2</th>\n",
       "      <td>2</td>\n",
       "      <td>13882</td>\n",
       "      <td>9</td>\n",
       "      <td>6</td>\n",
       "      <td>9</td>\n",
       "      <td>25</td>\n",
       "      <td>4</td>\n",
       "      <td>25</td>\n",
       "      <td>19</td>\n",
       "      <td>0</td>\n",
       "      <td>0</td>\n",
       "      <td>0</td>\n",
       "      <td>0</td>\n",
       "      <td>1</td>\n",
       "      <td>0</td>\n",
       "      <td>0</td>\n",
       "      <td>0</td>\n",
       "      <td>0</td>\n",
       "      <td>0</td>\n",
       "      <td>0</td>\n",
       "      <td>0</td>\n",
       "      <td>0</td>\n",
       "      <td>1</td>\n",
       "      <td>0</td>\n",
       "      <td>0</td>\n",
       "      <td>1</td>\n",
       "      <td>0</td>\n",
       "      <td>0</td>\n",
       "      <td>0</td>\n",
       "      <td>0</td>\n",
       "    </tr>\n",
       "    <tr>\n",
       "      <th>3</th>\n",
       "      <td>1</td>\n",
       "      <td>6218</td>\n",
       "      <td>12</td>\n",
       "      <td>5</td>\n",
       "      <td>18</td>\n",
       "      <td>5</td>\n",
       "      <td>23</td>\n",
       "      <td>30</td>\n",
       "      <td>5</td>\n",
       "      <td>25</td>\n",
       "      <td>0</td>\n",
       "      <td>0</td>\n",
       "      <td>1</td>\n",
       "      <td>0</td>\n",
       "      <td>0</td>\n",
       "      <td>0</td>\n",
       "      <td>0</td>\n",
       "      <td>0</td>\n",
       "      <td>0</td>\n",
       "      <td>0</td>\n",
       "      <td>0</td>\n",
       "      <td>0</td>\n",
       "      <td>0</td>\n",
       "      <td>1</td>\n",
       "      <td>0</td>\n",
       "      <td>0</td>\n",
       "      <td>0</td>\n",
       "      <td>0</td>\n",
       "      <td>0</td>\n",
       "      <td>0</td>\n",
       "    </tr>\n",
       "    <tr>\n",
       "      <th>4</th>\n",
       "      <td>1</td>\n",
       "      <td>13302</td>\n",
       "      <td>1</td>\n",
       "      <td>3</td>\n",
       "      <td>16</td>\n",
       "      <td>50</td>\n",
       "      <td>21</td>\n",
       "      <td>35</td>\n",
       "      <td>4</td>\n",
       "      <td>45</td>\n",
       "      <td>0</td>\n",
       "      <td>0</td>\n",
       "      <td>1</td>\n",
       "      <td>0</td>\n",
       "      <td>0</td>\n",
       "      <td>0</td>\n",
       "      <td>0</td>\n",
       "      <td>0</td>\n",
       "      <td>0</td>\n",
       "      <td>0</td>\n",
       "      <td>0</td>\n",
       "      <td>0</td>\n",
       "      <td>0</td>\n",
       "      <td>0</td>\n",
       "      <td>0</td>\n",
       "      <td>0</td>\n",
       "      <td>0</td>\n",
       "      <td>0</td>\n",
       "      <td>0</td>\n",
       "      <td>1</td>\n",
       "    </tr>\n",
       "  </tbody>\n",
       "</table></div>"
      ],
      "text/plain": [
       "   Total_Stops  Price  Day_of_Journey  Month_of_Journey  Departue_Hour  \\\n",
       "0            0   3897              24                 3             22   \n",
       "1            2   7662               1                 5              5   \n",
       "2            2  13882               9                 6              9   \n",
       "3            1   6218              12                 5             18   \n",
       "4            1  13302               1                 3             16   \n",
       "\n",
       "   Departure_Minute  Arrival_Hour  Arrival_Minute  Duration_Hours  \\\n",
       "0                20             1              10               2   \n",
       "1                50            13              15               7   \n",
       "2                25             4              25              19   \n",
       "3                 5            23              30               5   \n",
       "4                50            21              35               4   \n",
       "\n",
       "   Duration_Minutes  Airline_Air India  Airline_GoAir  Airline_IndiGo  \\\n",
       "0                50                  0              0               1   \n",
       "1                25                  1              0               0   \n",
       "2                 0                  0              0               0   \n",
       "3                25                  0              0               1   \n",
       "4                45                  0              0               1   \n",
       "\n",
       "   Airline_Jet Airways  Airline_Jet Airways Business  \\\n",
       "0                    0                             0   \n",
       "1                    0                             0   \n",
       "2                    1                             0   \n",
       "3                    0                             0   \n",
       "4                    0                             0   \n",
       "\n",
       "   Airline_Multiple carriers  Airline_Multiple carriers Premium economy  \\\n",
       "0                          0                                          0   \n",
       "1                          0                                          0   \n",
       "2                          0                                          0   \n",
       "3                          0                                          0   \n",
       "4                          0                                          0   \n",
       "\n",
       "   Airline_SpiceJet  Airline_Trujet  Airline_Vistara  \\\n",
       "0                 0               0                0   \n",
       "1                 0               0                0   \n",
       "2                 0               0                0   \n",
       "3                 0               0                0   \n",
       "4                 0               0                0   \n",
       "\n",
       "   Airline_Vistara Premium economy  Source_Chennai  Source_Delhi  \\\n",
       "0                                0               0             0   \n",
       "1                                0               0             0   \n",
       "2                                0               0             1   \n",
       "3                                0               0             0   \n",
       "4                                0               0             0   \n",
       "\n",
       "   Source_Kolkata  Source_Mumbai  Destination_Cochin  Destination_Delhi  \\\n",
       "0               0              0                   0                  0   \n",
       "1               1              0                   0                  0   \n",
       "2               0              0                   1                  0   \n",
       "3               1              0                   0                  0   \n",
       "4               0              0                   0                  0   \n",
       "\n",
       "   Destination_Hyderabad  Destination_Kolkata  Destination_New Delhi  \n",
       "0                      0                    0                      1  \n",
       "1                      0                    0                      0  \n",
       "2                      0                    0                      0  \n",
       "3                      0                    0                      0  \n",
       "4                      0                    0                      1  "
      ]
     },
     "execution_count": 149,
     "metadata": {},
     "output_type": "execute_result"
    }
   ],
   "source": [
    "dataTrain.head()"
   ]
  },
  {
   "cell_type": "markdown",
   "id": "349ceba6",
   "metadata": {},
   "source": [
    "#### <span style = 'color: green'> * Shape of the Dataset After Preprocessing </span>"
   ]
  },
  {
   "cell_type": "code",
   "execution_count": 150,
   "id": "92453cc3",
   "metadata": {},
   "outputs": [
    {
     "name": "stdout",
     "output_type": "stream",
     "text": [
      "Shape of the data after pre-processing:\n",
      "\n"
     ]
    },
    {
     "data": {
      "text/plain": [
       "(10682, 30)"
      ]
     },
     "execution_count": 150,
     "metadata": {},
     "output_type": "execute_result"
    }
   ],
   "source": [
    "print(f\"Shape of the data after pre-processing:\")\n",
    "print()\n",
    "\n",
    "dataTrain.shape"
   ]
  },
  {
   "cell_type": "markdown",
   "id": "b4f6554e",
   "metadata": {},
   "source": [
    "---"
   ]
  },
  {
   "cell_type": "markdown",
   "id": "b018e14b",
   "metadata": {},
   "source": [
    "## <span style = 'color:Green'> <i> TESTING DATASET </i> </span>\n",
    "---"
   ]
  },
  {
   "cell_type": "markdown",
   "id": "7a4de327",
   "metadata": {},
   "source": [
    "### <span style = 'color:Purple'> <i> IMPORTING THE DATASET </i> </span>\n",
    "---"
   ]
  },
  {
   "cell_type": "code",
   "execution_count": 151,
   "id": "61476575",
   "metadata": {},
   "outputs": [],
   "source": [
    "testData = pd.read_excel(r\"Datasets/Test_set.xlsx\")"
   ]
  },
  {
   "cell_type": "markdown",
   "id": "bc37e47c",
   "metadata": {},
   "source": [
    "### <span style = 'color:Purple'> <i> EXPLORATORY DATA ANALYSIS (EDA) FOR TESTING DATASET </i> </span>\n",
    "---"
   ]
  },
  {
   "cell_type": "markdown",
   "id": "13f13e4c",
   "metadata": {},
   "source": [
    "#### <span style = 'color:Orange'> * Head of the testing dataset (Top 5 records of the dataset) </span>\n",
    "---\n",
    "\n",
    "   * The top 5 records of the testing dataset"
   ]
  },
  {
   "cell_type": "code",
   "execution_count": 152,
   "id": "619ab391",
   "metadata": {},
   "outputs": [
    {
     "name": "stdout",
     "output_type": "stream",
     "text": [
      "The top 5 records of the dataset: \n",
      "\n"
     ]
    },
    {
     "data": {
      "text/html": [
       "<div><div id=d2375e87-b69b-41ce-a38a-399c7cd30813 style=\"display:none; background-color:#9D6CFF; color:white; width:200px; height:30px; padding-left:5px; border-radius:4px; flex-direction:row; justify-content:space-around; align-items:center;\" onmouseover=\"this.style.backgroundColor='#BA9BF8'\" onmouseout=\"this.style.backgroundColor='#9D6CFF'\" onclick=\"window.commands?.execute('create-mitosheet-from-dataframe-output');\">See Full Dataframe in Mito</div> <script> if (window.commands?.hasCommand('create-mitosheet-from-dataframe-output')) document.getElementById('d2375e87-b69b-41ce-a38a-399c7cd30813').style.display = 'flex' </script> <table border=\"1\" class=\"dataframe\">\n",
       "  <thead>\n",
       "    <tr style=\"text-align: right;\">\n",
       "      <th></th>\n",
       "      <th>Airline</th>\n",
       "      <th>Date_of_Journey</th>\n",
       "      <th>Source</th>\n",
       "      <th>Destination</th>\n",
       "      <th>Route</th>\n",
       "      <th>Dep_Time</th>\n",
       "      <th>Arrival_Time</th>\n",
       "      <th>Duration</th>\n",
       "      <th>Total_Stops</th>\n",
       "      <th>Additional_Info</th>\n",
       "    </tr>\n",
       "  </thead>\n",
       "  <tbody>\n",
       "    <tr>\n",
       "      <th>0</th>\n",
       "      <td>Jet Airways</td>\n",
       "      <td>6/06/2019</td>\n",
       "      <td>Delhi</td>\n",
       "      <td>Cochin</td>\n",
       "      <td>DEL → BOM → COK</td>\n",
       "      <td>17:30</td>\n",
       "      <td>04:25 07 Jun</td>\n",
       "      <td>10h 55m</td>\n",
       "      <td>1 stop</td>\n",
       "      <td>No info</td>\n",
       "    </tr>\n",
       "    <tr>\n",
       "      <th>1</th>\n",
       "      <td>IndiGo</td>\n",
       "      <td>12/05/2019</td>\n",
       "      <td>Kolkata</td>\n",
       "      <td>Banglore</td>\n",
       "      <td>CCU → MAA → BLR</td>\n",
       "      <td>06:20</td>\n",
       "      <td>10:20</td>\n",
       "      <td>4h</td>\n",
       "      <td>1 stop</td>\n",
       "      <td>No info</td>\n",
       "    </tr>\n",
       "    <tr>\n",
       "      <th>2</th>\n",
       "      <td>Jet Airways</td>\n",
       "      <td>21/05/2019</td>\n",
       "      <td>Delhi</td>\n",
       "      <td>Cochin</td>\n",
       "      <td>DEL → BOM → COK</td>\n",
       "      <td>19:15</td>\n",
       "      <td>19:00 22 May</td>\n",
       "      <td>23h 45m</td>\n",
       "      <td>1 stop</td>\n",
       "      <td>In-flight meal not included</td>\n",
       "    </tr>\n",
       "    <tr>\n",
       "      <th>3</th>\n",
       "      <td>Multiple carriers</td>\n",
       "      <td>21/05/2019</td>\n",
       "      <td>Delhi</td>\n",
       "      <td>Cochin</td>\n",
       "      <td>DEL → BOM → COK</td>\n",
       "      <td>08:00</td>\n",
       "      <td>21:00</td>\n",
       "      <td>13h</td>\n",
       "      <td>1 stop</td>\n",
       "      <td>No info</td>\n",
       "    </tr>\n",
       "    <tr>\n",
       "      <th>4</th>\n",
       "      <td>Air Asia</td>\n",
       "      <td>24/06/2019</td>\n",
       "      <td>Banglore</td>\n",
       "      <td>Delhi</td>\n",
       "      <td>BLR → DEL</td>\n",
       "      <td>23:55</td>\n",
       "      <td>02:45 25 Jun</td>\n",
       "      <td>2h 50m</td>\n",
       "      <td>non-stop</td>\n",
       "      <td>No info</td>\n",
       "    </tr>\n",
       "  </tbody>\n",
       "</table></div>"
      ],
      "text/plain": [
       "             Airline Date_of_Journey    Source Destination            Route  \\\n",
       "0        Jet Airways       6/06/2019     Delhi      Cochin  DEL → BOM → COK   \n",
       "1             IndiGo      12/05/2019   Kolkata    Banglore  CCU → MAA → BLR   \n",
       "2        Jet Airways      21/05/2019     Delhi      Cochin  DEL → BOM → COK   \n",
       "3  Multiple carriers      21/05/2019     Delhi      Cochin  DEL → BOM → COK   \n",
       "4           Air Asia      24/06/2019  Banglore       Delhi        BLR → DEL   \n",
       "\n",
       "  Dep_Time  Arrival_Time Duration Total_Stops              Additional_Info  \n",
       "0    17:30  04:25 07 Jun  10h 55m      1 stop                      No info  \n",
       "1    06:20         10:20       4h      1 stop                      No info  \n",
       "2    19:15  19:00 22 May  23h 45m      1 stop  In-flight meal not included  \n",
       "3    08:00         21:00      13h      1 stop                      No info  \n",
       "4    23:55  02:45 25 Jun   2h 50m    non-stop                      No info  "
      ]
     },
     "execution_count": 152,
     "metadata": {},
     "output_type": "execute_result"
    }
   ],
   "source": [
    "print(f\"The top 5 records of the dataset: \")\n",
    "print()\n",
    "\n",
    "testData.head()"
   ]
  },
  {
   "cell_type": "markdown",
   "id": "5cfa428b",
   "metadata": {},
   "source": [
    "#### <span style = 'color:Orange'> * Information about the test dataset </span>\n",
    "---"
   ]
  },
  {
   "cell_type": "code",
   "execution_count": 153,
   "id": "a8f9a483",
   "metadata": {},
   "outputs": [
    {
     "name": "stdout",
     "output_type": "stream",
     "text": [
      "The basic information about the dataset :\n",
      "\n",
      "<class 'pandas.core.frame.DataFrame'>\n",
      "RangeIndex: 2671 entries, 0 to 2670\n",
      "Data columns (total 10 columns):\n",
      " #   Column           Non-Null Count  Dtype \n",
      "---  ------           --------------  ----- \n",
      " 0   Airline          2671 non-null   object\n",
      " 1   Date_of_Journey  2671 non-null   object\n",
      " 2   Source           2671 non-null   object\n",
      " 3   Destination      2671 non-null   object\n",
      " 4   Route            2671 non-null   object\n",
      " 5   Dep_Time         2671 non-null   object\n",
      " 6   Arrival_Time     2671 non-null   object\n",
      " 7   Duration         2671 non-null   object\n",
      " 8   Total_Stops      2671 non-null   object\n",
      " 9   Additional_Info  2671 non-null   object\n",
      "dtypes: object(10)\n",
      "memory usage: 208.8+ KB\n"
     ]
    }
   ],
   "source": [
    "print(f\"The basic information about the dataset :\")\n",
    "print()\n",
    "\n",
    "testData.info()"
   ]
  },
  {
   "cell_type": "markdown",
   "id": "3ade427d",
   "metadata": {},
   "source": [
    "#### <span style=\"color: Orange\"> * Shape of the Testing Dataset </span>\n",
    "---"
   ]
  },
  {
   "cell_type": "code",
   "execution_count": 154,
   "id": "c9b3994e",
   "metadata": {},
   "outputs": [
    {
     "name": "stdout",
     "output_type": "stream",
     "text": [
      "Number of records (observations) and featrures of the testing dataset: \n",
      "\n"
     ]
    },
    {
     "data": {
      "text/plain": [
       "(2671, 10)"
      ]
     },
     "execution_count": 154,
     "metadata": {},
     "output_type": "execute_result"
    }
   ],
   "source": [
    "print(f\"Number of records (observations) and featrures of the testing dataset: \")\n",
    "print()\n",
    "\n",
    "testData.shape"
   ]
  },
  {
   "cell_type": "markdown",
   "id": "e7170495",
   "metadata": {},
   "source": [
    "#### <span style=\"color: Orange\"> * Checking the Missing / Null values in the Dataset </span>\n",
    "---"
   ]
  },
  {
   "cell_type": "code",
   "execution_count": 155,
   "id": "408ecf89",
   "metadata": {},
   "outputs": [
    {
     "name": "stdout",
     "output_type": "stream",
     "text": [
      "Checking for Missing / Null \n",
      "\n"
     ]
    },
    {
     "data": {
      "text/plain": [
       "Airline            0.0\n",
       "Date_of_Journey    0.0\n",
       "Source             0.0\n",
       "Destination        0.0\n",
       "Route              0.0\n",
       "Dep_Time           0.0\n",
       "Arrival_Time       0.0\n",
       "Duration           0.0\n",
       "Total_Stops        0.0\n",
       "Additional_Info    0.0\n",
       "dtype: float64"
      ]
     },
     "execution_count": 155,
     "metadata": {},
     "output_type": "execute_result"
    }
   ],
   "source": [
    "print(f\"Checking for Missing / Null \")\n",
    "print()\n",
    "\n",
    "round(testData.isnull().sum() / len(testData) * 100, 2)"
   ]
  },
  {
   "cell_type": "markdown",
   "id": "6db95536",
   "metadata": {},
   "source": [
    "### <span style = 'color:Purple'> <i> DATA PRE-PROCESSING OF THE TESTING DATASET </i> </span>\n",
    "---"
   ]
  },
  {
   "cell_type": "markdown",
   "id": "cb152c32",
   "metadata": {},
   "source": [
    "#### <span style=\"color:Orange\"> 1. Date_of_Journey Feature </span>\n",
    "\n",
    "   * **Extracting the Day and Month from the Date_of_Journey column.**"
   ]
  },
  {
   "cell_type": "code",
   "execution_count": 156,
   "id": "82048010",
   "metadata": {},
   "outputs": [],
   "source": [
    "testData['Day_of_Journey'] = pd.to_datetime(testData.Date_of_Journey, format = '%d/%m/%Y').dt.day\n",
    "\n",
    "testData['Month_of_Journey'] = pd.to_datetime(testData['Date_of_Journey'], format = '%d/%m/%Y').dt.month"
   ]
  },
  {
   "cell_type": "markdown",
   "id": "c8b38c17",
   "metadata": {},
   "source": [
    "   * Once the Day and Month are extracted from the Date_of_Journey column, it can be dropped."
   ]
  },
  {
   "cell_type": "code",
   "execution_count": 157,
   "id": "ac2e65cc",
   "metadata": {},
   "outputs": [],
   "source": [
    "testData.drop(['Date_of_Journey'], axis = 1, inplace = True)"
   ]
  },
  {
   "cell_type": "markdown",
   "id": "3c94511a",
   "metadata": {},
   "source": [
    "---"
   ]
  },
  {
   "cell_type": "markdown",
   "id": "4d83039c",
   "metadata": {},
   "source": [
    "#### <span style = 'color: Orange'> 2. Dep_Time Feature </span>\n",
    "\n",
    "   * **Extracting the Hour and Minutes from the Dep_Time column.**"
   ]
  },
  {
   "cell_type": "code",
   "execution_count": 158,
   "id": "4e92efd9",
   "metadata": {},
   "outputs": [],
   "source": [
    "testData['Dep_Hours'] = pd.to_datetime(testData['Dep_Time']).dt.hour\n",
    "\n",
    "testData['Dep_Minutes'] = pd.to_datetime(testData['Dep_Time']).dt.minute"
   ]
  },
  {
   "cell_type": "markdown",
   "id": "ccf1a9f4",
   "metadata": {},
   "source": [
    "   * Once the Hours and Minutes are extracted from Dep_Time column that column can be deleted."
   ]
  },
  {
   "cell_type": "code",
   "execution_count": 159,
   "id": "386a9c23",
   "metadata": {},
   "outputs": [],
   "source": [
    "testData.drop(['Dep_Time'], axis = 1, inplace = True)"
   ]
  },
  {
   "cell_type": "markdown",
   "id": "3c8361ce",
   "metadata": {},
   "source": [
    "---"
   ]
  },
  {
   "cell_type": "markdown",
   "id": "fa1f6c4b",
   "metadata": {},
   "source": [
    "#### <span style = 'color: Orange'> 3. Arrival_Time Feature </span>\n",
    "\n",
    "   * **Extracting the Hour and Minutes from the Arrival_Time column.**"
   ]
  },
  {
   "cell_type": "code",
   "execution_count": 160,
   "id": "cf76acaf",
   "metadata": {},
   "outputs": [],
   "source": [
    "testData['Arrival_Hours'] = pd.to_datetime(testData.Arrival_Time).dt.hour\n",
    "\n",
    "testData['Arrival_Minutes'] = pd.to_datetime(testData.Arrival_Time).dt.minute"
   ]
  },
  {
   "cell_type": "markdown",
   "id": "3cb770da",
   "metadata": {},
   "source": [
    "* Once the Hours and Minutes are extracted from Arrival_Time column that column can be deleted."
   ]
  },
  {
   "cell_type": "code",
   "execution_count": 161,
   "id": "07618b0e",
   "metadata": {},
   "outputs": [],
   "source": [
    "testData.drop(['Arrival_Time'], axis = 1, inplace = True)"
   ]
  },
  {
   "cell_type": "markdown",
   "id": "c97ec83d",
   "metadata": {},
   "source": [
    "---"
   ]
  },
  {
   "cell_type": "markdown",
   "id": "31292d1a",
   "metadata": {},
   "source": [
    "#### <span style = 'color: Orange'> 4. Duration </span>\n",
    "\n",
    "   * **Converting Duration column into list.**"
   ]
  },
  {
   "cell_type": "code",
   "execution_count": 162,
   "id": "2b844eab",
   "metadata": {},
   "outputs": [],
   "source": [
    "durationTest = list(testData['Duration'])\n",
    "\n",
    "for i in range(len(durationTest)):\n",
    "    \n",
    "    if len(durationTest[i].split()) != 2:\n",
    "        \n",
    "        if 'h' in durationTest[i]:\n",
    "            durationTest[i] = durationTest[i].strip() + ' 0m'\n",
    "        \n",
    "        else:\n",
    "            durationTest[i] = '0h ' + durationTest[i]\n",
    "\n",
    "            \n",
    "Duration_Hours = []\n",
    "Duration_Minutes = []\n",
    "\n",
    "for i in range(len(durationTest)):\n",
    "    Duration_Hours.append(int(durationTest[i].split(sep = 'h')[0]))\n",
    "    Duration_Minutes.append(int(durationTest[i].split(sep = 'm')[0].split()[-1]))    "
   ]
  },
  {
   "cell_type": "markdown",
   "id": "f34a3c58",
   "metadata": {},
   "source": [
    "   * Add the **duration_Hours** and **duration_Min** List into **test_data** DataFrame"
   ]
  },
  {
   "cell_type": "code",
   "execution_count": 163,
   "id": "2bb6b4bd",
   "metadata": {},
   "outputs": [],
   "source": [
    "testData['Duration_Hours'] = Duration_Hours\n",
    "testData['Duration_Minutes'] = Duration_Minutes"
   ]
  },
  {
   "cell_type": "markdown",
   "id": "d7cd09de",
   "metadata": {},
   "source": [
    "   * Now the **Hours** and **Minutes** has been extracted from **Duration** column, it can be dropped.\n",
    "   \n",
    "   \n",
    "   * The **Duration** will be of no use for the further analysis process."
   ]
  },
  {
   "cell_type": "code",
   "execution_count": 164,
   "id": "51d4c284",
   "metadata": {},
   "outputs": [],
   "source": [
    "testData.drop(['Duration'], axis = 1, inplace = True)"
   ]
  },
  {
   "cell_type": "markdown",
   "id": "bd7b2194",
   "metadata": {},
   "source": [
    "---"
   ]
  },
  {
   "cell_type": "code",
   "execution_count": 165,
   "id": "4fae085d",
   "metadata": {},
   "outputs": [
    {
     "data": {
      "text/html": [
       "<div><div id=fd06bb31-c9b2-48ad-9ba8-373daa8ba9e7 style=\"display:none; background-color:#9D6CFF; color:white; width:200px; height:30px; padding-left:5px; border-radius:4px; flex-direction:row; justify-content:space-around; align-items:center;\" onmouseover=\"this.style.backgroundColor='#BA9BF8'\" onmouseout=\"this.style.backgroundColor='#9D6CFF'\" onclick=\"window.commands?.execute('create-mitosheet-from-dataframe-output');\">See Full Dataframe in Mito</div> <script> if (window.commands?.hasCommand('create-mitosheet-from-dataframe-output')) document.getElementById('fd06bb31-c9b2-48ad-9ba8-373daa8ba9e7').style.display = 'flex' </script> <table border=\"1\" class=\"dataframe\">\n",
       "  <thead>\n",
       "    <tr style=\"text-align: right;\">\n",
       "      <th></th>\n",
       "      <th>Airline</th>\n",
       "      <th>Source</th>\n",
       "      <th>Destination</th>\n",
       "      <th>Route</th>\n",
       "      <th>Total_Stops</th>\n",
       "      <th>Additional_Info</th>\n",
       "      <th>Day_of_Journey</th>\n",
       "      <th>Month_of_Journey</th>\n",
       "      <th>Dep_Hours</th>\n",
       "      <th>Dep_Minutes</th>\n",
       "      <th>Arrival_Hours</th>\n",
       "      <th>Arrival_Minutes</th>\n",
       "      <th>Duration_Hours</th>\n",
       "      <th>Duration_Minutes</th>\n",
       "    </tr>\n",
       "  </thead>\n",
       "  <tbody>\n",
       "    <tr>\n",
       "      <th>0</th>\n",
       "      <td>Jet Airways</td>\n",
       "      <td>Delhi</td>\n",
       "      <td>Cochin</td>\n",
       "      <td>DEL → BOM → COK</td>\n",
       "      <td>1 stop</td>\n",
       "      <td>No info</td>\n",
       "      <td>6</td>\n",
       "      <td>6</td>\n",
       "      <td>17</td>\n",
       "      <td>30</td>\n",
       "      <td>4</td>\n",
       "      <td>25</td>\n",
       "      <td>10</td>\n",
       "      <td>55</td>\n",
       "    </tr>\n",
       "    <tr>\n",
       "      <th>1</th>\n",
       "      <td>IndiGo</td>\n",
       "      <td>Kolkata</td>\n",
       "      <td>Banglore</td>\n",
       "      <td>CCU → MAA → BLR</td>\n",
       "      <td>1 stop</td>\n",
       "      <td>No info</td>\n",
       "      <td>12</td>\n",
       "      <td>5</td>\n",
       "      <td>6</td>\n",
       "      <td>20</td>\n",
       "      <td>10</td>\n",
       "      <td>20</td>\n",
       "      <td>4</td>\n",
       "      <td>0</td>\n",
       "    </tr>\n",
       "    <tr>\n",
       "      <th>2</th>\n",
       "      <td>Jet Airways</td>\n",
       "      <td>Delhi</td>\n",
       "      <td>Cochin</td>\n",
       "      <td>DEL → BOM → COK</td>\n",
       "      <td>1 stop</td>\n",
       "      <td>In-flight meal not included</td>\n",
       "      <td>21</td>\n",
       "      <td>5</td>\n",
       "      <td>19</td>\n",
       "      <td>15</td>\n",
       "      <td>19</td>\n",
       "      <td>0</td>\n",
       "      <td>23</td>\n",
       "      <td>45</td>\n",
       "    </tr>\n",
       "    <tr>\n",
       "      <th>3</th>\n",
       "      <td>Multiple carriers</td>\n",
       "      <td>Delhi</td>\n",
       "      <td>Cochin</td>\n",
       "      <td>DEL → BOM → COK</td>\n",
       "      <td>1 stop</td>\n",
       "      <td>No info</td>\n",
       "      <td>21</td>\n",
       "      <td>5</td>\n",
       "      <td>8</td>\n",
       "      <td>0</td>\n",
       "      <td>21</td>\n",
       "      <td>0</td>\n",
       "      <td>13</td>\n",
       "      <td>0</td>\n",
       "    </tr>\n",
       "    <tr>\n",
       "      <th>4</th>\n",
       "      <td>Air Asia</td>\n",
       "      <td>Banglore</td>\n",
       "      <td>Delhi</td>\n",
       "      <td>BLR → DEL</td>\n",
       "      <td>non-stop</td>\n",
       "      <td>No info</td>\n",
       "      <td>24</td>\n",
       "      <td>6</td>\n",
       "      <td>23</td>\n",
       "      <td>55</td>\n",
       "      <td>2</td>\n",
       "      <td>45</td>\n",
       "      <td>2</td>\n",
       "      <td>50</td>\n",
       "    </tr>\n",
       "  </tbody>\n",
       "</table></div>"
      ],
      "text/plain": [
       "             Airline    Source Destination            Route Total_Stops  \\\n",
       "0        Jet Airways     Delhi      Cochin  DEL → BOM → COK      1 stop   \n",
       "1             IndiGo   Kolkata    Banglore  CCU → MAA → BLR      1 stop   \n",
       "2        Jet Airways     Delhi      Cochin  DEL → BOM → COK      1 stop   \n",
       "3  Multiple carriers     Delhi      Cochin  DEL → BOM → COK      1 stop   \n",
       "4           Air Asia  Banglore       Delhi        BLR → DEL    non-stop   \n",
       "\n",
       "               Additional_Info  Day_of_Journey  Month_of_Journey  Dep_Hours  \\\n",
       "0                      No info               6                 6         17   \n",
       "1                      No info              12                 5          6   \n",
       "2  In-flight meal not included              21                 5         19   \n",
       "3                      No info              21                 5          8   \n",
       "4                      No info              24                 6         23   \n",
       "\n",
       "   Dep_Minutes  Arrival_Hours  Arrival_Minutes  Duration_Hours  \\\n",
       "0           30              4               25              10   \n",
       "1           20             10               20               4   \n",
       "2           15             19                0              23   \n",
       "3            0             21                0              13   \n",
       "4           55              2               45               2   \n",
       "\n",
       "   Duration_Minutes  \n",
       "0                55  \n",
       "1                 0  \n",
       "2                45  \n",
       "3                 0  \n",
       "4                50  "
      ]
     },
     "execution_count": 165,
     "metadata": {},
     "output_type": "execute_result"
    }
   ],
   "source": [
    "testData.head()"
   ]
  },
  {
   "cell_type": "markdown",
   "id": "4d7c2df6",
   "metadata": {},
   "source": [
    "---"
   ]
  },
  {
   "cell_type": "markdown",
   "id": "e63d834a",
   "metadata": {},
   "source": [
    "### <span style=\"color: Purple\"> * HANDLING CATEGORICAL VALUE </span>\n",
    "---\n"
   ]
  },
  {
   "cell_type": "markdown",
   "id": "46fe4164",
   "metadata": {},
   "source": [
    "#### <span style = 'color: Orange'> 1. Airline Feature <span>"
   ]
  },
  {
   "cell_type": "code",
   "execution_count": 166,
   "id": "d7b3e011",
   "metadata": {},
   "outputs": [
    {
     "data": {
      "text/plain": [
       "Jet Airways                          897\n",
       "IndiGo                               511\n",
       "Air India                            440\n",
       "Multiple carriers                    347\n",
       "SpiceJet                             208\n",
       "Vistara                              129\n",
       "Air Asia                              86\n",
       "GoAir                                 46\n",
       "Multiple carriers Premium economy      3\n",
       "Vistara Premium economy                2\n",
       "Jet Airways Business                   2\n",
       "Name: Airline, dtype: int64"
      ]
     },
     "execution_count": 166,
     "metadata": {},
     "output_type": "execute_result"
    }
   ],
   "source": [
    "testData['Airline'].value_counts()"
   ]
  },
  {
   "cell_type": "markdown",
   "id": "fd3c5ceb",
   "metadata": {},
   "source": [
    "   * As **Airline** column is a Nominal type of Categorical Data, **OneHotEncoding** can be performed"
   ]
  },
  {
   "cell_type": "code",
   "execution_count": 167,
   "id": "e2d585b9",
   "metadata": {},
   "outputs": [],
   "source": [
    "AirlineTest = testData[['Airline']]\n",
    "\n",
    "AirlineTest = pd.get_dummies(AirlineTest, drop_first = True)"
   ]
  },
  {
   "cell_type": "code",
   "execution_count": 168,
   "id": "be4906c8",
   "metadata": {},
   "outputs": [
    {
     "data": {
      "text/html": [
       "<div><div id=05d2484a-6e42-4e2a-82b0-730ce4e4dad1 style=\"display:none; background-color:#9D6CFF; color:white; width:200px; height:30px; padding-left:5px; border-radius:4px; flex-direction:row; justify-content:space-around; align-items:center;\" onmouseover=\"this.style.backgroundColor='#BA9BF8'\" onmouseout=\"this.style.backgroundColor='#9D6CFF'\" onclick=\"window.commands?.execute('create-mitosheet-from-dataframe-output');\">See Full Dataframe in Mito</div> <script> if (window.commands?.hasCommand('create-mitosheet-from-dataframe-output')) document.getElementById('05d2484a-6e42-4e2a-82b0-730ce4e4dad1').style.display = 'flex' </script> <table border=\"1\" class=\"dataframe\">\n",
       "  <thead>\n",
       "    <tr style=\"text-align: right;\">\n",
       "      <th></th>\n",
       "      <th>Airline_Air India</th>\n",
       "      <th>Airline_GoAir</th>\n",
       "      <th>Airline_IndiGo</th>\n",
       "      <th>Airline_Jet Airways</th>\n",
       "      <th>Airline_Jet Airways Business</th>\n",
       "      <th>Airline_Multiple carriers</th>\n",
       "      <th>Airline_Multiple carriers Premium economy</th>\n",
       "      <th>Airline_SpiceJet</th>\n",
       "      <th>Airline_Vistara</th>\n",
       "      <th>Airline_Vistara Premium economy</th>\n",
       "    </tr>\n",
       "  </thead>\n",
       "  <tbody>\n",
       "    <tr>\n",
       "      <th>0</th>\n",
       "      <td>0</td>\n",
       "      <td>0</td>\n",
       "      <td>0</td>\n",
       "      <td>1</td>\n",
       "      <td>0</td>\n",
       "      <td>0</td>\n",
       "      <td>0</td>\n",
       "      <td>0</td>\n",
       "      <td>0</td>\n",
       "      <td>0</td>\n",
       "    </tr>\n",
       "    <tr>\n",
       "      <th>1</th>\n",
       "      <td>0</td>\n",
       "      <td>0</td>\n",
       "      <td>1</td>\n",
       "      <td>0</td>\n",
       "      <td>0</td>\n",
       "      <td>0</td>\n",
       "      <td>0</td>\n",
       "      <td>0</td>\n",
       "      <td>0</td>\n",
       "      <td>0</td>\n",
       "    </tr>\n",
       "    <tr>\n",
       "      <th>2</th>\n",
       "      <td>0</td>\n",
       "      <td>0</td>\n",
       "      <td>0</td>\n",
       "      <td>1</td>\n",
       "      <td>0</td>\n",
       "      <td>0</td>\n",
       "      <td>0</td>\n",
       "      <td>0</td>\n",
       "      <td>0</td>\n",
       "      <td>0</td>\n",
       "    </tr>\n",
       "    <tr>\n",
       "      <th>3</th>\n",
       "      <td>0</td>\n",
       "      <td>0</td>\n",
       "      <td>0</td>\n",
       "      <td>0</td>\n",
       "      <td>0</td>\n",
       "      <td>1</td>\n",
       "      <td>0</td>\n",
       "      <td>0</td>\n",
       "      <td>0</td>\n",
       "      <td>0</td>\n",
       "    </tr>\n",
       "    <tr>\n",
       "      <th>4</th>\n",
       "      <td>0</td>\n",
       "      <td>0</td>\n",
       "      <td>0</td>\n",
       "      <td>0</td>\n",
       "      <td>0</td>\n",
       "      <td>0</td>\n",
       "      <td>0</td>\n",
       "      <td>0</td>\n",
       "      <td>0</td>\n",
       "      <td>0</td>\n",
       "    </tr>\n",
       "  </tbody>\n",
       "</table></div>"
      ],
      "text/plain": [
       "   Airline_Air India  Airline_GoAir  Airline_IndiGo  Airline_Jet Airways  \\\n",
       "0                  0              0               0                    1   \n",
       "1                  0              0               1                    0   \n",
       "2                  0              0               0                    1   \n",
       "3                  0              0               0                    0   \n",
       "4                  0              0               0                    0   \n",
       "\n",
       "   Airline_Jet Airways Business  Airline_Multiple carriers  \\\n",
       "0                             0                          0   \n",
       "1                             0                          0   \n",
       "2                             0                          0   \n",
       "3                             0                          1   \n",
       "4                             0                          0   \n",
       "\n",
       "   Airline_Multiple carriers Premium economy  Airline_SpiceJet  \\\n",
       "0                                          0                 0   \n",
       "1                                          0                 0   \n",
       "2                                          0                 0   \n",
       "3                                          0                 0   \n",
       "4                                          0                 0   \n",
       "\n",
       "   Airline_Vistara  Airline_Vistara Premium economy  \n",
       "0                0                                0  \n",
       "1                0                                0  \n",
       "2                0                                0  \n",
       "3                0                                0  \n",
       "4                0                                0  "
      ]
     },
     "execution_count": 168,
     "metadata": {},
     "output_type": "execute_result"
    }
   ],
   "source": [
    "AirlineTest.head()"
   ]
  },
  {
   "cell_type": "markdown",
   "id": "a32c65fe",
   "metadata": {},
   "source": [
    "---"
   ]
  },
  {
   "cell_type": "markdown",
   "id": "d730043a",
   "metadata": {},
   "source": [
    "#### <span style = 'color: Orange'> 2. Source Feature <span>"
   ]
  },
  {
   "cell_type": "code",
   "execution_count": 169,
   "id": "9bd6969e",
   "metadata": {},
   "outputs": [
    {
     "data": {
      "text/plain": [
       "Delhi       1145\n",
       "Kolkata      710\n",
       "Banglore     555\n",
       "Mumbai       186\n",
       "Chennai       75\n",
       "Name: Source, dtype: int64"
      ]
     },
     "execution_count": 169,
     "metadata": {},
     "output_type": "execute_result"
    }
   ],
   "source": [
    "testData['Source'].value_counts()"
   ]
  },
  {
   "cell_type": "code",
   "execution_count": 170,
   "id": "44c36adb",
   "metadata": {},
   "outputs": [],
   "source": [
    "SourceTest = testData[['Source']]\n",
    "\n",
    "SourceTest = pd.get_dummies(SourceTest, drop_first = True)"
   ]
  },
  {
   "cell_type": "code",
   "execution_count": 171,
   "id": "9f111adc",
   "metadata": {},
   "outputs": [
    {
     "data": {
      "text/html": [
       "<div><div id=ddc74811-c68a-4edc-8777-b3850ce2ded8 style=\"display:none; background-color:#9D6CFF; color:white; width:200px; height:30px; padding-left:5px; border-radius:4px; flex-direction:row; justify-content:space-around; align-items:center;\" onmouseover=\"this.style.backgroundColor='#BA9BF8'\" onmouseout=\"this.style.backgroundColor='#9D6CFF'\" onclick=\"window.commands?.execute('create-mitosheet-from-dataframe-output');\">See Full Dataframe in Mito</div> <script> if (window.commands?.hasCommand('create-mitosheet-from-dataframe-output')) document.getElementById('ddc74811-c68a-4edc-8777-b3850ce2ded8').style.display = 'flex' </script> <table border=\"1\" class=\"dataframe\">\n",
       "  <thead>\n",
       "    <tr style=\"text-align: right;\">\n",
       "      <th></th>\n",
       "      <th>Source_Chennai</th>\n",
       "      <th>Source_Delhi</th>\n",
       "      <th>Source_Kolkata</th>\n",
       "      <th>Source_Mumbai</th>\n",
       "    </tr>\n",
       "  </thead>\n",
       "  <tbody>\n",
       "    <tr>\n",
       "      <th>0</th>\n",
       "      <td>0</td>\n",
       "      <td>1</td>\n",
       "      <td>0</td>\n",
       "      <td>0</td>\n",
       "    </tr>\n",
       "    <tr>\n",
       "      <th>1</th>\n",
       "      <td>0</td>\n",
       "      <td>0</td>\n",
       "      <td>1</td>\n",
       "      <td>0</td>\n",
       "    </tr>\n",
       "    <tr>\n",
       "      <th>2</th>\n",
       "      <td>0</td>\n",
       "      <td>1</td>\n",
       "      <td>0</td>\n",
       "      <td>0</td>\n",
       "    </tr>\n",
       "    <tr>\n",
       "      <th>3</th>\n",
       "      <td>0</td>\n",
       "      <td>1</td>\n",
       "      <td>0</td>\n",
       "      <td>0</td>\n",
       "    </tr>\n",
       "    <tr>\n",
       "      <th>4</th>\n",
       "      <td>0</td>\n",
       "      <td>0</td>\n",
       "      <td>0</td>\n",
       "      <td>0</td>\n",
       "    </tr>\n",
       "  </tbody>\n",
       "</table></div>"
      ],
      "text/plain": [
       "   Source_Chennai  Source_Delhi  Source_Kolkata  Source_Mumbai\n",
       "0               0             1               0              0\n",
       "1               0             0               1              0\n",
       "2               0             1               0              0\n",
       "3               0             1               0              0\n",
       "4               0             0               0              0"
      ]
     },
     "execution_count": 171,
     "metadata": {},
     "output_type": "execute_result"
    }
   ],
   "source": [
    "SourceTest.head()"
   ]
  },
  {
   "cell_type": "markdown",
   "id": "a6665877",
   "metadata": {},
   "source": [
    "---"
   ]
  },
  {
   "cell_type": "markdown",
   "id": "9ed105a8",
   "metadata": {},
   "source": [
    "#### <span style = 'color: Orange'> 3. Destination Feature <span>"
   ]
  },
  {
   "cell_type": "code",
   "execution_count": 172,
   "id": "292323b3",
   "metadata": {},
   "outputs": [
    {
     "data": {
      "text/plain": [
       "Cochin       1145\n",
       "Banglore      710\n",
       "Delhi         317\n",
       "New Delhi     238\n",
       "Hyderabad     186\n",
       "Kolkata        75\n",
       "Name: Destination, dtype: int64"
      ]
     },
     "execution_count": 172,
     "metadata": {},
     "output_type": "execute_result"
    }
   ],
   "source": [
    "testData['Destination'].value_counts()"
   ]
  },
  {
   "cell_type": "markdown",
   "id": "b9c959f3",
   "metadata": {},
   "source": [
    "   * As **Destination** column is a Nominal type of Categorical Data, **OneHotEncoding** can be performed"
   ]
  },
  {
   "cell_type": "code",
   "execution_count": 173,
   "id": "ae3aa56c",
   "metadata": {},
   "outputs": [],
   "source": [
    "DestinationTest = testData[['Destination']]\n",
    "\n",
    "DestinationTest = pd.get_dummies(DestinationTest, drop_first = True)"
   ]
  },
  {
   "cell_type": "code",
   "execution_count": 174,
   "id": "8f16e20b",
   "metadata": {},
   "outputs": [
    {
     "data": {
      "text/html": [
       "<div><div id=11d64ecd-6044-452c-ab98-ed868666f61f style=\"display:none; background-color:#9D6CFF; color:white; width:200px; height:30px; padding-left:5px; border-radius:4px; flex-direction:row; justify-content:space-around; align-items:center;\" onmouseover=\"this.style.backgroundColor='#BA9BF8'\" onmouseout=\"this.style.backgroundColor='#9D6CFF'\" onclick=\"window.commands?.execute('create-mitosheet-from-dataframe-output');\">See Full Dataframe in Mito</div> <script> if (window.commands?.hasCommand('create-mitosheet-from-dataframe-output')) document.getElementById('11d64ecd-6044-452c-ab98-ed868666f61f').style.display = 'flex' </script> <table border=\"1\" class=\"dataframe\">\n",
       "  <thead>\n",
       "    <tr style=\"text-align: right;\">\n",
       "      <th></th>\n",
       "      <th>Destination_Cochin</th>\n",
       "      <th>Destination_Delhi</th>\n",
       "      <th>Destination_Hyderabad</th>\n",
       "      <th>Destination_Kolkata</th>\n",
       "      <th>Destination_New Delhi</th>\n",
       "    </tr>\n",
       "  </thead>\n",
       "  <tbody>\n",
       "    <tr>\n",
       "      <th>0</th>\n",
       "      <td>1</td>\n",
       "      <td>0</td>\n",
       "      <td>0</td>\n",
       "      <td>0</td>\n",
       "      <td>0</td>\n",
       "    </tr>\n",
       "    <tr>\n",
       "      <th>1</th>\n",
       "      <td>0</td>\n",
       "      <td>0</td>\n",
       "      <td>0</td>\n",
       "      <td>0</td>\n",
       "      <td>0</td>\n",
       "    </tr>\n",
       "    <tr>\n",
       "      <th>2</th>\n",
       "      <td>1</td>\n",
       "      <td>0</td>\n",
       "      <td>0</td>\n",
       "      <td>0</td>\n",
       "      <td>0</td>\n",
       "    </tr>\n",
       "    <tr>\n",
       "      <th>3</th>\n",
       "      <td>1</td>\n",
       "      <td>0</td>\n",
       "      <td>0</td>\n",
       "      <td>0</td>\n",
       "      <td>0</td>\n",
       "    </tr>\n",
       "    <tr>\n",
       "      <th>4</th>\n",
       "      <td>0</td>\n",
       "      <td>1</td>\n",
       "      <td>0</td>\n",
       "      <td>0</td>\n",
       "      <td>0</td>\n",
       "    </tr>\n",
       "  </tbody>\n",
       "</table></div>"
      ],
      "text/plain": [
       "   Destination_Cochin  Destination_Delhi  Destination_Hyderabad  \\\n",
       "0                   1                  0                      0   \n",
       "1                   0                  0                      0   \n",
       "2                   1                  0                      0   \n",
       "3                   1                  0                      0   \n",
       "4                   0                  1                      0   \n",
       "\n",
       "   Destination_Kolkata  Destination_New Delhi  \n",
       "0                    0                      0  \n",
       "1                    0                      0  \n",
       "2                    0                      0  \n",
       "3                    0                      0  \n",
       "4                    0                      0  "
      ]
     },
     "execution_count": 174,
     "metadata": {},
     "output_type": "execute_result"
    }
   ],
   "source": [
    "DestinationTest.head()"
   ]
  },
  {
   "cell_type": "markdown",
   "id": "0eb6956f",
   "metadata": {},
   "source": [
    "---"
   ]
  },
  {
   "cell_type": "markdown",
   "id": "9ab2d93e",
   "metadata": {},
   "source": [
    "#### <span style = 'color: Orange'> 4. Route and Additional_Info Features </span>\n",
    "\n",
    "\n",
    "   * The <span style = 'color: red'> **Additional_Info** </span> contains almost 80% as \"no info\". So this coloumn can be dropped.\n",
    "   \n",
    "   \n",
    "   * The <span style = 'color: red'> **Route** </span> and <span style = 'color: red'> **Total_Stops** </span> are related. So either one of the columns can be dropped.\n",
    "       In this the <span style = 'color: red'> **Route** </span> column can be dropped"
   ]
  },
  {
   "cell_type": "code",
   "execution_count": 175,
   "id": "bcedfc68",
   "metadata": {},
   "outputs": [],
   "source": [
    "testData.drop(['Route', 'Additional_Info'], axis = 1, inplace = True)"
   ]
  },
  {
   "cell_type": "code",
   "execution_count": 176,
   "id": "41c94d52",
   "metadata": {},
   "outputs": [
    {
     "data": {
      "text/html": [
       "<div><div id=c05c74a3-6bc3-4492-89ff-2dcb6cf1141e style=\"display:none; background-color:#9D6CFF; color:white; width:200px; height:30px; padding-left:5px; border-radius:4px; flex-direction:row; justify-content:space-around; align-items:center;\" onmouseover=\"this.style.backgroundColor='#BA9BF8'\" onmouseout=\"this.style.backgroundColor='#9D6CFF'\" onclick=\"window.commands?.execute('create-mitosheet-from-dataframe-output');\">See Full Dataframe in Mito</div> <script> if (window.commands?.hasCommand('create-mitosheet-from-dataframe-output')) document.getElementById('c05c74a3-6bc3-4492-89ff-2dcb6cf1141e').style.display = 'flex' </script> <table border=\"1\" class=\"dataframe\">\n",
       "  <thead>\n",
       "    <tr style=\"text-align: right;\">\n",
       "      <th></th>\n",
       "      <th>Airline</th>\n",
       "      <th>Source</th>\n",
       "      <th>Destination</th>\n",
       "      <th>Total_Stops</th>\n",
       "      <th>Day_of_Journey</th>\n",
       "      <th>Month_of_Journey</th>\n",
       "      <th>Dep_Hours</th>\n",
       "      <th>Dep_Minutes</th>\n",
       "      <th>Arrival_Hours</th>\n",
       "      <th>Arrival_Minutes</th>\n",
       "      <th>Duration_Hours</th>\n",
       "      <th>Duration_Minutes</th>\n",
       "    </tr>\n",
       "  </thead>\n",
       "  <tbody>\n",
       "    <tr>\n",
       "      <th>0</th>\n",
       "      <td>Jet Airways</td>\n",
       "      <td>Delhi</td>\n",
       "      <td>Cochin</td>\n",
       "      <td>1 stop</td>\n",
       "      <td>6</td>\n",
       "      <td>6</td>\n",
       "      <td>17</td>\n",
       "      <td>30</td>\n",
       "      <td>4</td>\n",
       "      <td>25</td>\n",
       "      <td>10</td>\n",
       "      <td>55</td>\n",
       "    </tr>\n",
       "    <tr>\n",
       "      <th>1</th>\n",
       "      <td>IndiGo</td>\n",
       "      <td>Kolkata</td>\n",
       "      <td>Banglore</td>\n",
       "      <td>1 stop</td>\n",
       "      <td>12</td>\n",
       "      <td>5</td>\n",
       "      <td>6</td>\n",
       "      <td>20</td>\n",
       "      <td>10</td>\n",
       "      <td>20</td>\n",
       "      <td>4</td>\n",
       "      <td>0</td>\n",
       "    </tr>\n",
       "    <tr>\n",
       "      <th>2</th>\n",
       "      <td>Jet Airways</td>\n",
       "      <td>Delhi</td>\n",
       "      <td>Cochin</td>\n",
       "      <td>1 stop</td>\n",
       "      <td>21</td>\n",
       "      <td>5</td>\n",
       "      <td>19</td>\n",
       "      <td>15</td>\n",
       "      <td>19</td>\n",
       "      <td>0</td>\n",
       "      <td>23</td>\n",
       "      <td>45</td>\n",
       "    </tr>\n",
       "    <tr>\n",
       "      <th>3</th>\n",
       "      <td>Multiple carriers</td>\n",
       "      <td>Delhi</td>\n",
       "      <td>Cochin</td>\n",
       "      <td>1 stop</td>\n",
       "      <td>21</td>\n",
       "      <td>5</td>\n",
       "      <td>8</td>\n",
       "      <td>0</td>\n",
       "      <td>21</td>\n",
       "      <td>0</td>\n",
       "      <td>13</td>\n",
       "      <td>0</td>\n",
       "    </tr>\n",
       "    <tr>\n",
       "      <th>4</th>\n",
       "      <td>Air Asia</td>\n",
       "      <td>Banglore</td>\n",
       "      <td>Delhi</td>\n",
       "      <td>non-stop</td>\n",
       "      <td>24</td>\n",
       "      <td>6</td>\n",
       "      <td>23</td>\n",
       "      <td>55</td>\n",
       "      <td>2</td>\n",
       "      <td>45</td>\n",
       "      <td>2</td>\n",
       "      <td>50</td>\n",
       "    </tr>\n",
       "  </tbody>\n",
       "</table></div>"
      ],
      "text/plain": [
       "             Airline    Source Destination Total_Stops  Day_of_Journey  \\\n",
       "0        Jet Airways     Delhi      Cochin      1 stop               6   \n",
       "1             IndiGo   Kolkata    Banglore      1 stop              12   \n",
       "2        Jet Airways     Delhi      Cochin      1 stop              21   \n",
       "3  Multiple carriers     Delhi      Cochin      1 stop              21   \n",
       "4           Air Asia  Banglore       Delhi    non-stop              24   \n",
       "\n",
       "   Month_of_Journey  Dep_Hours  Dep_Minutes  Arrival_Hours  Arrival_Minutes  \\\n",
       "0                 6         17           30              4               25   \n",
       "1                 5          6           20             10               20   \n",
       "2                 5         19           15             19                0   \n",
       "3                 5          8            0             21                0   \n",
       "4                 6         23           55              2               45   \n",
       "\n",
       "   Duration_Hours  Duration_Minutes  \n",
       "0              10                55  \n",
       "1               4                 0  \n",
       "2              23                45  \n",
       "3              13                 0  \n",
       "4               2                50  "
      ]
     },
     "execution_count": 176,
     "metadata": {},
     "output_type": "execute_result"
    }
   ],
   "source": [
    "testData.head()"
   ]
  },
  {
   "cell_type": "markdown",
   "id": "733f6edd",
   "metadata": {},
   "source": [
    "---"
   ]
  },
  {
   "cell_type": "markdown",
   "id": "2536ca03",
   "metadata": {},
   "source": [
    "#### <span style = 'color: Orange'> 5. Total_Stops Features </span>"
   ]
  },
  {
   "cell_type": "code",
   "execution_count": 177,
   "id": "2fc75375",
   "metadata": {},
   "outputs": [
    {
     "data": {
      "text/plain": [
       "1 stop      1431\n",
       "non-stop     849\n",
       "2 stops      379\n",
       "3 stops       11\n",
       "4 stops        1\n",
       "Name: Total_Stops, dtype: int64"
      ]
     },
     "execution_count": 177,
     "metadata": {},
     "output_type": "execute_result"
    }
   ],
   "source": [
    "testData['Total_Stops'].value_counts()"
   ]
  },
  {
   "cell_type": "markdown",
   "id": "9b724012",
   "metadata": {},
   "source": [
    "   * The **Total_Stops** column is a Ordinal Categorical Data. In this case LabelEncoding can be used. \n",
    "   \n",
    "   \n",
    "   * The values will be assigned to the corresponding keys"
   ]
  },
  {
   "cell_type": "code",
   "execution_count": 178,
   "id": "8a95caae",
   "metadata": {},
   "outputs": [],
   "source": [
    "testData.replace({'non-stop': 0, '1 stop': 1, '2 stops': 2, '3 stops': 3, '4 stops': 4}, inplace = True)"
   ]
  },
  {
   "cell_type": "code",
   "execution_count": 179,
   "id": "b26d38e8",
   "metadata": {},
   "outputs": [
    {
     "data": {
      "text/html": [
       "<div><div id=e314bdd3-9c5d-434a-8088-0c5b8bab13d2 style=\"display:none; background-color:#9D6CFF; color:white; width:200px; height:30px; padding-left:5px; border-radius:4px; flex-direction:row; justify-content:space-around; align-items:center;\" onmouseover=\"this.style.backgroundColor='#BA9BF8'\" onmouseout=\"this.style.backgroundColor='#9D6CFF'\" onclick=\"window.commands?.execute('create-mitosheet-from-dataframe-output');\">See Full Dataframe in Mito</div> <script> if (window.commands?.hasCommand('create-mitosheet-from-dataframe-output')) document.getElementById('e314bdd3-9c5d-434a-8088-0c5b8bab13d2').style.display = 'flex' </script> <table border=\"1\" class=\"dataframe\">\n",
       "  <thead>\n",
       "    <tr style=\"text-align: right;\">\n",
       "      <th></th>\n",
       "      <th>Airline</th>\n",
       "      <th>Source</th>\n",
       "      <th>Destination</th>\n",
       "      <th>Total_Stops</th>\n",
       "      <th>Day_of_Journey</th>\n",
       "      <th>Month_of_Journey</th>\n",
       "      <th>Dep_Hours</th>\n",
       "      <th>Dep_Minutes</th>\n",
       "      <th>Arrival_Hours</th>\n",
       "      <th>Arrival_Minutes</th>\n",
       "      <th>Duration_Hours</th>\n",
       "      <th>Duration_Minutes</th>\n",
       "    </tr>\n",
       "  </thead>\n",
       "  <tbody>\n",
       "    <tr>\n",
       "      <th>0</th>\n",
       "      <td>Jet Airways</td>\n",
       "      <td>Delhi</td>\n",
       "      <td>Cochin</td>\n",
       "      <td>1</td>\n",
       "      <td>6</td>\n",
       "      <td>6</td>\n",
       "      <td>17</td>\n",
       "      <td>30</td>\n",
       "      <td>4</td>\n",
       "      <td>25</td>\n",
       "      <td>10</td>\n",
       "      <td>55</td>\n",
       "    </tr>\n",
       "    <tr>\n",
       "      <th>1</th>\n",
       "      <td>IndiGo</td>\n",
       "      <td>Kolkata</td>\n",
       "      <td>Banglore</td>\n",
       "      <td>1</td>\n",
       "      <td>12</td>\n",
       "      <td>5</td>\n",
       "      <td>6</td>\n",
       "      <td>20</td>\n",
       "      <td>10</td>\n",
       "      <td>20</td>\n",
       "      <td>4</td>\n",
       "      <td>0</td>\n",
       "    </tr>\n",
       "    <tr>\n",
       "      <th>2</th>\n",
       "      <td>Jet Airways</td>\n",
       "      <td>Delhi</td>\n",
       "      <td>Cochin</td>\n",
       "      <td>1</td>\n",
       "      <td>21</td>\n",
       "      <td>5</td>\n",
       "      <td>19</td>\n",
       "      <td>15</td>\n",
       "      <td>19</td>\n",
       "      <td>0</td>\n",
       "      <td>23</td>\n",
       "      <td>45</td>\n",
       "    </tr>\n",
       "    <tr>\n",
       "      <th>3</th>\n",
       "      <td>Multiple carriers</td>\n",
       "      <td>Delhi</td>\n",
       "      <td>Cochin</td>\n",
       "      <td>1</td>\n",
       "      <td>21</td>\n",
       "      <td>5</td>\n",
       "      <td>8</td>\n",
       "      <td>0</td>\n",
       "      <td>21</td>\n",
       "      <td>0</td>\n",
       "      <td>13</td>\n",
       "      <td>0</td>\n",
       "    </tr>\n",
       "    <tr>\n",
       "      <th>4</th>\n",
       "      <td>Air Asia</td>\n",
       "      <td>Banglore</td>\n",
       "      <td>Delhi</td>\n",
       "      <td>0</td>\n",
       "      <td>24</td>\n",
       "      <td>6</td>\n",
       "      <td>23</td>\n",
       "      <td>55</td>\n",
       "      <td>2</td>\n",
       "      <td>45</td>\n",
       "      <td>2</td>\n",
       "      <td>50</td>\n",
       "    </tr>\n",
       "  </tbody>\n",
       "</table></div>"
      ],
      "text/plain": [
       "             Airline    Source Destination  Total_Stops  Day_of_Journey  \\\n",
       "0        Jet Airways     Delhi      Cochin            1               6   \n",
       "1             IndiGo   Kolkata    Banglore            1              12   \n",
       "2        Jet Airways     Delhi      Cochin            1              21   \n",
       "3  Multiple carriers     Delhi      Cochin            1              21   \n",
       "4           Air Asia  Banglore       Delhi            0              24   \n",
       "\n",
       "   Month_of_Journey  Dep_Hours  Dep_Minutes  Arrival_Hours  Arrival_Minutes  \\\n",
       "0                 6         17           30              4               25   \n",
       "1                 5          6           20             10               20   \n",
       "2                 5         19           15             19                0   \n",
       "3                 5          8            0             21                0   \n",
       "4                 6         23           55              2               45   \n",
       "\n",
       "   Duration_Hours  Duration_Minutes  \n",
       "0              10                55  \n",
       "1               4                 0  \n",
       "2              23                45  \n",
       "3              13                 0  \n",
       "4               2                50  "
      ]
     },
     "execution_count": 179,
     "metadata": {},
     "output_type": "execute_result"
    }
   ],
   "source": [
    "testData.head()"
   ]
  },
  {
   "cell_type": "markdown",
   "id": "4aa6e144",
   "metadata": {},
   "source": [
    "---"
   ]
  },
  {
   "cell_type": "markdown",
   "id": "dad3a330",
   "metadata": {},
   "source": [
    "### <span style = 'color: Purple'> <i> * THE FINAL DATASET (DATA CONCATINATION) </i> </span>\n",
    "---\n",
    "\n",
    "   * <span style = 'color: Orange'> **Dataframes to be Concatinated : testData + AirlineTest + SourceTest + DestinationTest** </span>"
   ]
  },
  {
   "cell_type": "code",
   "execution_count": 180,
   "id": "10dbfc12",
   "metadata": {},
   "outputs": [],
   "source": [
    "dataTest = pd.concat([testData, AirlineTest, SourceTest, DestinationTest], axis = 1)"
   ]
  },
  {
   "cell_type": "code",
   "execution_count": 181,
   "id": "18d7157c",
   "metadata": {},
   "outputs": [
    {
     "data": {
      "text/html": [
       "<div><div id=87ab9d57-af81-4479-af3c-c8042c5a304c style=\"display:none; background-color:#9D6CFF; color:white; width:200px; height:30px; padding-left:5px; border-radius:4px; flex-direction:row; justify-content:space-around; align-items:center;\" onmouseover=\"this.style.backgroundColor='#BA9BF8'\" onmouseout=\"this.style.backgroundColor='#9D6CFF'\" onclick=\"window.commands?.execute('create-mitosheet-from-dataframe-output');\">See Full Dataframe in Mito</div> <script> if (window.commands?.hasCommand('create-mitosheet-from-dataframe-output')) document.getElementById('87ab9d57-af81-4479-af3c-c8042c5a304c').style.display = 'flex' </script> <table border=\"1\" class=\"dataframe\">\n",
       "  <thead>\n",
       "    <tr style=\"text-align: right;\">\n",
       "      <th></th>\n",
       "      <th>Airline</th>\n",
       "      <th>Source</th>\n",
       "      <th>Destination</th>\n",
       "      <th>Total_Stops</th>\n",
       "      <th>Day_of_Journey</th>\n",
       "      <th>Month_of_Journey</th>\n",
       "      <th>Dep_Hours</th>\n",
       "      <th>Dep_Minutes</th>\n",
       "      <th>Arrival_Hours</th>\n",
       "      <th>Arrival_Minutes</th>\n",
       "      <th>Duration_Hours</th>\n",
       "      <th>Duration_Minutes</th>\n",
       "      <th>Airline_Air India</th>\n",
       "      <th>Airline_GoAir</th>\n",
       "      <th>Airline_IndiGo</th>\n",
       "      <th>Airline_Jet Airways</th>\n",
       "      <th>Airline_Jet Airways Business</th>\n",
       "      <th>Airline_Multiple carriers</th>\n",
       "      <th>Airline_Multiple carriers Premium economy</th>\n",
       "      <th>Airline_SpiceJet</th>\n",
       "      <th>Airline_Vistara</th>\n",
       "      <th>Airline_Vistara Premium economy</th>\n",
       "      <th>Source_Chennai</th>\n",
       "      <th>Source_Delhi</th>\n",
       "      <th>Source_Kolkata</th>\n",
       "      <th>Source_Mumbai</th>\n",
       "      <th>Destination_Cochin</th>\n",
       "      <th>Destination_Delhi</th>\n",
       "      <th>Destination_Hyderabad</th>\n",
       "      <th>Destination_Kolkata</th>\n",
       "      <th>Destination_New Delhi</th>\n",
       "    </tr>\n",
       "  </thead>\n",
       "  <tbody>\n",
       "    <tr>\n",
       "      <th>0</th>\n",
       "      <td>Jet Airways</td>\n",
       "      <td>Delhi</td>\n",
       "      <td>Cochin</td>\n",
       "      <td>1</td>\n",
       "      <td>6</td>\n",
       "      <td>6</td>\n",
       "      <td>17</td>\n",
       "      <td>30</td>\n",
       "      <td>4</td>\n",
       "      <td>25</td>\n",
       "      <td>10</td>\n",
       "      <td>55</td>\n",
       "      <td>0</td>\n",
       "      <td>0</td>\n",
       "      <td>0</td>\n",
       "      <td>1</td>\n",
       "      <td>0</td>\n",
       "      <td>0</td>\n",
       "      <td>0</td>\n",
       "      <td>0</td>\n",
       "      <td>0</td>\n",
       "      <td>0</td>\n",
       "      <td>0</td>\n",
       "      <td>1</td>\n",
       "      <td>0</td>\n",
       "      <td>0</td>\n",
       "      <td>1</td>\n",
       "      <td>0</td>\n",
       "      <td>0</td>\n",
       "      <td>0</td>\n",
       "      <td>0</td>\n",
       "    </tr>\n",
       "    <tr>\n",
       "      <th>1</th>\n",
       "      <td>IndiGo</td>\n",
       "      <td>Kolkata</td>\n",
       "      <td>Banglore</td>\n",
       "      <td>1</td>\n",
       "      <td>12</td>\n",
       "      <td>5</td>\n",
       "      <td>6</td>\n",
       "      <td>20</td>\n",
       "      <td>10</td>\n",
       "      <td>20</td>\n",
       "      <td>4</td>\n",
       "      <td>0</td>\n",
       "      <td>0</td>\n",
       "      <td>0</td>\n",
       "      <td>1</td>\n",
       "      <td>0</td>\n",
       "      <td>0</td>\n",
       "      <td>0</td>\n",
       "      <td>0</td>\n",
       "      <td>0</td>\n",
       "      <td>0</td>\n",
       "      <td>0</td>\n",
       "      <td>0</td>\n",
       "      <td>0</td>\n",
       "      <td>1</td>\n",
       "      <td>0</td>\n",
       "      <td>0</td>\n",
       "      <td>0</td>\n",
       "      <td>0</td>\n",
       "      <td>0</td>\n",
       "      <td>0</td>\n",
       "    </tr>\n",
       "    <tr>\n",
       "      <th>2</th>\n",
       "      <td>Jet Airways</td>\n",
       "      <td>Delhi</td>\n",
       "      <td>Cochin</td>\n",
       "      <td>1</td>\n",
       "      <td>21</td>\n",
       "      <td>5</td>\n",
       "      <td>19</td>\n",
       "      <td>15</td>\n",
       "      <td>19</td>\n",
       "      <td>0</td>\n",
       "      <td>23</td>\n",
       "      <td>45</td>\n",
       "      <td>0</td>\n",
       "      <td>0</td>\n",
       "      <td>0</td>\n",
       "      <td>1</td>\n",
       "      <td>0</td>\n",
       "      <td>0</td>\n",
       "      <td>0</td>\n",
       "      <td>0</td>\n",
       "      <td>0</td>\n",
       "      <td>0</td>\n",
       "      <td>0</td>\n",
       "      <td>1</td>\n",
       "      <td>0</td>\n",
       "      <td>0</td>\n",
       "      <td>1</td>\n",
       "      <td>0</td>\n",
       "      <td>0</td>\n",
       "      <td>0</td>\n",
       "      <td>0</td>\n",
       "    </tr>\n",
       "    <tr>\n",
       "      <th>3</th>\n",
       "      <td>Multiple carriers</td>\n",
       "      <td>Delhi</td>\n",
       "      <td>Cochin</td>\n",
       "      <td>1</td>\n",
       "      <td>21</td>\n",
       "      <td>5</td>\n",
       "      <td>8</td>\n",
       "      <td>0</td>\n",
       "      <td>21</td>\n",
       "      <td>0</td>\n",
       "      <td>13</td>\n",
       "      <td>0</td>\n",
       "      <td>0</td>\n",
       "      <td>0</td>\n",
       "      <td>0</td>\n",
       "      <td>0</td>\n",
       "      <td>0</td>\n",
       "      <td>1</td>\n",
       "      <td>0</td>\n",
       "      <td>0</td>\n",
       "      <td>0</td>\n",
       "      <td>0</td>\n",
       "      <td>0</td>\n",
       "      <td>1</td>\n",
       "      <td>0</td>\n",
       "      <td>0</td>\n",
       "      <td>1</td>\n",
       "      <td>0</td>\n",
       "      <td>0</td>\n",
       "      <td>0</td>\n",
       "      <td>0</td>\n",
       "    </tr>\n",
       "    <tr>\n",
       "      <th>4</th>\n",
       "      <td>Air Asia</td>\n",
       "      <td>Banglore</td>\n",
       "      <td>Delhi</td>\n",
       "      <td>0</td>\n",
       "      <td>24</td>\n",
       "      <td>6</td>\n",
       "      <td>23</td>\n",
       "      <td>55</td>\n",
       "      <td>2</td>\n",
       "      <td>45</td>\n",
       "      <td>2</td>\n",
       "      <td>50</td>\n",
       "      <td>0</td>\n",
       "      <td>0</td>\n",
       "      <td>0</td>\n",
       "      <td>0</td>\n",
       "      <td>0</td>\n",
       "      <td>0</td>\n",
       "      <td>0</td>\n",
       "      <td>0</td>\n",
       "      <td>0</td>\n",
       "      <td>0</td>\n",
       "      <td>0</td>\n",
       "      <td>0</td>\n",
       "      <td>0</td>\n",
       "      <td>0</td>\n",
       "      <td>0</td>\n",
       "      <td>1</td>\n",
       "      <td>0</td>\n",
       "      <td>0</td>\n",
       "      <td>0</td>\n",
       "    </tr>\n",
       "  </tbody>\n",
       "</table></div>"
      ],
      "text/plain": [
       "             Airline    Source Destination  Total_Stops  Day_of_Journey  \\\n",
       "0        Jet Airways     Delhi      Cochin            1               6   \n",
       "1             IndiGo   Kolkata    Banglore            1              12   \n",
       "2        Jet Airways     Delhi      Cochin            1              21   \n",
       "3  Multiple carriers     Delhi      Cochin            1              21   \n",
       "4           Air Asia  Banglore       Delhi            0              24   \n",
       "\n",
       "   Month_of_Journey  Dep_Hours  Dep_Minutes  Arrival_Hours  Arrival_Minutes  \\\n",
       "0                 6         17           30              4               25   \n",
       "1                 5          6           20             10               20   \n",
       "2                 5         19           15             19                0   \n",
       "3                 5          8            0             21                0   \n",
       "4                 6         23           55              2               45   \n",
       "\n",
       "   Duration_Hours  Duration_Minutes  Airline_Air India  Airline_GoAir  \\\n",
       "0              10                55                  0              0   \n",
       "1               4                 0                  0              0   \n",
       "2              23                45                  0              0   \n",
       "3              13                 0                  0              0   \n",
       "4               2                50                  0              0   \n",
       "\n",
       "   Airline_IndiGo  Airline_Jet Airways  Airline_Jet Airways Business  \\\n",
       "0               0                    1                             0   \n",
       "1               1                    0                             0   \n",
       "2               0                    1                             0   \n",
       "3               0                    0                             0   \n",
       "4               0                    0                             0   \n",
       "\n",
       "   Airline_Multiple carriers  Airline_Multiple carriers Premium economy  \\\n",
       "0                          0                                          0   \n",
       "1                          0                                          0   \n",
       "2                          0                                          0   \n",
       "3                          1                                          0   \n",
       "4                          0                                          0   \n",
       "\n",
       "   Airline_SpiceJet  Airline_Vistara  Airline_Vistara Premium economy  \\\n",
       "0                 0                0                                0   \n",
       "1                 0                0                                0   \n",
       "2                 0                0                                0   \n",
       "3                 0                0                                0   \n",
       "4                 0                0                                0   \n",
       "\n",
       "   Source_Chennai  Source_Delhi  Source_Kolkata  Source_Mumbai  \\\n",
       "0               0             1               0              0   \n",
       "1               0             0               1              0   \n",
       "2               0             1               0              0   \n",
       "3               0             1               0              0   \n",
       "4               0             0               0              0   \n",
       "\n",
       "   Destination_Cochin  Destination_Delhi  Destination_Hyderabad  \\\n",
       "0                   1                  0                      0   \n",
       "1                   0                  0                      0   \n",
       "2                   1                  0                      0   \n",
       "3                   1                  0                      0   \n",
       "4                   0                  1                      0   \n",
       "\n",
       "   Destination_Kolkata  Destination_New Delhi  \n",
       "0                    0                      0  \n",
       "1                    0                      0  \n",
       "2                    0                      0  \n",
       "3                    0                      0  \n",
       "4                    0                      0  "
      ]
     },
     "execution_count": 181,
     "metadata": {},
     "output_type": "execute_result"
    }
   ],
   "source": [
    "dataTest.head()"
   ]
  },
  {
   "cell_type": "markdown",
   "id": "963df0df",
   "metadata": {},
   "source": [
    "* **The columns** <span style = 'color: red'> **(Airline, Source, Destination)** </span> **can be dropped.**"
   ]
  },
  {
   "cell_type": "code",
   "execution_count": 182,
   "id": "b5612bea",
   "metadata": {},
   "outputs": [],
   "source": [
    "dataTest.drop(['Airline', 'Source', 'Destination'], axis = 1, inplace = True)"
   ]
  },
  {
   "cell_type": "code",
   "execution_count": 183,
   "id": "2d56b873",
   "metadata": {},
   "outputs": [
    {
     "data": {
      "text/html": [
       "<div><div id=e44ea64b-a15e-44ac-9fb9-5e9279785b48 style=\"display:none; background-color:#9D6CFF; color:white; width:200px; height:30px; padding-left:5px; border-radius:4px; flex-direction:row; justify-content:space-around; align-items:center;\" onmouseover=\"this.style.backgroundColor='#BA9BF8'\" onmouseout=\"this.style.backgroundColor='#9D6CFF'\" onclick=\"window.commands?.execute('create-mitosheet-from-dataframe-output');\">See Full Dataframe in Mito</div> <script> if (window.commands?.hasCommand('create-mitosheet-from-dataframe-output')) document.getElementById('e44ea64b-a15e-44ac-9fb9-5e9279785b48').style.display = 'flex' </script> <table border=\"1\" class=\"dataframe\">\n",
       "  <thead>\n",
       "    <tr style=\"text-align: right;\">\n",
       "      <th></th>\n",
       "      <th>Total_Stops</th>\n",
       "      <th>Day_of_Journey</th>\n",
       "      <th>Month_of_Journey</th>\n",
       "      <th>Dep_Hours</th>\n",
       "      <th>Dep_Minutes</th>\n",
       "      <th>Arrival_Hours</th>\n",
       "      <th>Arrival_Minutes</th>\n",
       "      <th>Duration_Hours</th>\n",
       "      <th>Duration_Minutes</th>\n",
       "      <th>Airline_Air India</th>\n",
       "      <th>Airline_GoAir</th>\n",
       "      <th>Airline_IndiGo</th>\n",
       "      <th>Airline_Jet Airways</th>\n",
       "      <th>Airline_Jet Airways Business</th>\n",
       "      <th>Airline_Multiple carriers</th>\n",
       "      <th>Airline_Multiple carriers Premium economy</th>\n",
       "      <th>Airline_SpiceJet</th>\n",
       "      <th>Airline_Vistara</th>\n",
       "      <th>Airline_Vistara Premium economy</th>\n",
       "      <th>Source_Chennai</th>\n",
       "      <th>Source_Delhi</th>\n",
       "      <th>Source_Kolkata</th>\n",
       "      <th>Source_Mumbai</th>\n",
       "      <th>Destination_Cochin</th>\n",
       "      <th>Destination_Delhi</th>\n",
       "      <th>Destination_Hyderabad</th>\n",
       "      <th>Destination_Kolkata</th>\n",
       "      <th>Destination_New Delhi</th>\n",
       "    </tr>\n",
       "  </thead>\n",
       "  <tbody>\n",
       "    <tr>\n",
       "      <th>0</th>\n",
       "      <td>1</td>\n",
       "      <td>6</td>\n",
       "      <td>6</td>\n",
       "      <td>17</td>\n",
       "      <td>30</td>\n",
       "      <td>4</td>\n",
       "      <td>25</td>\n",
       "      <td>10</td>\n",
       "      <td>55</td>\n",
       "      <td>0</td>\n",
       "      <td>0</td>\n",
       "      <td>0</td>\n",
       "      <td>1</td>\n",
       "      <td>0</td>\n",
       "      <td>0</td>\n",
       "      <td>0</td>\n",
       "      <td>0</td>\n",
       "      <td>0</td>\n",
       "      <td>0</td>\n",
       "      <td>0</td>\n",
       "      <td>1</td>\n",
       "      <td>0</td>\n",
       "      <td>0</td>\n",
       "      <td>1</td>\n",
       "      <td>0</td>\n",
       "      <td>0</td>\n",
       "      <td>0</td>\n",
       "      <td>0</td>\n",
       "    </tr>\n",
       "    <tr>\n",
       "      <th>1</th>\n",
       "      <td>1</td>\n",
       "      <td>12</td>\n",
       "      <td>5</td>\n",
       "      <td>6</td>\n",
       "      <td>20</td>\n",
       "      <td>10</td>\n",
       "      <td>20</td>\n",
       "      <td>4</td>\n",
       "      <td>0</td>\n",
       "      <td>0</td>\n",
       "      <td>0</td>\n",
       "      <td>1</td>\n",
       "      <td>0</td>\n",
       "      <td>0</td>\n",
       "      <td>0</td>\n",
       "      <td>0</td>\n",
       "      <td>0</td>\n",
       "      <td>0</td>\n",
       "      <td>0</td>\n",
       "      <td>0</td>\n",
       "      <td>0</td>\n",
       "      <td>1</td>\n",
       "      <td>0</td>\n",
       "      <td>0</td>\n",
       "      <td>0</td>\n",
       "      <td>0</td>\n",
       "      <td>0</td>\n",
       "      <td>0</td>\n",
       "    </tr>\n",
       "    <tr>\n",
       "      <th>2</th>\n",
       "      <td>1</td>\n",
       "      <td>21</td>\n",
       "      <td>5</td>\n",
       "      <td>19</td>\n",
       "      <td>15</td>\n",
       "      <td>19</td>\n",
       "      <td>0</td>\n",
       "      <td>23</td>\n",
       "      <td>45</td>\n",
       "      <td>0</td>\n",
       "      <td>0</td>\n",
       "      <td>0</td>\n",
       "      <td>1</td>\n",
       "      <td>0</td>\n",
       "      <td>0</td>\n",
       "      <td>0</td>\n",
       "      <td>0</td>\n",
       "      <td>0</td>\n",
       "      <td>0</td>\n",
       "      <td>0</td>\n",
       "      <td>1</td>\n",
       "      <td>0</td>\n",
       "      <td>0</td>\n",
       "      <td>1</td>\n",
       "      <td>0</td>\n",
       "      <td>0</td>\n",
       "      <td>0</td>\n",
       "      <td>0</td>\n",
       "    </tr>\n",
       "    <tr>\n",
       "      <th>3</th>\n",
       "      <td>1</td>\n",
       "      <td>21</td>\n",
       "      <td>5</td>\n",
       "      <td>8</td>\n",
       "      <td>0</td>\n",
       "      <td>21</td>\n",
       "      <td>0</td>\n",
       "      <td>13</td>\n",
       "      <td>0</td>\n",
       "      <td>0</td>\n",
       "      <td>0</td>\n",
       "      <td>0</td>\n",
       "      <td>0</td>\n",
       "      <td>0</td>\n",
       "      <td>1</td>\n",
       "      <td>0</td>\n",
       "      <td>0</td>\n",
       "      <td>0</td>\n",
       "      <td>0</td>\n",
       "      <td>0</td>\n",
       "      <td>1</td>\n",
       "      <td>0</td>\n",
       "      <td>0</td>\n",
       "      <td>1</td>\n",
       "      <td>0</td>\n",
       "      <td>0</td>\n",
       "      <td>0</td>\n",
       "      <td>0</td>\n",
       "    </tr>\n",
       "    <tr>\n",
       "      <th>4</th>\n",
       "      <td>0</td>\n",
       "      <td>24</td>\n",
       "      <td>6</td>\n",
       "      <td>23</td>\n",
       "      <td>55</td>\n",
       "      <td>2</td>\n",
       "      <td>45</td>\n",
       "      <td>2</td>\n",
       "      <td>50</td>\n",
       "      <td>0</td>\n",
       "      <td>0</td>\n",
       "      <td>0</td>\n",
       "      <td>0</td>\n",
       "      <td>0</td>\n",
       "      <td>0</td>\n",
       "      <td>0</td>\n",
       "      <td>0</td>\n",
       "      <td>0</td>\n",
       "      <td>0</td>\n",
       "      <td>0</td>\n",
       "      <td>0</td>\n",
       "      <td>0</td>\n",
       "      <td>0</td>\n",
       "      <td>0</td>\n",
       "      <td>1</td>\n",
       "      <td>0</td>\n",
       "      <td>0</td>\n",
       "      <td>0</td>\n",
       "    </tr>\n",
       "  </tbody>\n",
       "</table></div>"
      ],
      "text/plain": [
       "   Total_Stops  Day_of_Journey  Month_of_Journey  Dep_Hours  Dep_Minutes  \\\n",
       "0            1               6                 6         17           30   \n",
       "1            1              12                 5          6           20   \n",
       "2            1              21                 5         19           15   \n",
       "3            1              21                 5          8            0   \n",
       "4            0              24                 6         23           55   \n",
       "\n",
       "   Arrival_Hours  Arrival_Minutes  Duration_Hours  Duration_Minutes  \\\n",
       "0              4               25              10                55   \n",
       "1             10               20               4                 0   \n",
       "2             19                0              23                45   \n",
       "3             21                0              13                 0   \n",
       "4              2               45               2                50   \n",
       "\n",
       "   Airline_Air India  Airline_GoAir  Airline_IndiGo  Airline_Jet Airways  \\\n",
       "0                  0              0               0                    1   \n",
       "1                  0              0               1                    0   \n",
       "2                  0              0               0                    1   \n",
       "3                  0              0               0                    0   \n",
       "4                  0              0               0                    0   \n",
       "\n",
       "   Airline_Jet Airways Business  Airline_Multiple carriers  \\\n",
       "0                             0                          0   \n",
       "1                             0                          0   \n",
       "2                             0                          0   \n",
       "3                             0                          1   \n",
       "4                             0                          0   \n",
       "\n",
       "   Airline_Multiple carriers Premium economy  Airline_SpiceJet  \\\n",
       "0                                          0                 0   \n",
       "1                                          0                 0   \n",
       "2                                          0                 0   \n",
       "3                                          0                 0   \n",
       "4                                          0                 0   \n",
       "\n",
       "   Airline_Vistara  Airline_Vistara Premium economy  Source_Chennai  \\\n",
       "0                0                                0               0   \n",
       "1                0                                0               0   \n",
       "2                0                                0               0   \n",
       "3                0                                0               0   \n",
       "4                0                                0               0   \n",
       "\n",
       "   Source_Delhi  Source_Kolkata  Source_Mumbai  Destination_Cochin  \\\n",
       "0             1               0              0                   1   \n",
       "1             0               1              0                   0   \n",
       "2             1               0              0                   1   \n",
       "3             1               0              0                   1   \n",
       "4             0               0              0                   0   \n",
       "\n",
       "   Destination_Delhi  Destination_Hyderabad  Destination_Kolkata  \\\n",
       "0                  0                      0                    0   \n",
       "1                  0                      0                    0   \n",
       "2                  0                      0                    0   \n",
       "3                  0                      0                    0   \n",
       "4                  1                      0                    0   \n",
       "\n",
       "   Destination_New Delhi  \n",
       "0                      0  \n",
       "1                      0  \n",
       "2                      0  \n",
       "3                      0  \n",
       "4                      0  "
      ]
     },
     "execution_count": 183,
     "metadata": {},
     "output_type": "execute_result"
    }
   ],
   "source": [
    "dataTest.head()"
   ]
  },
  {
   "cell_type": "markdown",
   "id": "c51d706c",
   "metadata": {},
   "source": [
    "#### <span style = 'color: Indigo'> * Shape of the Dataset After Preprocessing </span>"
   ]
  },
  {
   "cell_type": "code",
   "execution_count": 184,
   "id": "92996981",
   "metadata": {},
   "outputs": [
    {
     "data": {
      "text/plain": [
       "(2671, 28)"
      ]
     },
     "execution_count": 184,
     "metadata": {},
     "output_type": "execute_result"
    }
   ],
   "source": [
    "dataTest.shape"
   ]
  },
  {
   "cell_type": "markdown",
   "id": "ab6cf548",
   "metadata": {},
   "source": [
    "---"
   ]
  },
  {
   "cell_type": "markdown",
   "id": "23a5d327",
   "metadata": {},
   "source": [
    "## <span style = 'color: Purple'> * FEATURE SELECTION </span>\n",
    "---\n",
    "\n",
    "   <span style = 'color: gold'> **Feature Selection** </span> : \n",
    "   \n",
    "   * It is the process of automatically or manually selecting the subset of most **appropriate and relevant features** that'll be used to build a model.\n",
    "   \n",
    "   \n",
    "   * Feature selection is primarily focused on removing non-informative or redundant predictors from the model.\n",
    "   \n",
    "   \n",
    "   * Following are some of the features selection methods:\n",
    "       \n",
    "   <span style = 'color: red'> * **Heatmap** </span>\n",
    "   \n",
    "   <span style = 'color: red'> * **feature_importance_** </span>\n",
    "   \n",
    "   <span style = 'color: red'> * **SelectKBest** </span>"
   ]
  },
  {
   "cell_type": "markdown",
   "id": "0963675a",
   "metadata": {},
   "source": [
    "#### <span style = 'color: Orange'> * Shape of the Training Data </span>\n",
    "---"
   ]
  },
  {
   "cell_type": "code",
   "execution_count": 185,
   "id": "653f24cc",
   "metadata": {},
   "outputs": [
    {
     "data": {
      "text/plain": [
       "(10682, 30)"
      ]
     },
     "execution_count": 185,
     "metadata": {},
     "output_type": "execute_result"
    }
   ],
   "source": [
    "dataTrain.shape"
   ]
  },
  {
   "cell_type": "markdown",
   "id": "8e366efa",
   "metadata": {},
   "source": [
    "#### <span style = 'color: Orange'> * Shape of the Testing Data </span>\n",
    "---"
   ]
  },
  {
   "cell_type": "code",
   "execution_count": 186,
   "id": "18dc007a",
   "metadata": {},
   "outputs": [
    {
     "data": {
      "text/plain": [
       "(2671, 28)"
      ]
     },
     "execution_count": 186,
     "metadata": {},
     "output_type": "execute_result"
    }
   ],
   "source": [
    "dataTest.shape"
   ]
  },
  {
   "cell_type": "markdown",
   "id": "494a30d5",
   "metadata": {},
   "source": [
    "#### <span style = 'color: Orange'> * Columns of the Training Dataset </span>\n",
    "---"
   ]
  },
  {
   "cell_type": "code",
   "execution_count": 187,
   "id": "d98d5aee",
   "metadata": {},
   "outputs": [
    {
     "data": {
      "text/plain": [
       "Index(['Total_Stops', 'Price', 'Day_of_Journey', 'Month_of_Journey',\n",
       "       'Departue_Hour', 'Departure_Minute', 'Arrival_Hour', 'Arrival_Minute',\n",
       "       'Duration_Hours', 'Duration_Minutes', 'Airline_Air India',\n",
       "       'Airline_GoAir', 'Airline_IndiGo', 'Airline_Jet Airways',\n",
       "       'Airline_Jet Airways Business', 'Airline_Multiple carriers',\n",
       "       'Airline_Multiple carriers Premium economy', 'Airline_SpiceJet',\n",
       "       'Airline_Trujet', 'Airline_Vistara', 'Airline_Vistara Premium economy',\n",
       "       'Source_Chennai', 'Source_Delhi', 'Source_Kolkata', 'Source_Mumbai',\n",
       "       'Destination_Cochin', 'Destination_Delhi', 'Destination_Hyderabad',\n",
       "       'Destination_Kolkata', 'Destination_New Delhi'],\n",
       "      dtype='object')"
      ]
     },
     "execution_count": 187,
     "metadata": {},
     "output_type": "execute_result"
    }
   ],
   "source": [
    "dataTrain.columns"
   ]
  },
  {
   "cell_type": "markdown",
   "id": "64801c41",
   "metadata": {},
   "source": [
    "#### <span style = 'color: Orange'> * Storing All The Independent Features of the Training Dataset </span>\n",
    "---"
   ]
  },
  {
   "cell_type": "code",
   "execution_count": 188,
   "id": "0ba4586b",
   "metadata": {},
   "outputs": [],
   "source": [
    "X = dataTrain.loc[:, ['Total_Stops', 'Day_of_Journey', 'Month_of_Journey',\n",
    "       'Departue_Hour', 'Departure_Minute', 'Arrival_Hour', 'Arrival_Minute',\n",
    "       'Duration_Hours', 'Duration_Minutes', 'Airline_Air India',\n",
    "       'Airline_GoAir', 'Airline_IndiGo', 'Airline_Jet Airways',\n",
    "       'Airline_Jet Airways Business', 'Airline_Multiple carriers',\n",
    "       'Airline_Multiple carriers Premium economy', 'Airline_SpiceJet',\n",
    "       'Airline_Trujet', 'Airline_Vistara', 'Airline_Vistara Premium economy',\n",
    "       'Source_Chennai', 'Source_Delhi', 'Source_Kolkata', 'Source_Mumbai',\n",
    "       'Destination_Cochin', 'Destination_Delhi', 'Destination_Hyderabad',\n",
    "       'Destination_Kolkata', 'Destination_New Delhi']]"
   ]
  },
  {
   "cell_type": "code",
   "execution_count": 189,
   "id": "0dcd0b72",
   "metadata": {},
   "outputs": [
    {
     "data": {
      "text/html": [
       "<div><div id=74fc369b-973a-48ad-9663-34dfec276060 style=\"display:none; background-color:#9D6CFF; color:white; width:200px; height:30px; padding-left:5px; border-radius:4px; flex-direction:row; justify-content:space-around; align-items:center;\" onmouseover=\"this.style.backgroundColor='#BA9BF8'\" onmouseout=\"this.style.backgroundColor='#9D6CFF'\" onclick=\"window.commands?.execute('create-mitosheet-from-dataframe-output');\">See Full Dataframe in Mito</div> <script> if (window.commands?.hasCommand('create-mitosheet-from-dataframe-output')) document.getElementById('74fc369b-973a-48ad-9663-34dfec276060').style.display = 'flex' </script> <table border=\"1\" class=\"dataframe\">\n",
       "  <thead>\n",
       "    <tr style=\"text-align: right;\">\n",
       "      <th></th>\n",
       "      <th>Total_Stops</th>\n",
       "      <th>Day_of_Journey</th>\n",
       "      <th>Month_of_Journey</th>\n",
       "      <th>Departue_Hour</th>\n",
       "      <th>Departure_Minute</th>\n",
       "      <th>Arrival_Hour</th>\n",
       "      <th>Arrival_Minute</th>\n",
       "      <th>Duration_Hours</th>\n",
       "      <th>Duration_Minutes</th>\n",
       "      <th>Airline_Air India</th>\n",
       "      <th>Airline_GoAir</th>\n",
       "      <th>Airline_IndiGo</th>\n",
       "      <th>Airline_Jet Airways</th>\n",
       "      <th>Airline_Jet Airways Business</th>\n",
       "      <th>Airline_Multiple carriers</th>\n",
       "      <th>Airline_Multiple carriers Premium economy</th>\n",
       "      <th>Airline_SpiceJet</th>\n",
       "      <th>Airline_Trujet</th>\n",
       "      <th>Airline_Vistara</th>\n",
       "      <th>Airline_Vistara Premium economy</th>\n",
       "      <th>Source_Chennai</th>\n",
       "      <th>Source_Delhi</th>\n",
       "      <th>Source_Kolkata</th>\n",
       "      <th>Source_Mumbai</th>\n",
       "      <th>Destination_Cochin</th>\n",
       "      <th>Destination_Delhi</th>\n",
       "      <th>Destination_Hyderabad</th>\n",
       "      <th>Destination_Kolkata</th>\n",
       "      <th>Destination_New Delhi</th>\n",
       "    </tr>\n",
       "  </thead>\n",
       "  <tbody>\n",
       "    <tr>\n",
       "      <th>0</th>\n",
       "      <td>0</td>\n",
       "      <td>24</td>\n",
       "      <td>3</td>\n",
       "      <td>22</td>\n",
       "      <td>20</td>\n",
       "      <td>1</td>\n",
       "      <td>10</td>\n",
       "      <td>2</td>\n",
       "      <td>50</td>\n",
       "      <td>0</td>\n",
       "      <td>0</td>\n",
       "      <td>1</td>\n",
       "      <td>0</td>\n",
       "      <td>0</td>\n",
       "      <td>0</td>\n",
       "      <td>0</td>\n",
       "      <td>0</td>\n",
       "      <td>0</td>\n",
       "      <td>0</td>\n",
       "      <td>0</td>\n",
       "      <td>0</td>\n",
       "      <td>0</td>\n",
       "      <td>0</td>\n",
       "      <td>0</td>\n",
       "      <td>0</td>\n",
       "      <td>0</td>\n",
       "      <td>0</td>\n",
       "      <td>0</td>\n",
       "      <td>1</td>\n",
       "    </tr>\n",
       "    <tr>\n",
       "      <th>1</th>\n",
       "      <td>2</td>\n",
       "      <td>1</td>\n",
       "      <td>5</td>\n",
       "      <td>5</td>\n",
       "      <td>50</td>\n",
       "      <td>13</td>\n",
       "      <td>15</td>\n",
       "      <td>7</td>\n",
       "      <td>25</td>\n",
       "      <td>1</td>\n",
       "      <td>0</td>\n",
       "      <td>0</td>\n",
       "      <td>0</td>\n",
       "      <td>0</td>\n",
       "      <td>0</td>\n",
       "      <td>0</td>\n",
       "      <td>0</td>\n",
       "      <td>0</td>\n",
       "      <td>0</td>\n",
       "      <td>0</td>\n",
       "      <td>0</td>\n",
       "      <td>0</td>\n",
       "      <td>1</td>\n",
       "      <td>0</td>\n",
       "      <td>0</td>\n",
       "      <td>0</td>\n",
       "      <td>0</td>\n",
       "      <td>0</td>\n",
       "      <td>0</td>\n",
       "    </tr>\n",
       "    <tr>\n",
       "      <th>2</th>\n",
       "      <td>2</td>\n",
       "      <td>9</td>\n",
       "      <td>6</td>\n",
       "      <td>9</td>\n",
       "      <td>25</td>\n",
       "      <td>4</td>\n",
       "      <td>25</td>\n",
       "      <td>19</td>\n",
       "      <td>0</td>\n",
       "      <td>0</td>\n",
       "      <td>0</td>\n",
       "      <td>0</td>\n",
       "      <td>1</td>\n",
       "      <td>0</td>\n",
       "      <td>0</td>\n",
       "      <td>0</td>\n",
       "      <td>0</td>\n",
       "      <td>0</td>\n",
       "      <td>0</td>\n",
       "      <td>0</td>\n",
       "      <td>0</td>\n",
       "      <td>1</td>\n",
       "      <td>0</td>\n",
       "      <td>0</td>\n",
       "      <td>1</td>\n",
       "      <td>0</td>\n",
       "      <td>0</td>\n",
       "      <td>0</td>\n",
       "      <td>0</td>\n",
       "    </tr>\n",
       "    <tr>\n",
       "      <th>3</th>\n",
       "      <td>1</td>\n",
       "      <td>12</td>\n",
       "      <td>5</td>\n",
       "      <td>18</td>\n",
       "      <td>5</td>\n",
       "      <td>23</td>\n",
       "      <td>30</td>\n",
       "      <td>5</td>\n",
       "      <td>25</td>\n",
       "      <td>0</td>\n",
       "      <td>0</td>\n",
       "      <td>1</td>\n",
       "      <td>0</td>\n",
       "      <td>0</td>\n",
       "      <td>0</td>\n",
       "      <td>0</td>\n",
       "      <td>0</td>\n",
       "      <td>0</td>\n",
       "      <td>0</td>\n",
       "      <td>0</td>\n",
       "      <td>0</td>\n",
       "      <td>0</td>\n",
       "      <td>1</td>\n",
       "      <td>0</td>\n",
       "      <td>0</td>\n",
       "      <td>0</td>\n",
       "      <td>0</td>\n",
       "      <td>0</td>\n",
       "      <td>0</td>\n",
       "    </tr>\n",
       "    <tr>\n",
       "      <th>4</th>\n",
       "      <td>1</td>\n",
       "      <td>1</td>\n",
       "      <td>3</td>\n",
       "      <td>16</td>\n",
       "      <td>50</td>\n",
       "      <td>21</td>\n",
       "      <td>35</td>\n",
       "      <td>4</td>\n",
       "      <td>45</td>\n",
       "      <td>0</td>\n",
       "      <td>0</td>\n",
       "      <td>1</td>\n",
       "      <td>0</td>\n",
       "      <td>0</td>\n",
       "      <td>0</td>\n",
       "      <td>0</td>\n",
       "      <td>0</td>\n",
       "      <td>0</td>\n",
       "      <td>0</td>\n",
       "      <td>0</td>\n",
       "      <td>0</td>\n",
       "      <td>0</td>\n",
       "      <td>0</td>\n",
       "      <td>0</td>\n",
       "      <td>0</td>\n",
       "      <td>0</td>\n",
       "      <td>0</td>\n",
       "      <td>0</td>\n",
       "      <td>1</td>\n",
       "    </tr>\n",
       "  </tbody>\n",
       "</table></div>"
      ],
      "text/plain": [
       "   Total_Stops  Day_of_Journey  Month_of_Journey  Departue_Hour  \\\n",
       "0            0              24                 3             22   \n",
       "1            2               1                 5              5   \n",
       "2            2               9                 6              9   \n",
       "3            1              12                 5             18   \n",
       "4            1               1                 3             16   \n",
       "\n",
       "   Departure_Minute  Arrival_Hour  Arrival_Minute  Duration_Hours  \\\n",
       "0                20             1              10               2   \n",
       "1                50            13              15               7   \n",
       "2                25             4              25              19   \n",
       "3                 5            23              30               5   \n",
       "4                50            21              35               4   \n",
       "\n",
       "   Duration_Minutes  Airline_Air India  Airline_GoAir  Airline_IndiGo  \\\n",
       "0                50                  0              0               1   \n",
       "1                25                  1              0               0   \n",
       "2                 0                  0              0               0   \n",
       "3                25                  0              0               1   \n",
       "4                45                  0              0               1   \n",
       "\n",
       "   Airline_Jet Airways  Airline_Jet Airways Business  \\\n",
       "0                    0                             0   \n",
       "1                    0                             0   \n",
       "2                    1                             0   \n",
       "3                    0                             0   \n",
       "4                    0                             0   \n",
       "\n",
       "   Airline_Multiple carriers  Airline_Multiple carriers Premium economy  \\\n",
       "0                          0                                          0   \n",
       "1                          0                                          0   \n",
       "2                          0                                          0   \n",
       "3                          0                                          0   \n",
       "4                          0                                          0   \n",
       "\n",
       "   Airline_SpiceJet  Airline_Trujet  Airline_Vistara  \\\n",
       "0                 0               0                0   \n",
       "1                 0               0                0   \n",
       "2                 0               0                0   \n",
       "3                 0               0                0   \n",
       "4                 0               0                0   \n",
       "\n",
       "   Airline_Vistara Premium economy  Source_Chennai  Source_Delhi  \\\n",
       "0                                0               0             0   \n",
       "1                                0               0             0   \n",
       "2                                0               0             1   \n",
       "3                                0               0             0   \n",
       "4                                0               0             0   \n",
       "\n",
       "   Source_Kolkata  Source_Mumbai  Destination_Cochin  Destination_Delhi  \\\n",
       "0               0              0                   0                  0   \n",
       "1               1              0                   0                  0   \n",
       "2               0              0                   1                  0   \n",
       "3               1              0                   0                  0   \n",
       "4               0              0                   0                  0   \n",
       "\n",
       "   Destination_Hyderabad  Destination_Kolkata  Destination_New Delhi  \n",
       "0                      0                    0                      1  \n",
       "1                      0                    0                      0  \n",
       "2                      0                    0                      0  \n",
       "3                      0                    0                      0  \n",
       "4                      0                    0                      1  "
      ]
     },
     "execution_count": 189,
     "metadata": {},
     "output_type": "execute_result"
    }
   ],
   "source": [
    "X.head()"
   ]
  },
  {
   "cell_type": "code",
   "execution_count": 190,
   "id": "b5ff9ce9",
   "metadata": {},
   "outputs": [
    {
     "data": {
      "text/plain": [
       "0     3897\n",
       "1     7662\n",
       "2    13882\n",
       "3     6218\n",
       "4    13302\n",
       "Name: Price, dtype: int64"
      ]
     },
     "execution_count": 190,
     "metadata": {},
     "output_type": "execute_result"
    }
   ],
   "source": [
    "y = dataTrain.iloc[:,1 ]\n",
    "\n",
    "y.head()"
   ]
  },
  {
   "cell_type": "markdown",
   "id": "590e8c06",
   "metadata": {},
   "source": [
    "#### <span style = 'color: Orange'> * Correlation between Independent and Dependent Features </span>\n",
    "---"
   ]
  },
  {
   "cell_type": "code",
   "execution_count": 191,
   "id": "f5ecbe57",
   "metadata": {
    "scrolled": true
   },
   "outputs": [
    {
     "data": {
      "image/png": "[encoded data removed]",
      "text/plain": [
       "<Figure size 1296x1296 with 2 Axes>"
      ]
     },
     "metadata": {},
     "output_type": "display_data"
    }
   ],
   "source": [
    "plt.figure(figsize = (18,18))\n",
    "\n",
    "sns.heatmap(trainData.corr(), annot = True, cmap = 'RdYlGn')\n",
    "\n",
    "plt.show()"
   ]
  },
  {
   "cell_type": "markdown",
   "id": "19de5de9",
   "metadata": {},
   "source": [
    "---"
   ]
  },
  {
   "cell_type": "markdown",
   "id": "9dbfb88e",
   "metadata": {},
   "source": [
    "#### <span style = 'color: Orange'> * Extracting Important Features using ExtraTreeRrgressor </span>\n",
    "---\n",
    "\n",
    "   * The extra trees regressor algorithm is like the random forests algorithm, creates many decision trees, but the sampling for each tree is random, without replacement. \n",
    "   \n",
    "   \n",
    "   * This creates a dataset for each tree with unique samples. A specific number of features, from the total set of features, are also selected randomly for each tree."
   ]
  },
  {
   "cell_type": "markdown",
   "id": "46e1fee8",
   "metadata": {},
   "source": [
    "##### ➡️  <span style = 'color: Indigo'> Import Necessary Libraries </span>\n",
    "---"
   ]
  },
  {
   "cell_type": "code",
   "execution_count": 192,
   "id": "b02b0dd5",
   "metadata": {},
   "outputs": [],
   "source": [
    "from sklearn.ensemble import ExtraTreesRegressor"
   ]
  },
  {
   "cell_type": "code",
   "execution_count": 193,
   "id": "add9cf43",
   "metadata": {},
   "outputs": [
    {
     "data": {
      "text/plain": [
       "ExtraTreesRegressor()"
      ]
     },
     "execution_count": 193,
     "metadata": {},
     "output_type": "execute_result"
    }
   ],
   "source": [
    "featureSelection = ExtraTreesRegressor()\n",
    "\n",
    "featureSelection.fit(X,y)"
   ]
  },
  {
   "cell_type": "markdown",
   "id": "078617a7",
   "metadata": {},
   "source": [
    "##### ➡️  <span style = 'color: Indigo'> Important Features </span>\n",
    "---"
   ]
  },
  {
   "cell_type": "code",
   "execution_count": 194,
   "id": "7bc06ff1",
   "metadata": {},
   "outputs": [
    {
     "name": "stdout",
     "output_type": "stream",
     "text": [
      "[2.24543260e-01 1.44061387e-01 5.39889237e-02 2.49827503e-02\n",
      " 2.09051669e-02 2.73900879e-02 1.90251641e-02 1.25897028e-01\n",
      " 1.71474633e-02 9.53193628e-03 1.95028186e-03 1.78604978e-02\n",
      " 1.37759189e-01 6.74385013e-02 1.98132803e-02 8.70076912e-04\n",
      " 2.61958566e-03 1.03764352e-04 5.20271361e-03 9.11082250e-05\n",
      " 4.92227451e-04 1.33211262e-02 3.25103816e-03 6.53284347e-03\n",
      " 8.41640654e-03 1.42251075e-02 7.23207723e-03 4.44380862e-04\n",
      " 2.49026264e-02]\n"
     ]
    }
   ],
   "source": [
    "print(featureSelection.feature_importances_)"
   ]
  },
  {
   "cell_type": "markdown",
   "id": "0dbc66b0",
   "metadata": {},
   "source": [
    "##### ➡️  <span style = 'color: Indigo'> Visualisation of Important Features </span>\n",
    "---"
   ]
  },
  {
   "cell_type": "code",
   "execution_count": 195,
   "id": "34fc51e4",
   "metadata": {},
   "outputs": [
    {
     "data": {
      "image/png": "[encoded data removed]",
      "text/plain": [
       "<Figure size 864x576 with 1 Axes>"
      ]
     },
     "metadata": {},
     "output_type": "display_data"
    }
   ],
   "source": [
    "plt.figure(figsize = (12,8))\n",
    "\n",
    "featureImportance = pd.Series(featureSelection.feature_importances_, index = X.columns)\n",
    "\n",
    "featureImportance.nlargest(20).plot(kind = 'barh')\n",
    "\n",
    "plt.show()"
   ]
  },
  {
   "cell_type": "markdown",
   "id": "9d71067a",
   "metadata": {},
   "source": [
    "* From the above visualisation, <span style = 'color: green'> **Total_Stops** </span> has the highest importance followed by <span style = 'color: green'> **Day_of_Journey**, **Duration_Hours** ........ </span>"
   ]
  },
  {
   "cell_type": "markdown",
   "id": "31653cfe",
   "metadata": {},
   "source": [
    "----"
   ]
  },
  {
   "cell_type": "markdown",
   "id": "c39b2181",
   "metadata": {},
   "source": [
    "## <span style = 'color: Purple'> <i> * BUILDING THE MODEL </i> </span>\n",
    "---\n",
    "\n",
    "### <span style = 'color: Orange'> Fitting the Model using Random Forest </span>\n",
    "---\n",
    "\n",
    "1. Import the **train_test_split** package.\n",
    "\n",
    "\n",
    "2. Split the data into train and test set in order to predict with respect to X_test.\n",
    "\n",
    "\n",
    "3. Import the Random Forest Model.\n",
    "\n",
    "\n",
    "4. Fit the data into the model.\n",
    "\n",
    "\n",
    "5. In regression check **RSME** Score.\n",
    "\n",
    "\n",
    "6. Visualise the result. \n",
    "\n",
    "\n",
    "7. Do the scaling if required => Scaling is not done in Random Forest"
   ]
  },
  {
   "cell_type": "code",
   "execution_count": 196,
   "id": "ccc828a5",
   "metadata": {},
   "outputs": [],
   "source": [
    "from sklearn.model_selection import train_test_split"
   ]
  },
  {
   "cell_type": "code",
   "execution_count": 197,
   "id": "18553e6e",
   "metadata": {},
   "outputs": [],
   "source": [
    "X_train, X_test, y_train, y_test = train_test_split(X, y, test_size = 0.2, random_state = 42)"
   ]
  },
  {
   "cell_type": "code",
   "execution_count": 198,
   "id": "eece67e3",
   "metadata": {},
   "outputs": [],
   "source": [
    "from sklearn.ensemble import RandomForestRegressor"
   ]
  },
  {
   "cell_type": "code",
   "execution_count": 199,
   "id": "ba6556df",
   "metadata": {},
   "outputs": [
    {
     "data": {
      "text/plain": [
       "RandomForestRegressor()"
      ]
     },
     "execution_count": 199,
     "metadata": {},
     "output_type": "execute_result"
    }
   ],
   "source": [
    "reg_RF = RandomForestRegressor()\n",
    "reg_RF.fit(X_train, y_train)"
   ]
  },
  {
   "cell_type": "markdown",
   "id": "56abfc1e",
   "metadata": {},
   "source": [
    "##### ➡️ <span style = 'color:Indigo'> Prediction using the Test Set </span>\n",
    "---"
   ]
  },
  {
   "cell_type": "code",
   "execution_count": 200,
   "id": "27d0afa6",
   "metadata": {},
   "outputs": [],
   "source": [
    "y_Prediction = reg_RF.predict(X_test)"
   ]
  },
  {
   "cell_type": "markdown",
   "id": "8d3dcaf7",
   "metadata": {},
   "source": [
    "##### ➡️ <span style = 'color:Indigo'> Score of the Training Set </span>\n",
    "---"
   ]
  },
  {
   "cell_type": "code",
   "execution_count": 201,
   "id": "df277963",
   "metadata": {},
   "outputs": [
    {
     "name": "stdout",
     "output_type": "stream",
     "text": [
      "Score of the model using Training dataset: 95.34%\n"
     ]
    }
   ],
   "source": [
    "print(f\"Score of the model using Training dataset: {round((reg_RF.score(X_train, y_train)) * 100, 2)}%\")"
   ]
  },
  {
   "cell_type": "markdown",
   "id": "0509a026",
   "metadata": {},
   "source": [
    "##### ➡️ <span style = 'color:Indigo'> Score of the Testing Set </span>\n",
    "---"
   ]
  },
  {
   "cell_type": "code",
   "execution_count": 202,
   "id": "76241c5d",
   "metadata": {},
   "outputs": [
    {
     "name": "stdout",
     "output_type": "stream",
     "text": [
      "Score of the model using the Test dataset : 79.92%\n"
     ]
    }
   ],
   "source": [
    "print(f\"Score of the model using the Test dataset : {round(reg_RF.score(X_test, y_test) * 100, 2)}%\")"
   ]
  },
  {
   "cell_type": "markdown",
   "id": "c5536011",
   "metadata": {},
   "source": [
    "##### ➡️ <span style = 'color:Indigo'> Visualisation of the Prediction </span>\n",
    "---\n",
    "\n",
    "* The Gaussian Distribution"
   ]
  },
  {
   "cell_type": "code",
   "execution_count": 203,
   "id": "e8ba4765",
   "metadata": {},
   "outputs": [
    {
     "data": {
      "image/png": "[encoded data removed]",
      "text/plain": [
       "<Figure size 360x360 with 1 Axes>"
      ]
     },
     "metadata": {},
     "output_type": "display_data"
    }
   ],
   "source": [
    "sns.displot(y_test - y_Prediction)\n",
    "plt.show()"
   ]
  },
  {
   "cell_type": "code",
   "execution_count": 204,
   "id": "8cf72750",
   "metadata": {},
   "outputs": [
    {
     "data": {
      "image/png": "[encoded data removed]",
      "text/plain": [
       "<Figure size 432x288 with 1 Axes>"
      ]
     },
     "metadata": {},
     "output_type": "display_data"
    }
   ],
   "source": [
    "plt.scatter(y_test, y_Prediction, alpha = 0.5)\n",
    "plt.xlabel(\"y_test\")\n",
    "plt.ylabel(\"y_Prediction\")\n",
    "plt.show()"
   ]
  },
  {
   "cell_type": "code",
   "execution_count": 205,
   "id": "3d868bff",
   "metadata": {},
   "outputs": [],
   "source": [
    "from sklearn import metrics"
   ]
  },
  {
   "cell_type": "code",
   "execution_count": 206,
   "id": "af19f41b",
   "metadata": {},
   "outputs": [
    {
     "name": "stdout",
     "output_type": "stream",
     "text": [
      "Mean Absolute Error: 1169.94\n",
      "\n",
      "Mean Squared Error: 4330539.72\n",
      "\n",
      "Root Mean Squared Error: 2080.99\n",
      "\n",
      "The R2 Score : 79.92\n"
     ]
    }
   ],
   "source": [
    "print(f\"Mean Absolute Error: {round(metrics.mean_absolute_error(y_test, y_Prediction), 2)}\")\n",
    "print()\n",
    "\n",
    "print(f\"Mean Squared Error: {round(metrics.mean_squared_error(y_test, y_Prediction), 2)}\")\n",
    "print()\n",
    "\n",
    "print(f\"Root Mean Squared Error: {round(np.sqrt(metrics.mean_squared_error(y_test, y_Prediction)), 2)}\")\n",
    "print()\n",
    "\n",
    "print(f\"The R2 Score : {round((metrics.r2_score(y_test, y_Prediction) * 100), 2)}\")"
   ]
  },
  {
   "cell_type": "markdown",
   "id": "1348ec88",
   "metadata": {},
   "source": [
    "---"
   ]
  },
  {
   "cell_type": "markdown",
   "id": "37061340",
   "metadata": {},
   "source": [
    "### <span style = 'color: Orange'> HYPER PARAMETER TUNNING </span>\n",
    "---\n",
    "\n",
    "* While training a machine learning model, each model and datasets needs a different set of hyperparameters which are a kind of variables.\n",
    "\n",
    "\n",
    "* The only way to determine these is through multiple experiments, where you pick a set of hyperparameters and run them through your model. This is called hyperparameter tuning.\n",
    "\n",
    "\n",
    "1. **RandomizedSearchCV** --> Fast\n",
    "2. **GridSearchCV**\n",
    "\n",
    "* Assign hyperparameters in form of dictionery\n",
    "* Fit the model\n",
    "* Check best paramters and best score"
   ]
  },
  {
   "cell_type": "code",
   "execution_count": 207,
   "id": "70d891b3",
   "metadata": {},
   "outputs": [],
   "source": [
    "from sklearn.model_selection import RandomizedSearchCV"
   ]
  },
  {
   "cell_type": "code",
   "execution_count": 208,
   "id": "088c2bb2",
   "metadata": {},
   "outputs": [],
   "source": [
    "# Number of Trees in Random Forest\n",
    "n_estimators = [int(x) for x in np.linspace(start = 100, stop = 1200, num = 12)]\n",
    "\n",
    "# Number of Features to be considered at every split\n",
    "max_features = ['auto', 'sqrt']\n",
    "\n",
    "# Maximum number of Levels in a Tree\n",
    "max_depth = [int(x) for x in np.linspace(5, 30, num = 6)]\n",
    "\n",
    "# Minimum number of samples required to split the nodes\n",
    "min_samples_split = [2, 5, 10, 15, 100]\n",
    "\n",
    "# Minimum number of samples required at each leaf node\n",
    "min_samples_leaf = [1, 2, 5, 10]"
   ]
  },
  {
   "cell_type": "markdown",
   "id": "3eb76dc5",
   "metadata": {},
   "source": [
    "#### <span style = 'color:Indigo'> Creating a Randon Grid </span>"
   ]
  },
  {
   "cell_type": "code",
   "execution_count": 209,
   "id": "e114bf14",
   "metadata": {},
   "outputs": [],
   "source": [
    "random_grid = {'n_estimators': n_estimators,\n",
    "               'max_features': max_features,\n",
    "               'max_depth': max_depth,\n",
    "               'min_samples_split': min_samples_split,\n",
    "               'min_samples_leaf': min_samples_leaf\n",
    "              }"
   ]
  },
  {
   "cell_type": "markdown",
   "id": "340c4aef",
   "metadata": {},
   "source": [
    "#### <span style = 'color:Indigo'> Initialzing The Model (RandomizedSearchCV) to a variable </span>\n",
    "---\n",
    "\n",
    "\n",
    "* Random search of parameters, using <span style = 'color: green'> **5 fold cross validation** <span>\n",
    "\n",
    "    \n",
    "* Search across 100 different combinations"
   ]
  },
  {
   "cell_type": "code",
   "execution_count": 210,
   "id": "564592cb",
   "metadata": {},
   "outputs": [],
   "source": [
    "rf_Random = RandomizedSearchCV(estimator = reg_RF, param_distributions = random_grid, scoring = 'neg_mean_squared_error', n_iter = 10, verbose = 2, random_state = 42, n_jobs = 1)"
   ]
  },
  {
   "cell_type": "markdown",
   "id": "9ae9f7fe",
   "metadata": {},
   "source": [
    "#### <span style = 'color: Indigo'> * Fitting the Dataset into the Model </span>"
   ]
  },
  {
   "cell_type": "code",
   "execution_count": 211,
   "id": "b246870e",
   "metadata": {},
   "outputs": [
    {
     "name": "stdout",
     "output_type": "stream",
     "text": [
      "Fitting 5 folds for each of 10 candidates, totalling 50 fits\n",
      "[CV] END max_depth=10, max_features=sqrt, min_samples_leaf=5, min_samples_split=5, n_estimators=900; total time=   2.3s\n",
      "[CV] END max_depth=10, max_features=sqrt, min_samples_leaf=5, min_samples_split=5, n_estimators=900; total time=   2.3s\n",
      "[CV] END max_depth=10, max_features=sqrt, min_samples_leaf=5, min_samples_split=5, n_estimators=900; total time=   2.3s\n",
      "[CV] END max_depth=10, max_features=sqrt, min_samples_leaf=5, min_samples_split=5, n_estimators=900; total time=   2.3s\n",
      "[CV] END max_depth=10, max_features=sqrt, min_samples_leaf=5, min_samples_split=5, n_estimators=900; total time=   2.3s\n",
      "[CV] END max_depth=15, max_features=sqrt, min_samples_leaf=2, min_samples_split=10, n_estimators=1100; total time=   3.5s\n",
      "[CV] END max_depth=15, max_features=sqrt, min_samples_leaf=2, min_samples_split=10, n_estimators=1100; total time=   3.5s\n",
      "[CV] END max_depth=15, max_features=sqrt, min_samples_leaf=2, min_samples_split=10, n_estimators=1100; total time=   3.5s\n",
      "[CV] END max_depth=15, max_features=sqrt, min_samples_leaf=2, min_samples_split=10, n_estimators=1100; total time=   3.5s\n",
      "[CV] END max_depth=15, max_features=sqrt, min_samples_leaf=2, min_samples_split=10, n_estimators=1100; total time=   3.6s\n",
      "[CV] END max_depth=15, max_features=auto, min_samples_leaf=5, min_samples_split=100, n_estimators=300; total time=   2.3s\n",
      "[CV] END max_depth=15, max_features=auto, min_samples_leaf=5, min_samples_split=100, n_estimators=300; total time=   2.3s\n",
      "[CV] END max_depth=15, max_features=auto, min_samples_leaf=5, min_samples_split=100, n_estimators=300; total time=   2.2s\n",
      "[CV] END max_depth=15, max_features=auto, min_samples_leaf=5, min_samples_split=100, n_estimators=300; total time=   2.2s\n",
      "[CV] END max_depth=15, max_features=auto, min_samples_leaf=5, min_samples_split=100, n_estimators=300; total time=   2.3s\n",
      "[CV] END max_depth=15, max_features=auto, min_samples_leaf=5, min_samples_split=5, n_estimators=400; total time=   4.2s\n",
      "[CV] END max_depth=15, max_features=auto, min_samples_leaf=5, min_samples_split=5, n_estimators=400; total time=   4.2s\n",
      "[CV] END max_depth=15, max_features=auto, min_samples_leaf=5, min_samples_split=5, n_estimators=400; total time=   4.1s\n",
      "[CV] END max_depth=15, max_features=auto, min_samples_leaf=5, min_samples_split=5, n_estimators=400; total time=   4.1s\n",
      "[CV] END max_depth=15, max_features=auto, min_samples_leaf=5, min_samples_split=5, n_estimators=400; total time=   4.2s\n",
      "[CV] END max_depth=20, max_features=auto, min_samples_leaf=10, min_samples_split=5, n_estimators=700; total time=   6.3s\n",
      "[CV] END max_depth=20, max_features=auto, min_samples_leaf=10, min_samples_split=5, n_estimators=700; total time=   6.4s\n",
      "[CV] END max_depth=20, max_features=auto, min_samples_leaf=10, min_samples_split=5, n_estimators=700; total time=   6.4s\n",
      "[CV] END max_depth=20, max_features=auto, min_samples_leaf=10, min_samples_split=5, n_estimators=700; total time=   6.3s\n",
      "[CV] END max_depth=20, max_features=auto, min_samples_leaf=10, min_samples_split=5, n_estimators=700; total time=   6.4s\n",
      "[CV] END max_depth=25, max_features=sqrt, min_samples_leaf=1, min_samples_split=2, n_estimators=1000; total time=   5.1s\n",
      "[CV] END max_depth=25, max_features=sqrt, min_samples_leaf=1, min_samples_split=2, n_estimators=1000; total time=   5.1s\n",
      "[CV] END max_depth=25, max_features=sqrt, min_samples_leaf=1, min_samples_split=2, n_estimators=1000; total time=   5.0s\n",
      "[CV] END max_depth=25, max_features=sqrt, min_samples_leaf=1, min_samples_split=2, n_estimators=1000; total time=   5.1s\n",
      "[CV] END max_depth=25, max_features=sqrt, min_samples_leaf=1, min_samples_split=2, n_estimators=1000; total time=   5.0s\n",
      "[CV] END max_depth=5, max_features=sqrt, min_samples_leaf=10, min_samples_split=15, n_estimators=1100; total time=   1.8s\n",
      "[CV] END max_depth=5, max_features=sqrt, min_samples_leaf=10, min_samples_split=15, n_estimators=1100; total time=   1.8s\n",
      "[CV] END max_depth=5, max_features=sqrt, min_samples_leaf=10, min_samples_split=15, n_estimators=1100; total time=   1.8s\n",
      "[CV] END max_depth=5, max_features=sqrt, min_samples_leaf=10, min_samples_split=15, n_estimators=1100; total time=   1.8s\n",
      "[CV] END max_depth=5, max_features=sqrt, min_samples_leaf=10, min_samples_split=15, n_estimators=1100; total time=   1.8s\n",
      "[CV] END max_depth=15, max_features=sqrt, min_samples_leaf=1, min_samples_split=15, n_estimators=300; total time=   0.9s\n",
      "[CV] END max_depth=15, max_features=sqrt, min_samples_leaf=1, min_samples_split=15, n_estimators=300; total time=   0.9s\n",
      "[CV] END max_depth=15, max_features=sqrt, min_samples_leaf=1, min_samples_split=15, n_estimators=300; total time=   1.0s\n",
      "[CV] END max_depth=15, max_features=sqrt, min_samples_leaf=1, min_samples_split=15, n_estimators=300; total time=   1.0s\n",
      "[CV] END max_depth=15, max_features=sqrt, min_samples_leaf=1, min_samples_split=15, n_estimators=300; total time=   0.9s\n",
      "[CV] END max_depth=5, max_features=sqrt, min_samples_leaf=2, min_samples_split=10, n_estimators=700; total time=   1.2s\n",
      "[CV] END max_depth=5, max_features=sqrt, min_samples_leaf=2, min_samples_split=10, n_estimators=700; total time=   1.2s\n",
      "[CV] END max_depth=5, max_features=sqrt, min_samples_leaf=2, min_samples_split=10, n_estimators=700; total time=   1.2s\n",
      "[CV] END max_depth=5, max_features=sqrt, min_samples_leaf=2, min_samples_split=10, n_estimators=700; total time=   1.2s\n",
      "[CV] END max_depth=5, max_features=sqrt, min_samples_leaf=2, min_samples_split=10, n_estimators=700; total time=   1.2s\n",
      "[CV] END max_depth=20, max_features=auto, min_samples_leaf=1, min_samples_split=15, n_estimators=700; total time=   8.0s\n",
      "[CV] END max_depth=20, max_features=auto, min_samples_leaf=1, min_samples_split=15, n_estimators=700; total time=   7.8s\n",
      "[CV] END max_depth=20, max_features=auto, min_samples_leaf=1, min_samples_split=15, n_estimators=700; total time=   7.7s\n",
      "[CV] END max_depth=20, max_features=auto, min_samples_leaf=1, min_samples_split=15, n_estimators=700; total time=   7.7s\n",
      "[CV] END max_depth=20, max_features=auto, min_samples_leaf=1, min_samples_split=15, n_estimators=700; total time=   7.8s\n"
     ]
    },
    {
     "data": {
      "text/plain": [
       "RandomizedSearchCV(estimator=RandomForestRegressor(), n_jobs=1,\n",
       "                   param_distributions={'max_depth': [5, 10, 15, 20, 25, 30],\n",
       "                                        'max_features': ['auto', 'sqrt'],\n",
       "                                        'min_samples_leaf': [1, 2, 5, 10],\n",
       "                                        'min_samples_split': [2, 5, 10, 15,\n",
       "                                                              100],\n",
       "                                        'n_estimators': [100, 200, 300, 400,\n",
       "                                                         500, 600, 700, 800,\n",
       "                                                         900, 1000, 1100,\n",
       "                                                         1200]},\n",
       "                   random_state=42, scoring='neg_mean_squared_error',\n",
       "                   verbose=2)"
      ]
     },
     "execution_count": 211,
     "metadata": {},
     "output_type": "execute_result"
    }
   ],
   "source": [
    "rf_Random.fit(X_train, y_train)"
   ]
  },
  {
   "cell_type": "markdown",
   "id": "7ceab6ed",
   "metadata": {},
   "source": [
    "#### <span style = 'color: Indigo'> * Fitting the Dataset into the Model </span>"
   ]
  },
  {
   "cell_type": "code",
   "execution_count": 212,
   "id": "34079da9",
   "metadata": {},
   "outputs": [
    {
     "data": {
      "text/plain": [
       "{'n_estimators': 700,\n",
       " 'min_samples_split': 15,\n",
       " 'min_samples_leaf': 1,\n",
       " 'max_features': 'auto',\n",
       " 'max_depth': 20}"
      ]
     },
     "execution_count": 212,
     "metadata": {},
     "output_type": "execute_result"
    }
   ],
   "source": [
    "rf_Random.best_params_"
   ]
  },
  {
   "cell_type": "markdown",
   "id": "84446822",
   "metadata": {},
   "source": [
    "##### ➡️ <span style = 'color:Indigo'> Prediction using the Test Set </span>\n",
    "---"
   ]
  },
  {
   "cell_type": "code",
   "execution_count": 213,
   "id": "4107026d",
   "metadata": {},
   "outputs": [],
   "source": [
    "prediction = rf_Random.predict(X_test)"
   ]
  },
  {
   "cell_type": "markdown",
   "id": "273a1118",
   "metadata": {},
   "source": [
    "##### ➡️ <span style = 'color:Indigo'> Visualisation of the Prediction </span>\n",
    "---\n",
    "\n",
    "* The Gaussian Distribution"
   ]
  },
  {
   "cell_type": "code",
   "execution_count": 214,
   "id": "3fff11e8",
   "metadata": {},
   "outputs": [
    {
     "data": {
      "image/png": "[encoded data removed]",
      "text/plain": [
       "<Figure size 576x576 with 1 Axes>"
      ]
     },
     "metadata": {},
     "output_type": "display_data"
    }
   ],
   "source": [
    "plt.figure(figsize=(8,8))\n",
    "sns.distplot(y_test - prediction)\n",
    "plt.show()"
   ]
  },
  {
   "cell_type": "code",
   "execution_count": 215,
   "id": "654da7b6",
   "metadata": {},
   "outputs": [
    {
     "data": {
      "image/png": "[encoded data removed]",
      "text/plain": [
       "<Figure size 576x576 with 1 Axes>"
      ]
     },
     "metadata": {},
     "output_type": "display_data"
    }
   ],
   "source": [
    "plt.figure(figsize = (8,8))\n",
    "plt.scatter(y_test, prediction, alpha = 0.5)\n",
    "plt.xlabel('y_test')\n",
    "plt.ylabel('prediction')\n",
    "plt.show()"
   ]
  },
  {
   "cell_type": "code",
   "execution_count": 216,
   "id": "9d91571b",
   "metadata": {},
   "outputs": [
    {
     "name": "stdout",
     "output_type": "stream",
     "text": [
      "Mean Absolute Error: 1162.24\n",
      "\n",
      "Mean Squared Error: 4039314.44\n",
      "\n",
      "Root Mean Squared Error: 2009.8\n",
      "\n"
     ]
    }
   ],
   "source": [
    "print(f\"Mean Absolute Error: {round(metrics.mean_absolute_error(y_test, prediction), 2)}\")\n",
    "print()\n",
    "\n",
    "print(f\"Mean Squared Error: {round(metrics.mean_squared_error(y_test, prediction), 2)}\")\n",
    "print()\n",
    "\n",
    "print(f\"Root Mean Squared Error: {round(np.sqrt(metrics.mean_squared_error(y_test, prediction)), 2)}\")\n",
    "print()"
   ]
  },
  {
   "cell_type": "markdown",
   "id": "b10eaa63",
   "metadata": {},
   "source": [
    "---"
   ]
  },
  {
   "cell_type": "markdown",
   "id": "95620de3",
   "metadata": {},
   "source": [
    "## <span style = 'color: Purple'> <i> * PICKLE MODEL (SAVING THE MODEL FOR REUSE) </i> </span>\n",
    "---"
   ]
  },
  {
   "cell_type": "code",
   "execution_count": 223,
   "id": "82198297",
   "metadata": {},
   "outputs": [],
   "source": [
    "import pickle"
   ]
  },
  {
   "cell_type": "markdown",
   "id": "9202bc18",
   "metadata": {},
   "source": [
    "### <span style = 'color : Orange'> * Open the file where you want to store the data </span>\n",
    "---"
   ]
  },
  {
   "cell_type": "code",
   "execution_count": 224,
   "id": "b6f066eb",
   "metadata": {},
   "outputs": [],
   "source": [
    "file = open('flight_rf.pkl', 'wb')"
   ]
  },
  {
   "cell_type": "markdown",
   "id": "b9d22bab",
   "metadata": {},
   "source": [
    "### <span style = 'color : Orange'> * Dump the information to the file </span>\n",
    "---"
   ]
  },
  {
   "cell_type": "code",
   "execution_count": 225,
   "id": "1d1f1a07",
   "metadata": {},
   "outputs": [],
   "source": [
    "pickle.dump(reg_RF, file)"
   ]
  },
  {
   "cell_type": "code",
   "execution_count": 226,
   "id": "b87594d4",
   "metadata": {},
   "outputs": [],
   "source": [
    "model = open('flight_rf.pkl', 'rb')\n",
    "forest = pickle.load(model)"
   ]
  },
  {
   "cell_type": "markdown",
   "id": "a6e919f5",
   "metadata": {},
   "source": [
    "---"
   ]
  },
  {
   "cell_type": "markdown",
   "id": "0e5b2d0e",
   "metadata": {},
   "source": [
    "## <span style = 'color:Gold'> <i> SCORE OF THE MODEL AFTER HYPER PARAMETER TUNNING </i> </span>\n",
    "---"
   ]
  },
  {
   "cell_type": "markdown",
   "id": "4fd56bf9",
   "metadata": {},
   "source": [
    "### <span style = 'color:Purple'> * Score of the Predictive Model After Hyper Parameter Tunning </span>\n",
    "---"
   ]
  },
  {
   "cell_type": "code",
   "execution_count": 221,
   "id": "a8cafac4",
   "metadata": {},
   "outputs": [],
   "source": [
    "y_prediction = forest.predict(X_test)"
   ]
  },
  {
   "cell_type": "code",
   "execution_count": 222,
   "id": "9cdf08cd",
   "metadata": {},
   "outputs": [
    {
     "name": "stdout",
     "output_type": "stream",
     "text": [
      "The score of the predictive model after Hyper Parameter Tunning : 81.27%\n"
     ]
    }
   ],
   "source": [
    "print(f\"The score of the predictive model after Hyper Parameter Tunning : {round((metrics.r2_score(y_test, prediction) * 100), 2)}%\")"
   ]
  },
  {
   "cell_type": "markdown",
   "id": "78f66c4d",
   "metadata": {},
   "source": [
    "---"
   ]
  }
 ],
 "metadata": {
  "kernelspec": {
   "display_name": "Python 3 (ipykernel)",
   "language": "python",
   "name": "python3"
  },
  "language_info": {
   "codemirror_mode": {
    "name": "ipython",
    "version": 3
   },
   "file_extension": ".py",
   "mimetype": "text/x-python",
   "name": "python",
   "nbconvert_exporter": "python",
   "pygments_lexer": "ipython3",
   "version": "3.9.12"
  }
 },
 "nbformat": 4,
 "nbformat_minor": 5
}
